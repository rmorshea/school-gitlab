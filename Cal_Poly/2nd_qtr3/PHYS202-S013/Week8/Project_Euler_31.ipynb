{
 "metadata": {
  "name": ""
 },
 "nbformat": 3,
 "nbformat_minor": 0,
 "worksheets": [
  {
   "cells": [
    {
     "cell_type": "markdown",
     "metadata": {},
     "source": [
      "Project Euler 31\n",
      "="
     ]
    },
    {
     "cell_type": "markdown",
     "metadata": {},
     "source": [
      "In England the currency is made up of pound, \u00a3, and pence, p, and there are eight coins in general circulation:\n",
      "\n",
      "1p, 2p, 5p, 10p, 20p, 50p, \u00a31 (100p) and \u00a32 (200p).\n",
      "It is possible to make \u00a32 in the following way:\n",
      "\n",
      "1\u00a31 + 1x50p + 2x20p + 1x5p + 1x2p + 3x1p\n",
      "How many different ways can \u00a32 be made using any number of coins?"
     ]
    },
    {
     "cell_type": "code",
     "collapsed": false,
     "input": [
      "goal = 200\n",
      "counter = 0\n",
      "for a in range(201):\n",
      "    for b in range(101):\n",
      "        for c in range(41):\n",
      "            for d in range(21):\n",
      "                for e in range(11):\n",
      "                    for f in range(5):\n",
      "                        for g in range(3):\n",
      "                            if (a*1)+(b*2)+(c*5)+(d*10)+(e*20)+(f*50)+(g*100)==goal:\n",
      "                                counter +=1\n",
      "#counter pluss 1 because the single 2 pound coin case is not included in the loops.\n",
      "print counter+1"
     ],
     "language": "python",
     "metadata": {},
     "outputs": [
      {
       "output_type": "stream",
       "stream": "stdout",
       "text": [
        "73682\n"
       ]
      }
     ],
     "prompt_number": 1
    },
    {
     "cell_type": "code",
     "collapsed": false,
     "input": [],
     "language": "python",
     "metadata": {},
     "outputs": []
    }
   ],
   "metadata": {}
  }
 ]
}