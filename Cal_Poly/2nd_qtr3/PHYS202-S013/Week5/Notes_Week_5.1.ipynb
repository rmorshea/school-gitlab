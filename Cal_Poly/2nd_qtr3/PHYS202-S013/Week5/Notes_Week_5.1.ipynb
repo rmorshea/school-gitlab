{
 "metadata": {
  "name": "Notes_Week_5.1"
 },
 "nbformat": 3,
 "nbformat_minor": 0,
 "worksheets": [
  {
   "cells": [
    {
     "cell_type": "markdown",
     "metadata": {},
     "source": [
      "Integration\n",
      "="
     ]
    },
    {
     "cell_type": "code",
     "collapsed": false,
     "input": [
      "def trap_int(a,b,n,F):\n",
      "    \"\"\"does the trapazoidal integral between a and b with n divisions.'a' and 'b' should be floats and n should be an int. 'f' should be a function of the variable 'x' of the form 'lambda x: (function)'.\"\"\"\n",
      "    dx = (b-a)/n\n",
      "    s = .5*F(a)+.5*F(b)\n",
      "    for k in range (1,n):\n",
      "        s += F(a+k*dx)\n",
      "    return dx*s\n",
      "\n",
      "f = lambda x: (x**4-2*x+1)\n",
      "\n",
      "print 'ANALYTICAL RESULT:'\n",
      "print 'df/dx = 4.4'\n",
      "print\n",
      "print '------------------------------------------------'\n",
      "print\n",
      "print 'CALCULATED RESULTS:'\n",
      "print 'n = 10 , trap_int =',trap_int(0.,2.,10,f)\n",
      "print 'n = 100 , trap_int =', trap_int(0.,2.,100,f)\n",
      "print 'n = 1000 , trap_int =', trap_int(0.,2.,1000,f)"
     ],
     "language": "python",
     "metadata": {},
     "outputs": [
      {
       "output_type": "stream",
       "stream": "stdout",
       "text": [
        "ANALYTICAL RESULT:\n",
        "df/dx = 4.4\n",
        "\n",
        "------------------------------------------------\n",
        "\n",
        "CALCULATED RESULTS:\n",
        "n = 10 , trap_int = 4.50656\n",
        "n = 100 , trap_int = 4.401066656\n",
        "n = 1000 , trap_int = 4.40001066667\n"
       ]
      }
     ],
     "prompt_number": 3
    },
    {
     "cell_type": "markdown",
     "metadata": {},
     "source": [
      "Ex_1 & Ex_2\n",
      "-"
     ]
    },
    {
     "cell_type": "code",
     "collapsed": false,
     "input": [
      "def simp_int(a,b,n,F):\n",
      "    \"\"\"does Simpson's integral between a and b with n divisions.'a' and 'b' should be floats and n should be an int. 'f' should be a function of the variable 'x' of the form 'lambda x: (function)'.\"\"\"\n",
      "    if n%2 != 0:\n",
      "        return 'error: variable (n) must be even'\n",
      "    else:\n",
      "        dx = (b-a)/n\n",
      "        s = (F(a)+F(b))\n",
      "        for k in range(1,(n/2+1)):\n",
      "            s += 4*F(a+(2*k-1)*dx)\n",
      "        for k in range(1,(n/2)):\n",
      "            s += 2*F(a+2*k*dx)\n",
      "        return dx*s/3\n",
      "\n",
      "f = lambda x: (x**4-2*x+1)\n",
      "\n",
      "\n",
      "print 'ANALYTICAL RESULT:'\n",
      "print 'df/dx = 4.4'\n",
      "print\n",
      "print '------------------------------------------------'\n",
      "print\n",
      "print 'CALUCULATED RESULTS:'    \n",
      "print 'n = 10 , simp_int =',simp_int(0.,2.,10,f)\n",
      "print 'FRACTIONAL ERROR:'\n",
      "print '%',100*((simp_int(0.,2.,10,f)-4.4)/4.4)\n",
      "print\n",
      "print 'n = 100 , simp_int =', simp_int(0.,2.,100,f)\n",
      "print 'FRACTIONAL ERROR:'\n",
      "print '%',100*((simp_int(0.,2.,100,f)-4.4)/4.4)\n",
      "print\n",
      "print 'n = 1000 , simp_int =', simp_int(0.,2.,1000,f)\n",
      "print 'FRACTIONAL ERROR:'\n",
      "print '%',100*((simp_int(0.,2.,1000,f)-4.4)/4.4)\n",
      "print\n",
      "print '------------------------------------------------'\n",
      "print\n",
      "print 'SIMPSON IMPROVEMENT:'\n",
      "print 'n=10 - n=100, difference =',simp_int(0.,2.,10,f)-simp_int(0.,2.,100,f)\n",
      "print 'n=100 - n=1000, difference =',simp_int(0.,2.,100,f)-simp_int(0.,2.,1000,f)\n",
      "print 'n=1000 - n=10000, difference =',simp_int(0.,2.,1000,f)-simp_int(0.,2.,10000,f)\n",
      "print\n",
      "print '------------------------------------------------'\n",
      "print\n",
      "print 'SIMPSON AND TRAPAZOIDAL COMPARISON:'\n",
      "print 'n = 10 comparison, difference =',trap_int(0.,2.,10,f)-simp_int(0.,2.,10,f)\n",
      "print 'n = 100 comparison, difference =',trap_int(0.,2.,100,f)-simp_int(0.,2.,100,f)\n",
      "print 'n = 1000 comparison, difference =',trap_int(0.,2.,1000,f)-simp_int(0.,2.,1000,f)"
     ],
     "language": "python",
     "metadata": {},
     "outputs": [
      {
       "output_type": "stream",
       "stream": "stdout",
       "text": [
        "ANALYTICAL RESULT:\n",
        "df/dx = 4.4\n",
        "\n",
        "------------------------------------------------\n",
        "\n",
        "CALUCULATED RESULTS:\n",
        "n = 10 , simp_int = 4.40042666667\n",
        "FRACTIONAL ERROR:\n",
        "% 0.00969696969699\n",
        "\n",
        "n = 100 , simp_int = 4.40000004267\n",
        "FRACTIONAL ERROR:\n",
        "% 9.69696969187e-07\n",
        "\n",
        "n = 1000 , simp_int = 4.4\n",
        "FRACTIONAL ERROR:\n",
        "% 9.69527488595e-11\n",
        "\n",
        "------------------------------------------------\n",
        "\n",
        "SIMPSON IMPROVEMENT:\n",
        "n=10 - n=100, difference = 0.000426624000001\n",
        "n=100 - n=1000, difference = 4.26624007233e-08\n",
        "n=1000 - n=10000, difference = 4.26414459298e-12\n",
        "\n",
        "------------------------------------------------\n",
        "\n",
        "SIMPSON AND TRAPAZOIDAL COMPARISON:\n",
        "n = 10 comparison, difference = 0.106133333333\n",
        "n = 100 comparison, difference = 0.00106661333333\n",
        "n = 1000 comparison, difference = 1.06666613346e-05\n"
       ]
      }
     ],
     "prompt_number": 4
    },
    {
     "cell_type": "markdown",
     "metadata": {},
     "source": [
      "Example_2: General Integration (quad)\n",
      "-"
     ]
    },
    {
     "cell_type": "code",
     "collapsed": false,
     "input": [
      "import scipy.integrate as integrate\n",
      "from scipy.special import jv\n",
      "result = integrate.quad(lambda x: jv(2.5,x),0,4.5)\n",
      "print result"
     ],
     "language": "python",
     "metadata": {},
     "outputs": [
      {
       "output_type": "stream",
       "stream": "stdout",
       "text": [
        "(1.1178179380783249, 7.866317182537226e-09)\n"
       ]
      }
     ],
     "prompt_number": 2
    },
    {
     "cell_type": "code",
     "collapsed": false,
     "input": [
      "from scipy.special import fresnel\n",
      "I = sqrt(2/pi)*(18.0/27*sqrt(2)*cos(4.5)-4.0/27*sqrt(2)*sin(4.5)+sqrt(2*pi)*fresnel(3/sqrt(pi))[0])\n",
      "print I"
     ],
     "language": "python",
     "metadata": {},
     "outputs": [
      {
       "output_type": "stream",
       "stream": "stdout",
       "text": [
        "1.11781793809\n"
       ]
      }
     ],
     "prompt_number": 3
    },
    {
     "cell_type": "code",
     "collapsed": false,
     "input": [
      "print abs(result[0]-I)"
     ],
     "language": "python",
     "metadata": {},
     "outputs": [
      {
       "output_type": "stream",
       "stream": "stdout",
       "text": [
        "1.03761443881e-11\n"
       ]
      }
     ],
     "prompt_number": 4
    },
    {
     "cell_type": "markdown",
     "metadata": {},
     "source": [
      "Ex_3\n",
      "-"
     ]
    },
    {
     "cell_type": "code",
     "collapsed": false,
     "input": [
      "data = loadtxt(\"velocities.txt\",float)\n",
      "x = data[0:65,0]\n",
      "y = data[0:65,1]\n",
      "print len(y)\n"
     ],
     "language": "python",
     "metadata": {},
     "outputs": [
      {
       "output_type": "stream",
       "stream": "stdout",
       "text": [
        "65\n"
       ]
      }
     ],
     "prompt_number": 16
    },
    {
     "cell_type": "code",
     "collapsed": false,
     "input": [
      "help(integrate.romb)\n",
      "print\n",
      "print\n",
      "help(integrate.simps)\n",
      "print\n",
      "print\n",
      "help(integrate.trapz)"
     ],
     "language": "python",
     "metadata": {},
     "outputs": [
      {
       "output_type": "stream",
       "stream": "stdout",
       "text": [
        "Help on function romb in module scipy.integrate.quadrature:\n",
        "\n",
        "romb(y, dx=1.0, axis=-1, show=False)\n",
        "    Romberg integration using samples of a function\n",
        "    \n",
        "    Parameters\n",
        "    -----------\n",
        "      y : array like\n",
        "           a vector of 2**k + 1 equally-spaced samples of a function\n",
        "    \n",
        "      dx : array like\n",
        "           the sample spacing.\n",
        "    \n",
        "      axis : array like?\n",
        "           the axis along which to integrate\n",
        "    \n",
        "      show : Boolean\n",
        "           When y is a single 1-d array, then if this argument is True\n",
        "           print the table showing Richardson extrapolation from the\n",
        "           samples.\n",
        "    \n",
        "    Returns\n",
        "    -----------\n",
        "    \n",
        "       ret : array_like?\n",
        "          The integrated result for each axis.\n",
        "    \n",
        "    See also:\n",
        "    \n",
        "      quad - adaptive quadrature using QUADPACK\n",
        "      romberg - adaptive Romberg quadrature\n",
        "      quadrature - adaptive Gaussian quadrature\n",
        "      fixed_quad - fixed-order Gaussian quadrature\n",
        "      dblquad, tplquad - double and triple integrals\n",
        "      simps, trapz - integrators for sampled data\n",
        "      cumtrapz - cumulative integration for sampled data\n",
        "      ode, odeint - ODE integrators\n",
        "\n",
        "\n",
        "\n",
        "Help on function simps in module scipy.integrate.quadrature:\n",
        "\n",
        "simps(y, x=None, dx=1, axis=-1, even='avg')\n",
        "    Integrate y(x) using samples along the given axis and the composite\n",
        "    Simpson's rule.  If x is None, spacing of dx is assumed.\n",
        "    \n",
        "    If there are an even number of samples, N, then there are an odd\n",
        "    number of intervals (N-1), but Simpson's rule requires an even number\n",
        "    of intervals.  The parameter 'even' controls how this is handled.\n",
        "    \n",
        "    Parameters\n",
        "    ----------\n",
        "    y : array_like\n",
        "        Array to be integrated.\n",
        "    x : array_like, optional\n",
        "        If given, the points at which `y` is sampled.\n",
        "    dx : int, optional\n",
        "        Spacing of integration points along axis of `y`. Only used when\n",
        "        `x` is None. Default is 1.\n",
        "    axis : int, optional\n",
        "        Axis along which to integrate. Default is the last axis.\n",
        "    even : {'avg', 'first', 'str'}, optional\n",
        "        'avg' : Average two results:1) use the first N-2 intervals with\n",
        "                  a trapezoidal rule on the last interval and 2) use the last\n",
        "                  N-2 intervals with a trapezoidal rule on the first interval.\n",
        "    \n",
        "        'first' : Use Simpson's rule for the first N-2 intervals with\n",
        "                a trapezoidal rule on the last interval.\n",
        "    \n",
        "        'last' : Use Simpson's rule for the last N-2 intervals with a\n",
        "               trapezoidal rule on the first interval.\n",
        "    \n",
        "    See Also\n",
        "    --------\n",
        "    quad: adaptive quadrature using QUADPACK\n",
        "    romberg: adaptive Romberg quadrature\n",
        "    quadrature: adaptive Gaussian quadrature\n",
        "    fixed_quad: fixed-order Gaussian quadrature\n",
        "    dblquad: double integrals\n",
        "    tplquad: triple integrals\n",
        "    romb: integrators for sampled data\n",
        "    trapz: integrators for sampled data\n",
        "    cumtrapz: cumulative integration for sampled data\n",
        "    ode: ODE integrators\n",
        "    odeint: ODE integrators\n",
        "    \n",
        "    Notes\n",
        "    -----\n",
        "    For an odd number of samples that are equally spaced the result is\n",
        "    exact if the function is a polynomial of order 3 or less.  If\n",
        "    the samples are not equally spaced, then the result is exact only\n",
        "    if the function is a polynomial of order 2 or less.\n",
        "\n",
        "\n",
        "\n",
        "Help on function trapz in module numpy.lib.function_base:\n",
        "\n",
        "trapz(y, x=None, dx=1.0, axis=-1)\n",
        "    Integrate along the given axis using the composite trapezoidal rule.\n",
        "    \n",
        "    Integrate `y` (`x`) along given axis.\n",
        "    \n",
        "    Parameters\n",
        "    ----------\n",
        "    y : array_like\n",
        "        Input array to integrate.\n",
        "    x : array_like, optional\n",
        "        If `x` is None, then spacing between all `y` elements is `dx`.\n",
        "    dx : scalar, optional\n",
        "        If `x` is None, spacing given by `dx` is assumed. Default is 1.\n",
        "    axis : int, optional\n",
        "        Specify the axis.\n",
        "    \n",
        "    Returns\n",
        "    -------\n",
        "    out : float\n",
        "        Definite integral as approximated by trapezoidal rule.\n",
        "    \n",
        "    See Also\n",
        "    --------\n",
        "    sum, cumsum\n",
        "    \n",
        "    Notes\n",
        "    -----\n",
        "    Image [2]_ illustrates trapezoidal rule -- y-axis locations of points will\n",
        "    be taken from `y` array, by default x-axis distances between points will be\n",
        "    1.0, alternatively they can be provided with `x` array or with `dx` scalar.\n",
        "    Return value will be equal to combined area under the red lines.\n",
        "    \n",
        "    \n",
        "    References\n",
        "    ----------\n",
        "    .. [1] Wikipedia page: http://en.wikipedia.org/wiki/Trapezoidal_rule\n",
        "    \n",
        "    .. [2] Illustration image:\n",
        "           http://en.wikipedia.org/wiki/File:Composite_trapezoidal_rule_illustration.png\n",
        "    \n",
        "    Examples\n",
        "    --------\n",
        "    >>> np.trapz([1,2,3])\n",
        "    4.0\n",
        "    >>> np.trapz([1,2,3], x=[4,6,8])\n",
        "    8.0\n",
        "    >>> np.trapz([1,2,3], dx=2)\n",
        "    8.0\n",
        "    >>> a = np.arange(6).reshape(2, 3)\n",
        "    >>> a\n",
        "    array([[0, 1, 2],\n",
        "           [3, 4, 5]])\n",
        "    >>> np.trapz(a, axis=0)\n",
        "    array([ 1.5,  2.5,  3.5])\n",
        "    >>> np.trapz(a, axis=1)\n",
        "    array([ 2.,  8.])\n",
        "\n"
       ]
      }
     ],
     "prompt_number": 17
    },
    {
     "cell_type": "code",
     "collapsed": false,
     "input": [
      "int_romb = integrate.romb(y,1.,-1)\n",
      "int_trap = integrate.trapz(y,x,-1)\n",
      "int_simp = integrate.simps(y,x,1,-1)\n",
      "\n",
      "print 'Trapazoidal Value =',int_trap\n",
      "print 'Simpson Value =',int_simp\n",
      "print 'Romberg Value =',int_romb\n",
      "print\n",
      "print '------------------------------------------------'\n",
      "print\n",
      "print 'COMPARISON:'\n",
      "print 'trap - simp =', abs(int_trap-int_simp)\n",
      "print 'trap - romb =', abs(int_trap-int_romb)\n",
      "print 'simp - romb =', abs(int_simp-int_romb)"
     ],
     "language": "python",
     "metadata": {},
     "outputs": [
      {
       "output_type": "stream",
       "stream": "stdout",
       "text": [
        "Trapazoidal Value = 17.135344\n",
        "Simpson Value = 17.141704\n",
        "Romberg Value = 17.1417005807\n",
        "\n",
        "------------------------------------------------\n",
        "\n",
        "COMPARISON:\n",
        "trap - simp = 0.00636\n",
        "trap - romb = 0.00635658072254\n",
        "simp - romb = 3.41927745851e-06\n"
       ]
      }
     ],
     "prompt_number": 34
    },
    {
     "cell_type": "code",
     "collapsed": false,
     "input": [],
     "language": "python",
     "metadata": {},
     "outputs": []
    },
    {
     "cell_type": "code",
     "collapsed": false,
     "input": [
      "plot(x,y)\n",
      "plot(x,y_trap)\n",
      "plot(x,y_simp)\n",
      "plot(x,y_romb)"
     ],
     "language": "python",
     "metadata": {},
     "outputs": [
      {
       "output_type": "pyout",
       "prompt_number": 35,
       "text": [
        "[<matplotlib.lines.Line2D at 0x7f498c7bc450>]"
       ]
      },
      {
       "output_type": "display_data",
       "png": "[encoded data removed]"
      }
     ],
     "prompt_number": 35
    },
    {
     "cell_type": "code",
     "collapsed": false,
     "input": [],
     "language": "python",
     "metadata": {},
     "outputs": []
    }
   ],
   "metadata": {}
  }
 ]
}