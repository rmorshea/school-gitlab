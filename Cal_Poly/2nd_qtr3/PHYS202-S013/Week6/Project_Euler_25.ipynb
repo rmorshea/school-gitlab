{
 "metadata": {
  "name": "Project_Euler_25"
 },
 "nbformat": 3,
 "nbformat_minor": 0,
 "worksheets": [
  {
   "cells": [
    {
     "cell_type": "code",
     "collapsed": false,
     "input": [
      "#Fibonaccia Formula:\n",
      "phi1 = (1+sqrt(5))/2\n",
      "phi2 = (1-sqrt(5))/2\n",
      "\n",
      "Fn = lambda n: (phi1**(n-1)-phi2**(n-1))/(sqrt(5))\n",
      "    \n",
      "print Fn(6)"
     ],
     "language": "python",
     "metadata": {},
     "outputs": [
      {
       "output_type": "stream",
       "stream": "stdout",
       "text": [
        "5.0\n"
       ]
      }
     ],
     "prompt_number": 9
    },
    {
     "cell_type": "code",
     "collapsed": false,
     "input": [
      "#Estimation of Formula (from wikipedia):\n",
      "Fn = lambda n: (phi1**n)/sqrt(5)+.5\n",
      "\n",
      "#number of digits in a number given by log(#)+1 thus through some algebra F with i digits is:\n",
      "\n",
      "Fn = lambda n: log10((10**(n-1)-.5)*sqrt(5))/log10(phi1)\n",
      "    \n",
      "#then working backwards to find what # term has this value:\n",
      "\n",
      "F_term = lambda i: (i-1 + log10(5)/2) / log10(phi)"
     ],
     "language": "python",
     "metadata": {},
     "outputs": [],
     "prompt_number": 28
    },
    {
     "cell_type": "code",
     "collapsed": false,
     "input": [
      "print int(F_term(1000))"
     ],
     "language": "python",
     "metadata": {},
     "outputs": [
      {
       "output_type": "stream",
       "stream": "stdout",
       "text": [
        "4781\n"
       ]
      }
     ],
     "prompt_number": 30
    }
   ],
   "metadata": {}
  }
 ]
}