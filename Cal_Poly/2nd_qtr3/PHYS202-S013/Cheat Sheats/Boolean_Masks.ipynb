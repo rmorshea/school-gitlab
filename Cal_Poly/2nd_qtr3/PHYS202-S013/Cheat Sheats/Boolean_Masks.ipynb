{
 "metadata": {
  "name": "Boolean_Masks"
 },
 "nbformat": 3,
 "nbformat_minor": 0,
 "worksheets": [
  {
   "cells": [
    {
     "cell_type": "code",
     "collapsed": false,
     "input": [
      "l = np.random.random_integers(1,10,15) #creates 15 random numbers between 1 and 10\n",
      "print l\n",
      "print\n",
      "mask = (l%3 == 0)\n",
      "print mask"
     ],
     "language": "python",
     "metadata": {},
     "outputs": [
      {
       "output_type": "stream",
       "stream": "stdout",
       "text": [
        "[ 6  6  1  2  8  7 10  7  3  7  1 10  8  7  2]\n",
        "\n",
        "[ True  True False False False False False False  True False False False\n",
        " False False False]\n"
       ]
      }
     ],
     "prompt_number": 3
    },
    {
     "cell_type": "code",
     "collapsed": false,
     "input": [
      "extractfroml = l[mask]\n",
      "print extractfroml"
     ],
     "language": "python",
     "metadata": {},
     "outputs": [
      {
       "output_type": "stream",
       "stream": "stdout",
       "text": [
        "[6 6 3]\n"
       ]
      }
     ],
     "prompt_number": 5
    },
    {
     "cell_type": "code",
     "collapsed": false,
     "input": [],
     "language": "python",
     "metadata": {},
     "outputs": []
    }
   ],
   "metadata": {}
  }
 ]
}