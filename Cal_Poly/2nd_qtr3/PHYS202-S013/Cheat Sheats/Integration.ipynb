{
 "metadata": {
  "name": "Integration"
 },
 "nbformat": 3,
 "nbformat_minor": 0,
 "worksheets": [
  {
   "cells": [
    {
     "cell_type": "markdown",
     "metadata": {},
     "source": [
      "Integration\n",
      "="
     ]
    },
    {
     "cell_type": "raw",
     "metadata": {},
     "source": [
      "trapazoidal method"
     ]
    },
    {
     "cell_type": "code",
     "collapsed": false,
     "input": [
      "def trap_int(a,b,n,F):\n",
      "    \"\"\"does the trapazoidal integral between a and b with n divisions.'a' and 'b' should be floats and n should be an int. 'f' should be a function of the variable 'x' of the form 'lambda x: (function)'.\"\"\"\n",
      "    dx = (b-a)/n\n",
      "    s = .5*F(a)+.5*F(b)\n",
      "    for k in range (1,n):\n",
      "        s += F(a+k*dx)\n",
      "    return dx*s\n",
      "\n",
      "f = lambda x: (x**4-2*x+1)\n",
      "\n",
      "print 'ANALYTICAL RESULT:'\n",
      "print 'df/dx = 4.4'\n",
      "print\n",
      "print '------------------------------------------------'\n",
      "print\n",
      "print 'CALCULATED RESULTS:'\n",
      "print 'n = 10 , trap_int =',trap_int(0.,2.,10,f)\n",
      "print 'n = 100 , trap_int =', trap_int(0.,2.,100,f)\n",
      "print 'n = 1000 , trap_int =', trap_int(0.,2.,1000,f)"
     ],
     "language": "python",
     "metadata": {},
     "outputs": [
      {
       "output_type": "stream",
       "stream": "stdout",
       "text": [
        "ANALYTICAL RESULT:\n",
        "df/dx = 4.4\n",
        "\n",
        "------------------------------------------------\n",
        "\n",
        "CALCULATED RESULTS:\n",
        "n = 10 , trap_int = 4.50656\n",
        "n = 100 , trap_int = 4.401066656\n",
        "n = 1000 , trap_int = 4.40001066667\n"
       ]
      }
     ],
     "prompt_number": 2
    },
    {
     "cell_type": "raw",
     "metadata": {},
     "source": [
      "simpson's method compared to trapazoidal method"
     ]
    },
    {
     "cell_type": "code",
     "collapsed": false,
     "input": [
      "def simp_int(a,b,n,F):\n",
      "    \"\"\"does Simpson's integral between a and b with n divisions.'a' and 'b' should be floats and n should be an int. 'f' should be a function of the variable 'x' of the form 'lambda x: (function)'.\"\"\"\n",
      "    if n%2 != 0:\n",
      "        return 'error: variable (n) must be even'\n",
      "    else:\n",
      "        dx = (b-a)/n\n",
      "        s = (F(a)+F(b))\n",
      "        for k in range(1,(n/2+1)):\n",
      "            s += 4*F(a+(2*k-1)*dx)\n",
      "        for k in range(1,(n/2)):\n",
      "            s += 2*F(a+2*k*dx)\n",
      "        return dx*s/3\n",
      "\n",
      "f = lambda x: (x**4-2*x+1)\n",
      "\n",
      "\n",
      "print 'ANALYTICAL RESULT:'\n",
      "print 'df/dx = 4.4'\n",
      "print\n",
      "print '------------------------------------------------'\n",
      "print\n",
      "print 'CALUCULATED RESULTS:'    \n",
      "print 'n = 10 , simp_int =',simp_int(0.,2.,10,f)\n",
      "print 'FRACTIONAL ERROR:'\n",
      "print '%',100*((simp_int(0.,2.,10,f)-4.4)/4.4)\n",
      "print\n",
      "print 'n = 100 , simp_int =', simp_int(0.,2.,100,f)\n",
      "print 'FRACTIONAL ERROR:'\n",
      "print '%',100*((simp_int(0.,2.,100,f)-4.4)/4.4)\n",
      "print\n",
      "print 'n = 1000 , simp_int =', simp_int(0.,2.,1000,f)\n",
      "print 'FRACTIONAL ERROR:'\n",
      "print '%',100*((simp_int(0.,2.,1000,f)-4.4)/4.4)\n",
      "print\n",
      "print '------------------------------------------------'\n",
      "print\n",
      "print 'SIMPSON IMPROVEMENT:'\n",
      "print 'n=10 - n=100, difference =',simp_int(0.,2.,10,f)-simp_int(0.,2.,100,f)\n",
      "print 'n=100 - n=1000, difference =',simp_int(0.,2.,100,f)-simp_int(0.,2.,1000,f)\n",
      "print 'n=1000 - n=10000, difference =',simp_int(0.,2.,1000,f)-simp_int(0.,2.,10000,f)\n",
      "print\n",
      "print '------------------------------------------------'\n",
      "print\n",
      "print 'SIMPSON AND TRAPAZOIDAL COMPARISON:'\n",
      "print 'n = 10 comparison, difference =',trap_int(0.,2.,10,f)-simp_int(0.,2.,10,f)\n",
      "print 'n = 100 comparison, difference =',trap_int(0.,2.,100,f)-simp_int(0.,2.,100,f)\n",
      "print 'n = 1000 comparison, difference =',trap_int(0.,2.,1000,f)-simp_int(0.,2.,1000,f)"
     ],
     "language": "python",
     "metadata": {},
     "outputs": [
      {
       "output_type": "stream",
       "stream": "stdout",
       "text": [
        "ANALYTICAL RESULT:\n",
        "df/dx = 4.4\n",
        "\n",
        "------------------------------------------------\n",
        "\n",
        "CALUCULATED RESULTS:\n",
        "n = 10 , simp_int = 4.40042666667\n",
        "FRACTIONAL ERROR:\n",
        "% 0.00969696969699\n",
        "\n",
        "n = 100 , simp_int = 4.40000004267\n",
        "FRACTIONAL ERROR:\n",
        "% 9.69696969187e-07\n",
        "\n",
        "n = 1000 , simp_int = 4.4\n",
        "FRACTIONAL ERROR:\n",
        "% 9.69527488595e-11\n",
        "\n",
        "------------------------------------------------\n",
        "\n",
        "SIMPSON IMPROVEMENT:\n",
        "n=10 - n=100, difference = 0.000426624000001\n",
        "n=100 - n=1000, difference = 4.26624007233e-08\n",
        "n=1000 - n=10000, difference = 4.26414459298e-12\n",
        "\n",
        "------------------------------------------------\n",
        "\n",
        "SIMPSON AND TRAPAZOIDAL COMPARISON:\n",
        "n = 10 comparison, difference = 0.106133333333\n",
        "n = 100 comparison, difference = 0.00106661333333\n",
        "n = 1000 comparison, difference = 1.06666613346e-05\n"
       ]
      }
     ],
     "prompt_number": 4
    },
    {
     "cell_type": "markdown",
     "metadata": {},
     "source": [
      "Quad Function for Integration\n",
      "-"
     ]
    },
    {
     "cell_type": "markdown",
     "metadata": {},
     "source": [
      "The first argument to quad is a \u201ccallable\u201d Python object (i.e a function, method, or class instance). Notice the use of a lambda- function in this case as the argument. The next two arguments are the limits of integration. The return value is a tuple, with the first element holding the estimated value of the integral and the second element holding an upper bound on the error. "
     ]
    },
    {
     "cell_type": "code",
     "collapsed": false,
     "input": [
      "import scipy.integrate as integrate\n",
      "from scipy.special import jv\n",
      "result = integrate.quad(lambda x: jv(2.5,x),0,4.5)\n",
      "print result"
     ],
     "language": "python",
     "metadata": {},
     "outputs": [
      {
       "output_type": "stream",
       "stream": "stdout",
       "text": [
        "(1.1178179380783249, 7.866317182537226e-09)\n"
       ]
      }
     ],
     "prompt_number": 5
    },
    {
     "cell_type": "markdown",
     "metadata": {},
     "source": [
      "bellow is the exact result of the above integral"
     ]
    },
    {
     "cell_type": "code",
     "collapsed": false,
     "input": [
      "from scipy.special import fresnel\n",
      "I = sqrt(2/pi)*(18.0/27*sqrt(2)*cos(4.5)-4.0/27*sqrt(2)*sin(4.5)+sqrt(2*pi)*fresnel(3/sqrt(pi))[0])\n",
      "print I"
     ],
     "language": "python",
     "metadata": {},
     "outputs": [
      {
       "output_type": "stream",
       "stream": "stdout",
       "text": [
        "1.11781793809\n"
       ]
      }
     ],
     "prompt_number": 6
    },
    {
     "cell_type": "markdown",
     "metadata": {},
     "source": [
      "compare exact value and numerical value"
     ]
    },
    {
     "cell_type": "code",
     "collapsed": false,
     "input": [
      "from scipy.special import fresnel\n",
      "I = sqrt(2/pi)*(18.0/27*sqrt(2)*cos(4.5)-4.0/27*sqrt(2)*sin(4.5)+sqrt(2*pi)*fresnel(3/sqrt(pi))[0])\n",
      "print I\n",
      "print 'note the value is far below the reported error bounds on the quad function'"
     ],
     "language": "python",
     "metadata": {},
     "outputs": [
      {
       "output_type": "stream",
       "stream": "stdout",
       "text": [
        "1.11781793809\n",
        "note the value is far below the reported error bounds on the quad function\n"
       ]
      }
     ],
     "prompt_number": 4
    },
    {
     "cell_type": "raw",
     "metadata": {},
     "source": [
      "help for different integrals"
     ]
    },
    {
     "cell_type": "code",
     "collapsed": false,
     "input": [
      "help(integrate.romb)\n",
      "print\n",
      "print\n",
      "help(integrate.simps)\n",
      "print\n",
      "print\n",
      "help(integrate.trapz)"
     ],
     "language": "python",
     "metadata": {},
     "outputs": [
      {
       "output_type": "stream",
       "stream": "stdout",
       "text": [
        "Help on function romb in module scipy.integrate.quadrature:\n",
        "\n",
        "romb(y, dx=1.0, axis=-1, show=False)\n",
        "    Romberg integration using samples of a function\n",
        "    \n",
        "    Parameters\n",
        "    -----------\n",
        "      y : array like\n",
        "           a vector of 2**k + 1 equally-spaced samples of a function\n",
        "    \n",
        "      dx : array like\n",
        "           the sample spacing.\n",
        "    \n",
        "      axis : array like?\n",
        "           the axis along which to integrate\n",
        "    \n",
        "      show : Boolean\n",
        "           When y is a single 1-d array, then if this argument is True\n",
        "           print the table showing Richardson extrapolation from the\n",
        "           samples.\n",
        "    \n",
        "    Returns\n",
        "    -----------\n",
        "    \n",
        "       ret : array_like?\n",
        "          The integrated result for each axis.\n",
        "    \n",
        "    See also:\n",
        "    \n",
        "      quad - adaptive quadrature using QUADPACK\n",
        "      romberg - adaptive Romberg quadrature\n",
        "      quadrature - adaptive Gaussian quadrature\n",
        "      fixed_quad - fixed-order Gaussian quadrature\n",
        "      dblquad, tplquad - double and triple integrals\n",
        "      simps, trapz - integrators for sampled data\n",
        "      cumtrapz - cumulative integration for sampled data\n",
        "      ode, odeint - ODE integrators\n",
        "\n",
        "\n",
        "\n",
        "Help on function simps in module scipy.integrate.quadrature:\n",
        "\n",
        "simps(y, x=None, dx=1, axis=-1, even='avg')\n",
        "    Integrate y(x) using samples along the given axis and the composite\n",
        "    Simpson's rule.  If x is None, spacing of dx is assumed.\n",
        "    \n",
        "    If there are an even number of samples, N, then there are an odd\n",
        "    number of intervals (N-1), but Simpson's rule requires an even number\n",
        "    of intervals.  The parameter 'even' controls how this is handled.\n",
        "    \n",
        "    Parameters\n",
        "    ----------\n",
        "    y : array_like\n",
        "        Array to be integrated.\n",
        "    x : array_like, optional\n",
        "        If given, the points at which `y` is sampled.\n",
        "    dx : int, optional\n",
        "        Spacing of integration points along axis of `y`. Only used when\n",
        "        `x` is None. Default is 1.\n",
        "    axis : int, optional\n",
        "        Axis along which to integrate. Default is the last axis.\n",
        "    even : {'avg', 'first', 'str'}, optional\n",
        "        'avg' : Average two results:1) use the first N-2 intervals with\n",
        "                  a trapezoidal rule on the last interval and 2) use the last\n",
        "                  N-2 intervals with a trapezoidal rule on the first interval.\n",
        "    \n",
        "        'first' : Use Simpson's rule for the first N-2 intervals with\n",
        "                a trapezoidal rule on the last interval.\n",
        "    \n",
        "        'last' : Use Simpson's rule for the last N-2 intervals with a\n",
        "               trapezoidal rule on the first interval.\n",
        "    \n",
        "    See Also\n",
        "    --------\n",
        "    quad: adaptive quadrature using QUADPACK\n",
        "    romberg: adaptive Romberg quadrature\n",
        "    quadrature: adaptive Gaussian quadrature\n",
        "    fixed_quad: fixed-order Gaussian quadrature\n",
        "    dblquad: double integrals\n",
        "    tplquad: triple integrals\n",
        "    romb: integrators for sampled data\n",
        "    trapz: integrators for sampled data\n",
        "    cumtrapz: cumulative integration for sampled data\n",
        "    ode: ODE integrators\n",
        "    odeint: ODE integrators\n",
        "    \n",
        "    Notes\n",
        "    -----\n",
        "    For an odd number of samples that are equally spaced the result is\n",
        "    exact if the function is a polynomial of order 3 or less.  If\n",
        "    the samples are not equally spaced, then the result is exact only\n",
        "    if the function is a polynomial of order 2 or less.\n",
        "\n",
        "\n",
        "\n",
        "Help on function trapz in module numpy.lib.function_base:\n",
        "\n",
        "trapz(y, x=None, dx=1.0, axis=-1)\n",
        "    Integrate along the given axis using the composite trapezoidal rule.\n",
        "    \n",
        "    Integrate `y` (`x`) along given axis.\n",
        "    \n",
        "    Parameters\n",
        "    ----------\n",
        "    y : array_like\n",
        "        Input array to integrate.\n",
        "    x : array_like, optional\n",
        "        If `x` is None, then spacing between all `y` elements is `dx`.\n",
        "    dx : scalar, optional\n",
        "        If `x` is None, spacing given by `dx` is assumed. Default is 1.\n",
        "    axis : int, optional\n",
        "        Specify the axis.\n",
        "    \n",
        "    Returns\n",
        "    -------\n",
        "    out : float\n",
        "        Definite integral as approximated by trapezoidal rule.\n",
        "    \n",
        "    See Also\n",
        "    --------\n",
        "    sum, cumsum\n",
        "    \n",
        "    Notes\n",
        "    -----\n",
        "    Image [2]_ illustrates trapezoidal rule -- y-axis locations of points will\n",
        "    be taken from `y` array, by default x-axis distances between points will be\n",
        "    1.0, alternatively they can be provided with `x` array or with `dx` scalar.\n",
        "    Return value will be equal to combined area under the red lines.\n",
        "    \n",
        "    \n",
        "    References\n",
        "    ----------\n",
        "    .. [1] Wikipedia page: http://en.wikipedia.org/wiki/Trapezoidal_rule\n",
        "    \n",
        "    .. [2] Illustration image:\n",
        "           http://en.wikipedia.org/wiki/File:Composite_trapezoidal_rule_illustration.png\n",
        "    \n",
        "    Examples\n",
        "    --------\n",
        "    >>> np.trapz([1,2,3])\n",
        "    4.0\n",
        "    >>> np.trapz([1,2,3], x=[4,6,8])\n",
        "    8.0\n",
        "    >>> np.trapz([1,2,3], dx=2)\n",
        "    8.0\n",
        "    >>> a = np.arange(6).reshape(2, 3)\n",
        "    >>> a\n",
        "    array([[0, 1, 2],\n",
        "           [3, 4, 5]])\n",
        "    >>> np.trapz(a, axis=0)\n",
        "    array([ 1.5,  2.5,  3.5])\n",
        "    >>> np.trapz(a, axis=1)\n",
        "    array([ 2.,  8.])\n",
        "\n"
       ]
      }
     ],
     "prompt_number": 7
    },
    {
     "cell_type": "markdown",
     "metadata": {},
     "source": [
      "Monte Carlo Integration\n",
      "="
     ]
    },
    {
     "cell_type": "raw",
     "metadata": {},
     "source": [
      "this example finds the area of a target on a dart board. if you randomly throw 40 darts you can analyze how many darts landed in the target and how many landed oustide of it. if you know the area of the board you are throwing your random darts at then you can use a ratio of the darts inside to those outside multiplied by the area of the dart board to find the approximate area of the target."
     ]
    },
    {
     "cell_type": "code",
     "collapsed": false,
     "input": [
      "length = width = 4.\n",
      "actual_radius_target = 1.375\n",
      "Nin = 15\n",
      "N = 40\n",
      "Aboard = length*width\n",
      "Aexact = pi*actual_radius_target**2\n",
      "Acirc = Nin/float(N)*Aboard # make sure these are floats to get the decimal\n",
      "print\n",
      "print \"Aboard=\" ,Aboard \n",
      "print \"Aexact=\",Aexact\n",
      "print \"Acirc=\",Acirc\n",
      "print \"Error=\",(100.*(Acirc-Aexact)/Aexact),\"%\""
     ],
     "language": "python",
     "metadata": {},
     "outputs": [
      {
       "output_type": "stream",
       "stream": "stdout",
       "text": [
        "\n",
        "Aboard= 16.0\n",
        "Aexact= 5.93957361069\n",
        "Acirc= 6.0\n",
        "Error= 1.01735230957 %\n"
       ]
      }
     ],
     "prompt_number": 8
    },
    {
     "cell_type": "markdown",
     "metadata": {},
     "source": [
      "Example\n",
      "-"
     ]
    },
    {
     "cell_type": "code",
     "collapsed": false,
     "input": [
      "f = lambda x: x**.5 + sin(x)\n",
      "x = arange(0.,15.,0.001)\n",
      "\n",
      "myplot = plot(x,f(x),lw = 3)\n",
      "ylabel(r'$x^{1/2}+\\sin(x)$',fontsize = 15)\n",
      "xlabel(r'$x$',fontsize = 15)\n",
      "xlim(0.,15.)\n",
      "show()"
     ],
     "language": "python",
     "metadata": {},
     "outputs": [
      {
       "output_type": "display_data",
       "png": "[encoded data removed]"
      }
     ],
     "prompt_number": 9
    },
    {
     "cell_type": "code",
     "collapsed": false,
     "input": [
      "xmin = 1.7\n",
      "xmax = 12.4\n",
      "\n",
      "#find the maximum value of f within the bounto set ymax\n",
      "subx = x[logical_and((x>xmin),(x<xmax))]\n",
      "ymax = max(f(subx))*1.05\n",
      "ymin = 0.\n",
      "\n",
      "#Replot the function\n",
      "myplot = plot(x,f(x),lw=3)\n",
      "xlim(0.,15.)\n",
      "\n",
      "#plot the box\n",
      "plot([xmin,xmin],[ymin,ymax], color = 'k', linestyle='--') #left verticle line\n",
      "plot([xmax,xmax],[ymin,ymax], color = 'k', linestyle='--') #right verticle line\n",
      "plot([xmin,xmax],[ymax,ymax], color = 'k', linestyle='--') #top horrizontal line\n",
      "\n",
      "show()"
     ],
     "language": "python",
     "metadata": {},
     "outputs": [
      {
       "output_type": "display_data",
       "png": "[encoded data removed]"
      }
     ],
     "prompt_number": 10
    },
    {
     "cell_type": "code",
     "collapsed": false,
     "input": [
      "#random smpmle\n",
      "\n",
      "N = 90000000\n",
      "samples_x = xmin + (xmax-xmin)*random_sample(N)\n",
      "samples_y = ymin +(ymax-ymin)*random_sample(N)\n",
      "\n",
      "plot(samples_x[1:200],samples_y[1:200],'.')\n",
      "\n",
      "#Replot the function\n",
      "myplot = plot(x,f(x),lw=3)\n",
      "xlim(0.,15.)\n",
      "\n",
      "#Plot the box\n",
      "plot([xmin,xmin],[ymin,ymax], color = 'k', linestyle='--') #left verticle line\n",
      "plot([xmax,xmax],[ymin,ymax], color = 'k', linestyle='--') #right verticle line\n",
      "plot([xmin,xmax],[ymax,ymax], color = 'k', linestyle='--') #top horrizontal line\n",
      "\n",
      "show()\n"
     ],
     "language": "python",
     "metadata": {},
     "outputs": [
      {
       "output_type": "display_data",
       "png": "[encoded data removed]"
      }
     ],
     "prompt_number": 11
    },
    {
     "cell_type": "code",
     "collapsed": false,
     "input": [
      "mask1 = (samples_y<f(samples_x))\n",
      "print sum(mask1)"
     ],
     "language": "python",
     "metadata": {},
     "outputs": [
      {
       "output_type": "stream",
       "stream": "stdout",
       "text": [
        "55631807\n"
       ]
      }
     ],
     "prompt_number": 12
    },
    {
     "cell_type": "code",
     "collapsed": false,
     "input": [
      "plot(samples_x[1:200],samples_y[1:200],'.')\n",
      "\n",
      "plot(samples_x[mask1[:200]],samples_y[mask1[:200]],'r.')\n",
      "\n",
      "#Replot the function\n",
      "myplot = plot(x,f(x),lw=3)\n",
      "xlim(0.,15.)\n",
      "\n",
      "#Plot the box\n",
      "plot([xmin,xmin],[ymin,ymax], color = 'k', linestyle='--') #left verticle line\n",
      "plot([xmax,xmax],[ymin,ymax], color = 'k', linestyle='--') #right verticle line\n",
      "plot([xmin,xmax],[ymax,ymax], color = 'k', linestyle='--') #top horrizontal line\n",
      "\n",
      "show()\n",
      "\n",
      "I = (xmax-xmin)*(ymax-ymin)*sum(mask1)/mask1.size\n",
      "\n",
      "I_ana = lambda x: (2./3.)*x**(3./2.)-cos(x)\n",
      "Iexact = I_ana(xmax)-I_ana(xmin)\n",
      "Ierr = 100*(Iexact-I)/Iexact\n",
      "print 'I Exact = ',Iexact\n",
      "print 'I Monte Carlo = ',I\n",
      "print 'Error on I =',Ierr,'%'"
     ],
     "language": "python",
     "metadata": {},
     "outputs": [
      {
       "output_type": "display_data",
       "png": "[encoded data removed]"
      },
      {
       "output_type": "stream",
       "stream": "stdout",
       "text": [
        "I Exact =  26.5172145362\n",
        "I Monte Carlo =  26.5167894718\n",
        "Error on I = 0.00160297510584 %\n"
       ]
      }
     ],
     "prompt_number": 13
    },
    {
     "cell_type": "code",
     "collapsed": false,
     "input": [
      "help(random_sample)"
     ],
     "language": "python",
     "metadata": {},
     "outputs": [
      {
       "output_type": "stream",
       "stream": "stdout",
       "text": [
        "Help on built-in function random_sample:\n",
        "\n",
        "random_sample(...)\n",
        "    random_sample(size=None)\n",
        "    \n",
        "    Return random floats in the half-open interval [0.0, 1.0).\n",
        "    \n",
        "    Results are from the \"continuous uniform\" distribution over the\n",
        "    stated interval.  To sample :math:`Unif[a, b), b > a` multiply\n",
        "    the output of `random_sample` by `(b-a)` and add `a`::\n",
        "    \n",
        "      (b - a) * random_sample() + a\n",
        "    \n",
        "    Parameters\n",
        "    ----------\n",
        "    size : int or tuple of ints, optional\n",
        "        Defines the shape of the returned array of random floats. If None\n",
        "        (the default), returns a single float.\n",
        "    \n",
        "    Returns\n",
        "    -------\n",
        "    out : float or ndarray of floats\n",
        "        Array of random floats of shape `size` (unless ``size=None``, in which\n",
        "        case a single float is returned).\n",
        "    \n",
        "    Examples\n",
        "    --------\n",
        "    >>> np.random.random_sample()\n",
        "    0.47108547995356098\n",
        "    >>> type(np.random.random_sample())\n",
        "    <type 'float'>\n",
        "    >>> np.random.random_sample((5,))\n",
        "    array([ 0.30220482,  0.86820401,  0.1654503 ,  0.11659149,  0.54323428])\n",
        "    \n",
        "    Three-by-two array of random numbers from [-5, 0):\n",
        "    \n",
        "    >>> 5 * np.random.random_sample((3, 2)) - 5\n",
        "    array([[-3.99149989, -0.52338984],\n",
        "           [-2.99091858, -0.79479508],\n",
        "           [-1.23204345, -1.75224494]])\n",
        "\n"
       ]
      }
     ],
     "prompt_number": 14
    },
    {
     "cell_type": "markdown",
     "metadata": {},
     "source": [
      "Sample Mean Method\n",
      "-"
     ]
    },
    {
     "cell_type": "code",
     "collapsed": false,
     "input": [
      "f = lambda x: x**.5 + sin(x)\n",
      "\n",
      "N=10000\n",
      "xmin = 1.7\n",
      "xmax = 12.4\n",
      "x_sample = xmin+(xmax-xmin)*random_sample(N)\n",
      "y_sample = f(x_sample)\n",
      "f_avg = sum(f(x_sample))/N\n",
      "\n",
      "print f_avg*(xmax-xmin)"
     ],
     "language": "python",
     "metadata": {},
     "outputs": []
    }
   ],
   "metadata": {}
  }
 ]
}