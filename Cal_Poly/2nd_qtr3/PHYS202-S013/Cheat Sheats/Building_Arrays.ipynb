{
 "metadata": {
  "name": "Building_Arrays"
 },
 "nbformat": 3,
 "nbformat_minor": 0,
 "worksheets": [
  {
   "cells": [
    {
     "cell_type": "code",
     "collapsed": false,
     "input": [
      "#help(np.vstack)\n",
      "a = np.ones((2,4), dtype = int)\n",
      "b = np.array([1,1,1,2], dtype = int)\n",
      "c = np.array([1,6,1,1], dtype = int)\n",
      "d = np.vstack((a,b,c))\n",
      "print d"
     ],
     "language": "python",
     "metadata": {},
     "outputs": [
      {
       "output_type": "stream",
       "stream": "stdout",
       "text": [
        "[[1 1 1 1]\n",
        " [1 1 1 1]\n",
        " [1 1 1 2]\n",
        " [1 6 1 1]]\n"
       ]
      }
     ],
     "prompt_number": 1
    },
    {
     "cell_type": "code",
     "collapsed": false,
     "input": [
      "a = np.diag([2,3,4,5,6])\n",
      "b = np.array([0,0,0,0,0])\n",
      "\n",
      "c = np.vstack((b, a))\n",
      "print c"
     ],
     "language": "python",
     "metadata": {},
     "outputs": [
      {
       "output_type": "stream",
       "stream": "stdout",
       "text": [
        "[[0 0 0 0 0]\n",
        " [2 0 0 0 0]\n",
        " [0 3 0 0 0]\n",
        " [0 0 4 0 0]\n",
        " [0 0 0 5 0]\n",
        " [0 0 0 0 6]]\n"
       ]
      }
     ],
     "prompt_number": 2
    },
    {
     "cell_type": "code",
     "collapsed": false,
     "input": [
      "#help(np.tile)\n",
      "a = np.array([2,1])\n",
      "a = np.tile(a,3)\n",
      "b = np.array([4,3])\n",
      "b = np.tile(b,3)\n",
      "c = np.vstack((a,b))\n",
      "c = np.tile(c, (2,1))\n",
      "print c"
     ],
     "language": "python",
     "metadata": {},
     "outputs": [
      {
       "output_type": "stream",
       "stream": "stdout",
       "text": [
        "[[2 1 2 1 2 1]\n",
        " [4 3 4 3 4 3]\n",
        " [2 1 2 1 2 1]\n",
        " [4 3 4 3 4 3]]\n"
       ]
      }
     ],
     "prompt_number": 7
    },
    {
     "cell_type": "code",
     "collapsed": false,
     "input": [
      "is_prime = np.ones((100,), dtype=bool)\n",
      "is_prime[0] = 0\n",
      "is_prime[1] = 0\n",
      "N_max = int(np.sqrt(len(is_prime)))\n",
      "for j in range(2, N_max):\n",
      "    is_prime[2*j::j] = False\n",
      "print is_prime"
     ],
     "language": "python",
     "metadata": {},
     "outputs": [
      {
       "output_type": "stream",
       "stream": "stdout",
       "text": [
        "[False False  True  True False  True False  True False False False  True\n",
        " False  True False False False  True False  True False False False  True\n",
        " False False False False False  True False  True False False False False\n",
        " False  True False False False  True False  True False False False  True\n",
        " False False False False False  True False False False False False  True\n",
        " False  True False False False False False  True False False False  True\n",
        " False  True False False False False False  True False False False  True\n",
        " False False False False False  True False False False False False False\n",
        " False  True False False]\n"
       ]
      }
     ],
     "prompt_number": 8
    },
    {
     "cell_type": "code",
     "collapsed": false,
     "input": [
      "is_prime = np.ones((100,), dtype=bool)\n",
      "is_prime[0] = 0\n",
      "is_prime[1] = 0\n",
      "N_max = int(np.sqrt(len(is_prime)))\n",
      "for j in range(2, N_max):\n",
      "    is_prime[2*j::j] = False\n",
      "print is_prime\n",
      "\n",
      "#N_max = int(np.sqrt(len(is_prime)))\n",
      "#for j in range(2, N_max):\n",
      "    #is_prime[2*j:len(is_prime):j] = False\n",
      "\n",
      "#This essentially says that for 'j', where 'j' starts at 2 and ends at 'sqrt(len(is_prime))', all indices from '2*j' to the length of 'is_prime' in intervals of 'j' are False."
     ],
     "language": "python",
     "metadata": {},
     "outputs": [
      {
       "output_type": "stream",
       "stream": "stdout",
       "text": [
        "[False False  True  True False  True False  True False False False  True\n",
        " False  True False False False  True False  True False False False  True\n",
        " False False False False False  True False  True False False False False\n",
        " False  True False False False  True False  True False False False  True\n",
        " False False False False False  True False False False False False  True\n",
        " False  True False False False False False  True False False False  True\n",
        " False  True False False False False False  True False False False  True\n",
        " False False False False False  True False False False False False False\n",
        " False  True False False]\n"
       ]
      },
      {
       "output_type": "pyout",
       "prompt_number": 12,
       "text": [
        "'N_max = int(np.sqrt(len(is_prime)))\\nfor j in range(2, N_max):\\n    is_prime[2*j:len(is_prime):j] = False'"
       ]
      }
     ],
     "prompt_number": 12
    },
    {
     "cell_type": "code",
     "collapsed": false,
     "input": [
      "#help(np.nonzero)"
     ],
     "language": "python",
     "metadata": {},
     "outputs": [],
     "prompt_number": 13
    },
    {
     "cell_type": "code",
     "collapsed": false,
     "input": [
      "#finds prime numbers\n",
      "def eratosthenes_sieve(maximum):\n",
      "    primes = dict()\n",
      "    for j in range(0,maximum+1):\n",
      "        primes[j] = True\n",
      "    primes[0] = False\n",
      "    primes[1] = False\n",
      "    for j in range(2,int(np.sqrt(len(is_prime)))):\n",
      "        i = range(j,maximum+1,j)\n",
      "        for n in i[1:]:\n",
      "            primes[n] = False\n",
      "    for x in primes:\n",
      "        if primes[x] == True:\n",
      "            print x\n",
      "\n",
      "print eratosthenes_sieve(10)\n",
      "print\n",
      "print eratosthenes_sieve(100)"
     ],
     "language": "python",
     "metadata": {},
     "outputs": [
      {
       "output_type": "stream",
       "stream": "stdout",
       "text": [
        "2\n",
        "3\n",
        "5\n",
        "7\n",
        "None\n",
        "\n",
        "2\n",
        "3\n",
        "5\n",
        "7\n",
        "11\n",
        "13\n",
        "17\n",
        "19\n",
        "23\n",
        "29\n",
        "31\n",
        "37\n",
        "41\n",
        "43\n",
        "47\n",
        "53\n",
        "59\n",
        "61\n",
        "67\n",
        "71\n",
        "73\n",
        "79\n",
        "83\n",
        "89\n",
        "97\n",
        "None\n"
       ]
      }
     ],
     "prompt_number": 15
    },
    {
     "cell_type": "code",
     "collapsed": false,
     "input": [],
     "language": "python",
     "metadata": {},
     "outputs": []
    }
   ],
   "metadata": {}
  }
 ]
}