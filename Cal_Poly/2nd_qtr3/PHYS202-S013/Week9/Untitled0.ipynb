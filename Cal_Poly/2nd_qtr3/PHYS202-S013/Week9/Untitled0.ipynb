{
 "metadata": {
  "name": "Untitled0"
 },
 "nbformat": 3,
 "nbformat_minor": 0,
 "worksheets": [
  {
   "cells": [
    {
     "cell_type": "code",
     "collapsed": false,
     "input": [
      "t = array([0,1,2,3,4,5,6,7,8,9])\n",
      "v = [0.137,0.456,0.591,0.713,0.859,0.926,1.139,1.327,1.512,1.875]\n",
      "p = [0]*len(v)\n",
      "print len(v)\n",
      "for i in range(len(v)):\n",
      "    p[i] = (0.15+v[i]/10.0)"
     ],
     "language": "python",
     "metadata": {},
     "outputs": [
      {
       "output_type": "stream",
       "stream": "stdout",
       "text": [
        "10\n"
       ]
      }
     ],
     "prompt_number": 72
    },
    {
     "cell_type": "code",
     "collapsed": false,
     "input": [
      "print v[0]/10+0.15\n",
      "print p"
     ],
     "language": "python",
     "metadata": {},
     "outputs": [
      {
       "output_type": "stream",
       "stream": "stdout",
       "text": [
        "0.1637\n",
        "[0.16369999999999998, 0.1956, 0.2091, 0.2213, 0.2359, 0.24259999999999998, 0.2639, 0.28269999999999995, 0.3012, 0.3375]\n"
       ]
      }
     ],
     "prompt_number": 73
    },
    {
     "cell_type": "code",
     "collapsed": false,
     "input": [
      "t = [1,2,3,4,5,6,7,8,9,10]\n",
      "x = [7.75,7.33,6.89,6.45,5.96,5.55,5.10,4.49,3.93,3.58]\n",
      "u = [0.02,0.03,0.03,0.04,0.05,0.06,0.08,0.11,0.14,0.17]\n",
      "\n",
      "DataOut = column_stack((t,x,u))\n",
      "print DataOut"
     ],
     "language": "python",
     "metadata": {},
     "outputs": [
      {
       "output_type": "stream",
       "stream": "stdout",
       "text": [
        "[[  1.     7.75   0.02]\n",
        " [  2.     7.33   0.03]\n",
        " [  3.     6.89   0.03]\n",
        " [  4.     6.45   0.04]\n",
        " [  5.     5.96   0.05]\n",
        " [  6.     5.55   0.06]\n",
        " [  7.     5.1    0.08]\n",
        " [  8.     4.49   0.11]\n",
        " [  9.     3.93   0.14]\n",
        " [ 10.     3.58   0.17]]\n"
       ]
      }
     ],
     "prompt_number": 84
    },
    {
     "cell_type": "code",
     "collapsed": false,
     "input": [
      "DataOut = column_stack([t,x,u])\n",
      "print DataOut"
     ],
     "language": "python",
     "metadata": {},
     "outputs": [
      {
       "output_type": "stream",
       "stream": "stdout",
       "text": [
        "[[  1.     7.75   0.02]\n",
        " [  2.     7.33   0.03]\n",
        " [  3.     6.89   0.03]\n",
        " [  4.     6.45   0.04]\n",
        " [  5.     5.96   0.05]\n",
        " [  6.     5.55   0.06]\n",
        " [  7.     5.1    0.08]\n",
        " [  8.     4.49   0.11]\n",
        " [  9.     3.93   0.14]\n",
        " [ 10.     3.58   0.17]]\n"
       ]
      }
     ],
     "prompt_number": 83
    },
    {
     "cell_type": "code",
     "collapsed": false,
     "input": [
      "xi = arange(0,10.1,0.1)\n",
      "yi = []\n",
      "for i in range(len(x)):\n",
      "    yi.append(xi[i]+0.3*uniform())\n",
      "plot(x,y,'r.')\n",
      "ylim(ymax = 10.3, ymin = 0)\n",
      "show()"
     ],
     "language": "python",
     "metadata": {},
     "outputs": [
      {
       "output_type": "display_data",
       "png": "[encoded data removed]"
      }
     ],
     "prompt_number": 122
    },
    {
     "cell_type": "code",
     "collapsed": false,
     "input": [
      "plot(xi,xi*yi)"
     ],
     "language": "python",
     "metadata": {},
     "outputs": [
      {
       "output_type": "pyout",
       "prompt_number": 130,
       "text": [
        "[<matplotlib.lines.Line2D at 0x4196550>]"
       ]
      },
      {
       "output_type": "display_data",
       "png": "[encoded data removed]"
      }
     ],
     "prompt_number": 130
    },
    {
     "cell_type": "code",
     "collapsed": false,
     "input": [
      "def LinearLeastSquaresFit(x,y):\n",
      "    x = sum(xi)/len(xi)\n",
      "    y = sum(yi)/len(yi)\n",
      "    xx0 = xi*xi\n",
      "    xx = sum(xx0)/len(xx0)\n",
      "    xy0 = xi*yi\n",
      "    xy = sum(xy0)/len(xy0)\n",
      "    return x,y,xx,xy"
     ],
     "language": "python",
     "metadata": {},
     "outputs": [],
     "prompt_number": 138
    },
    {
     "cell_type": "code",
     "collapsed": false,
     "input": [
      "LinearLeastSquaresFit(xi,yi)"
     ],
     "language": "python",
     "metadata": {},
     "outputs": [
      {
       "output_type": "pyout",
       "prompt_number": 139,
       "text": [
        "(5.0, 5.1677159260803629, 33.500000000000007, 34.373164612962285)"
       ]
      }
     ],
     "prompt_number": 139
    },
    {
     "cell_type": "code",
     "collapsed": false,
     "input": [],
     "language": "python",
     "metadata": {},
     "outputs": []
    }
   ],
   "metadata": {}
  }
 ]
}