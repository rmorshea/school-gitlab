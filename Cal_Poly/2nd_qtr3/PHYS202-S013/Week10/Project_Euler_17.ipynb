{
 "metadata": {
  "name": ""
 },
 "nbformat": 3,
 "nbformat_minor": 0,
 "worksheets": [
  {
   "cells": [
    {
     "cell_type": "markdown",
     "metadata": {},
     "source": [
      "Project Euler 17\n",
      "-"
     ]
    },
    {
     "cell_type": "code",
     "collapsed": false,
     "input": [
      "final = ''\n",
      "\n",
      "\n",
      "prefixes = ['one','two','three','four','five','six','seven'\n",
      "            ,'eight','nine','ten','eleven','twelve','thirteen'\n",
      "           ,'fourteen','fifteen','sixteen','seventeen','eighteen','nineteen']\n",
      "tens = ['twenty-','thirty-','forty-','fifty-','sixty-',\n",
      "       'seventy-','eighty-','ninety-']\n",
      "\n",
      "def parse(num, reset = 1):\n",
      "    global final \n",
      "    if reset == 1:\n",
      "        final = ''     \n",
      "    x = num\n",
      "    if x > 99:            \n",
      "        primeint = int(str(x)[0])\n",
      "        if x % 100 <> 0:   \n",
      "                             \n",
      "            final += (prefixes[primeint - 1] + ' hundred and ')\n",
      "            parse(x % 100,0)       \n",
      "        else:\n",
      "            final += (prefixes[primeint - 1] + ' hundred')\n",
      "    elif x >= 20:                   \n",
      "        primeint = int(str(x)[0])\n",
      "        final += tens[primeint - 2]\n",
      "        parse(x % 10,0)          \n",
      "    elif x > 0:           \n",
      "        final += prefixes[x - 1]\n",
      "    return final                   "
     ],
     "language": "python",
     "metadata": {},
     "outputs": [],
     "prompt_number": 6
    },
    {
     "cell_type": "raw",
     "metadata": {},
     "source": [
      "Example"
     ]
    },
    {
     "cell_type": "code",
     "collapsed": false,
     "input": [
      "total = 0\n",
      "                     \n",
      "alpha = 'abcdefghijklmnopqrstuvwxyz' \n",
      "count = 1                       \n",
      "\n",
      "for count in range(1,5):\n",
      "    string = parse(count) \n",
      "    chars = 0\n",
      "    for char in string:       \n",
      "        if char in alpha:         \n",
      "            chars+=1                  \n",
      "    total += chars\n",
      "\n",
      "total += len('five')      \n",
      "print 'Total characters:',total"
     ],
     "language": "python",
     "metadata": {},
     "outputs": [
      {
       "output_type": "stream",
       "stream": "stdout",
       "text": [
        "Total characters: 19\n"
       ]
      }
     ],
     "prompt_number": 7
    },
    {
     "cell_type": "raw",
     "metadata": {},
     "source": [
      "The Real Deal"
     ]
    },
    {
     "cell_type": "code",
     "collapsed": false,
     "input": [
      "\n",
      "total = 0\n",
      "                     \n",
      "alpha = 'abcdefghijklmnopqrstuvwxyz' \n",
      "count = 1                       \n",
      "\n",
      "for count in range(1,1000):\n",
      "    string = parse(count) \n",
      "    chars = 0\n",
      "    for char in string:       \n",
      "        if char in alpha:         \n",
      "            chars+=1                  \n",
      "    total += chars\n",
      "\n",
      "total += len('onethousand')      \n",
      "print 'Total characters:',total"
     ],
     "language": "python",
     "metadata": {},
     "outputs": [
      {
       "output_type": "stream",
       "stream": "stdout",
       "text": [
        "Total characters: 21124\n"
       ]
      }
     ],
     "prompt_number": 8
    },
    {
     "cell_type": "code",
     "collapsed": false,
     "input": [],
     "language": "python",
     "metadata": {},
     "outputs": []
    }
   ],
   "metadata": {}
  }
 ]
}