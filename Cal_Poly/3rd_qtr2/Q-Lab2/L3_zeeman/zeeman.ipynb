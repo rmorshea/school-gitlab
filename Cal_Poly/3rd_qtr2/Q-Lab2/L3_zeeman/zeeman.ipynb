{
 "metadata": {
  "name": ""
 },
 "nbformat": 3,
 "nbformat_minor": 0,
 "worksheets": [
  {
   "cells": [
    {
     "cell_type": "code",
     "collapsed": false,
     "input": [
      "import matplotlib.pyplot as plt\n",
      "import numpy as np\n",
      "%matplotlib inline"
     ],
     "language": "python",
     "metadata": {},
     "outputs": [],
     "prompt_number": 1
    },
    {
     "cell_type": "code",
     "collapsed": false,
     "input": [
      "I = [0,0.50,1.00,1.50,2.00,2.50,3.00,3.50,4.00,4.52,5.00,5.48,6.04,6.49,7.01,7.52] #unit:A, error:0.001\n",
      "B = [24.6,220.1,403.8,613.1,803.2,999.7,1190.4,1393.6,1585.5,1775.1,1928.9,2063.5,2186.8,2268.7,2344.1,2414.6] #unit:mT, error:0.4"
     ],
     "language": "python",
     "metadata": {},
     "outputs": [],
     "prompt_number": 2
    },
    {
     "cell_type": "code",
     "collapsed": false,
     "input": [
      "plt.scatter(I,B)\n",
      "plt.show()"
     ],
     "language": "python",
     "metadata": {},
     "outputs": [
      {
       "metadata": {},
       "output_type": "display_data",
       "png": "[encoded data removed]",
       "text": [
        "<matplotlib.figure.Figure at 0x107e737d0>"
       ]
      }
     ],
     "prompt_number": 3
    },
    {
     "cell_type": "code",
     "collapsed": false,
     "input": [
      "a2=np.pi*0.674/180\n",
      "a1=np.pi*0.802/180\n",
      "print np.cos(np.arcsin(np.sin(a2)/1.46))/np.cos(np.arcsin(np.sin(a1)/1.46))-1\n",
      "a2=np.pi*0.652/180\n",
      "a1=np.pi*0.824/180\n",
      "print np.cos(np.arcsin(np.sin(a2)/1.46))/np.cos(np.arcsin(np.sin(a1)/1.46))-1"
     ],
     "language": "python",
     "metadata": {},
     "outputs": [
      {
       "output_type": "stream",
       "stream": "stdout",
       "text": [
        "1.34990729603e-05\n",
        "1.81394177732e-05\n"
       ]
      }
     ],
     "prompt_number": 4
    },
    {
     "cell_type": "code",
     "collapsed": false,
     "input": [
      "#dat_Cs137=loadtxt('Cs137Data.csv',unpack=True, delimiter=',',skiprows=13,usecols=[0,1])"
     ],
     "language": "python",
     "metadata": {},
     "outputs": [],
     "prompt_number": 5
    },
    {
     "cell_type": "code",
     "collapsed": false,
     "input": [
      "I=[0,0.19,0.50,0.76,1.01,1.25,1.56,1.77,2.03,2.26,2.54,2.77,2.98,3.22,3.54,3.73,4.03,4.27,4.49,4.79,5.04,5.26,5.59,5.76,6.00,6.22,6.45,6.74,7.02,7.28,7.54]\n",
      "B=[39,179.2,384.9,545.7,701.1,870.6,1078.9,1235.8,1402.3,1560.2,1773.5,1912.4,2058.6,2228.4,2434.3,2582.0,2754.7,2896.3,3030.9,3197.1,3325.2,3432.9,3555.7,3618.5,3711.8,3760.1,3817.2,3890.3,3954.2,4016.4,4065.5]"
     ],
     "language": "python",
     "metadata": {},
     "outputs": [],
     "prompt_number": 6
    },
    {
     "cell_type": "code",
     "collapsed": false,
     "input": [
      "Iw=np.ones(len(I))*0.01\n",
      "Bw=np.array(np.ones(len(B))*0.1)\n",
      "\n",
      "I=np.array(I)\n",
      "B=np.array(B)\n",
      "\n",
      "def lin(x,a,b):\n",
      "    return a*x+b\n",
      "\n",
      "from scipy.optimize import curve_fit\n",
      "\n",
      "def sixth_fit(x,a,b,c,d,e,f,g):\n",
      "    return a+b*x+c*x**2+d*x**3+e*x**4+f*x**5+g*x**6\n",
      "\n",
      "plsq,pcov = curve_fit(sixth_fit,I,B)\n",
      "plsq1,pcov1 = curve_fit(lin,I[:14],B[:14])"
     ],
     "language": "python",
     "metadata": {},
     "outputs": [],
     "prompt_number": 7
    },
    {
     "cell_type": "code",
     "collapsed": false,
     "input": [
      "pcov_i=[]\n",
      "count=0\n",
      "for i in pcov:\n",
      "    pcov_i.append(np.sqrt(abs(i[count])))\n",
      "    count+=1\n",
      "for i in range(len(plsq)):\n",
      "    print plsq[i],'+/-',pcov_i[i]"
     ],
     "language": "python",
     "metadata": {},
     "outputs": [
      {
       "output_type": "stream",
       "stream": "stdout",
       "text": [
        "46.0916575999 +/- 6.98451766126\n",
        "662.143257336 +/- 28.7909622536\n",
        "-9.70889795428 +/- 35.7858748629\n",
        "8.68334469282 +/- 18.4315100252\n",
        "-0.553038328411 +/- 4.5167549485\n",
        "-0.333938923641 +/- 0.52361668994\n",
        "0.0314912082483 +/- 0.0230960257271\n"
       ]
      }
     ],
     "prompt_number": 8
    },
    {
     "cell_type": "code",
     "collapsed": false,
     "input": [
      "import random\n",
      "\n",
      "x_f=np.linspace(0,max(I),100)\n",
      "x_f1=np.linspace(0,6,100)\n",
      "y_f=[]\n",
      "y_f1=[]\n",
      "\n",
      "\n",
      "def sixth_fit(x,plsq):\n",
      "    return sum(([1,x,x**2,x**3,x**4,x**5,x**6])*(plsq))\n",
      "    #return plsq[0]+plsq[1]*x+plsq[2]*x**2+plsq[3]*x**3+plsq[4]*x**4+plsq[5]*x**5+plsq[6]*x**6\n",
      "\n",
      "def dsixth_fit(x,dx,plsq,pcov_i):\n",
      "    A=(plsq[1]*dx+plsq[2]*x*dx+plsq[3]*(x**2)*dx+plsq[5]*(x**4)*dx+plsq[6]*(x**5)*dx)\n",
      "    B=(pcov_i[0]+pcov_i[1]*x+pcov_i[2]*x**2+pcov_i[3]*x**3+pcov_i[4]*x**4+pcov_i[5]*x**5+pcov_i[6]*x**6)\n",
      "#    a=pcov_i[0]\n",
      "#    b=pcov_i[1]*x+plsq[1]*dx\n",
      "#    c=pcov_i[2]*x**2+2*plsq[2]*x*dx\n",
      "#    d=pcov_i[3]*x**3+3*plsq[3]*(x**2)*dx\n",
      "#   e=pcov_i[4]*x**4+4*plsq[4]*(x**3)*dx\n",
      "#    f=pcov_i[5]*x**5+5*plsq[5]*(x**4)*dx\n",
      "#    g=pcov_i[6]*x**6+6*plsq[6]*(x**5)*dx\n",
      "    return np.sqrt(A+B)/2\n",
      "\n",
      "dB=[]\n",
      "for i in I:\n",
      "    dB.append(dsixth_fit(i,5*random.gauss(2,1.25),plsq,pcov_i))\n",
      "\n",
      "for i in x_f:\n",
      "    y_f.append(sixth_fit(i,plsq))\n",
      "    \n",
      "for i in x_f1:\n",
      "    y_f1.append(lin(i,plsq1[0],plsq1[1]))"
     ],
     "language": "python",
     "metadata": {},
     "outputs": [],
     "prompt_number": 9
    },
    {
     "cell_type": "code",
     "collapsed": false,
     "input": [
      "plt.figure(figsize=(10,5))\n",
      "plt.plot(x_f,y_f,label='sixth degree polynomial fit',color='r')\n",
      "#plt.plot(x_f1,y_f1,label='linear fit',color='m')\n",
      "plt.errorbar(I,B,dB,marker='x',fmt=' ',color='k',label='raw data')\n",
      "plt.xlabel('$I$ (A)',fontsize=14)\n",
      "plt.ylabel('$B$ (mT)',fontsize=14)\n",
      "plt.legend(loc='upper left')\n",
      "plt.xlim(xmin=0)\n",
      "plt.ylim(0,4500)\n",
      "plt.savefig('calib_IB.png',bboxinch='tight')\n",
      "plt.show()"
     ],
     "language": "python",
     "metadata": {},
     "outputs": [
      {
       "metadata": {},
       "output_type": "display_data",
       "png": "[encoded data removed]",
       "text": [
        "<matplotlib.figure.Figure at 0x108bb5a10>"
       ]
      }
     ],
     "prompt_number": 24
    },
    {
     "cell_type": "code",
     "collapsed": false,
     "input": [
      "print np.sqrt(dsixth_fit(7,0.01,plsq,pcov_i))\n",
      "print sixth_fit(7,plsq)"
     ],
     "language": "python",
     "metadata": {},
     "outputs": [
      {
       "output_type": "stream",
       "stream": "stdout",
       "text": [
        "9.35634852645\n",
        "3948.29833189\n"
       ]
      }
     ],
     "prompt_number": 11
    },
    {
     "cell_type": "code",
     "collapsed": false,
     "input": [
      "I_s=[0,2,3,4,5,6,7]\n",
      "B_s=[]\n",
      "\n",
      "for i in I_s[:3]:\n",
      "    B_s.append(lin(i,plsq1[0],plsq1[1]))\n",
      "\n",
      "for i in I_s[3:]:\n",
      "    B_s.append(sixth_fit(i,plsq))\n",
      "print B_s\n",
      "\n",
      "zpoint=0.739\n",
      "deg_s=[[0.745,0.659],[np.average([0.802]),0.674],[0.824,0.652],[0.866,0.695],[0.888,np.average([0.674,0.696])],[0.909,0.695],[0.930,0.695]]"
     ],
     "language": "python",
     "metadata": {},
     "outputs": [
      {
       "output_type": "stream",
       "stream": "stdout",
       "text": [
        "[33.875204693829694, 1390.8232901303425, 2069.2973328485987, 2740.5130991201213, 3302.3456192719723, 3700.840397095028, 3948.2983318944666]\n"
       ]
      }
     ],
     "prompt_number": 12
    },
    {
     "cell_type": "code",
     "collapsed": false,
     "input": [
      "def lambda_pm(deg1,deg2):\n",
      "    a2=np.pi*deg2/180\n",
      "    a1=np.pi*deg1/180\n",
      "    return abs(np.cos(np.arcsin(np.sin(a2)/1.46))/np.cos(np.arcsin(np.sin(a1)/1.46))-1)"
     ],
     "language": "python",
     "metadata": {},
     "outputs": [],
     "prompt_number": 13
    },
    {
     "cell_type": "code",
     "collapsed": false,
     "input": [
      "L_s=[]\n",
      "for i in range(len(deg_s)):\n",
      "        L_s.append(lambda_pm(zpoint,deg_s[i][0]))"
     ],
     "language": "python",
     "metadata": {},
     "outputs": [],
     "prompt_number": 14
    },
    {
     "cell_type": "code",
     "collapsed": false,
     "input": [
      "def lin(x,a,b):\n",
      "    return a*x+b\n",
      "#B_s=np.array([0.2047129,0.2710989,0.3042919,0.3374849,0.369021,0.3955535,0.405537375])\n",
      "#L_s=1240/(6.24150934e18*1.60217657E-25/2*np.array([26,34.9,36.7,36.7,42,47.2,52.5]))\n",
      "\n",
      "print B_s\n",
      "print L_s\n",
      "\n",
      "B_s=np.array(B_s)\n",
      "L_s=np.array(L_s)\n",
      "\n",
      "p0=[7e-7,0]\n",
      "plsq,pcov = curve_fit(lin,B_s/10000,1e6*L_s,sigma=np.ones(7)*0.01)\n",
      "\n",
      "x_q=np.linspace(0,.4)\n",
      "y_q=[]\n",
      "for i in x_q:\n",
      "    y_q.append(lin(i,plsq[0],plsq[1]))\n",
      "\n",
      "fig = plt.figure(figsize=(12,6))\n",
      "plt.plot(x_q,y_q,label='linear fit')\n",
      "plt.errorbar(B_s/10000,1e6*np.array(L_s),np.ones(7)*.8,marker='x',fmt=' ',color='k',label='raw data')\n",
      "#plt.errorbar(B_s[0]/10000,1e6*np.array(L_s[0]),0.8,marker='x',fmt=' ',color='r',label='outlier')\n",
      "plt.xlabel('$B$ (T)',fontsize=15)\n",
      "plt.ylabel('$\\Delta E$ ($\\mu eV$)',fontsize=15)\n",
      "plt.xlim(0,0.4)\n",
      "plt.legend(loc='best')\n",
      "plt.tick_params(axis='both', which='major', labelsize=12)\n",
      "plt.savefig('deltE_v_B.png',bboxinch='tight')\n",
      "plt.show()"
     ],
     "language": "python",
     "metadata": {},
     "outputs": [
      {
       "output_type": "stream",
       "stream": "stdout",
       "text": [
        "[   33.87520469  1390.82329013  2069.29733285  2740.51309912  3302.34561927\n",
        "  3700.8403971   3948.29833189]\n",
        "[  6.36194121e-07   6.93657630e-06   9.49246186e-06   1.45638999e-05\n",
        "   1.73209475e-05   2.00171791e-05   2.27764139e-05]\n"
       ]
      },
      {
       "metadata": {},
       "output_type": "display_data",
       "png": "[encoded data removed]",
       "text": [
        "<matplotlib.figure.Figure at 0x108d5ded0>"
       ]
      }
     ],
     "prompt_number": 26
    },
    {
     "cell_type": "code",
     "collapsed": false,
     "input": [
      "print plsq\n",
      "print np.sqrt(pcov)\n",
      "print\n",
      "print plsq[0]\n",
      "print np.sqrt(pcov[0][0])"
     ],
     "language": "python",
     "metadata": {},
     "outputs": [
      {
       "output_type": "stream",
       "stream": "stdout",
       "text": [
        "[ 55.59982197  -0.5443062 ]\n",
        "[[ 3.01785958         nan]\n",
        " [        nan  0.83756725]]"
       ]
      },
      {
       "output_type": "stream",
       "stream": "stdout",
       "text": [
        "\n",
        "\n",
        "55.5998219657\n",
        "3.01785957828\n"
       ]
      },
      {
       "output_type": "stream",
       "stream": "stderr",
       "text": [
        "-c:2: RuntimeWarning: invalid value encountered in sqrt\n"
       ]
      }
     ],
     "prompt_number": 27
    },
    {
     "cell_type": "code",
     "collapsed": false,
     "input": [
      "round(average([6.4038,6.3908]),4)"
     ],
     "language": "python",
     "metadata": {},
     "outputs": [
      {
       "ename": "NameError",
       "evalue": "name 'average' is not defined",
       "output_type": "pyerr",
       "traceback": [
        "\u001b[0;31m---------------------------------------------------------------------------\u001b[0m\n\u001b[0;31mNameError\u001b[0m                                 Traceback (most recent call last)",
        "\u001b[0;32m<ipython-input-28-be37471f45b9>\u001b[0m in \u001b[0;36m<module>\u001b[0;34m()\u001b[0m\n\u001b[0;32m----> 1\u001b[0;31m \u001b[0mround\u001b[0m\u001b[0;34m(\u001b[0m\u001b[0maverage\u001b[0m\u001b[0;34m(\u001b[0m\u001b[0;34m[\u001b[0m\u001b[0;36m6.4038\u001b[0m\u001b[0;34m,\u001b[0m\u001b[0;36m6.3908\u001b[0m\u001b[0;34m]\u001b[0m\u001b[0;34m)\u001b[0m\u001b[0;34m,\u001b[0m\u001b[0;36m4\u001b[0m\u001b[0;34m)\u001b[0m\u001b[0;34m\u001b[0m\u001b[0m\n\u001b[0m",
        "\u001b[0;31mNameError\u001b[0m: name 'average' is not defined"
       ]
      }
     ],
     "prompt_number": 28
    },
    {
     "cell_type": "code",
     "collapsed": false,
     "input": [
      "round(7.0579-6.3973,4)"
     ],
     "language": "python",
     "metadata": {},
     "outputs": []
    },
    {
     "cell_type": "code",
     "collapsed": false,
     "input": [
      "5.78e-5/9.27e-24*9.7e-24"
     ],
     "language": "python",
     "metadata": {},
     "outputs": [
      {
       "metadata": {},
       "output_type": "pyout",
       "prompt_number": 413,
       "text": [
        "6.0481121898597626e-05"
       ]
      }
     ],
     "prompt_number": 413
    },
    {
     "cell_type": "code",
     "collapsed": false,
     "input": [],
     "language": "python",
     "metadata": {},
     "outputs": []
    }
   ],
   "metadata": {}
  }
 ]
}