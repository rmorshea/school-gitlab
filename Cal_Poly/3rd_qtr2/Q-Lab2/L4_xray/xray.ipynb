{
 "metadata": {
  "name": ""
 },
 "nbformat": 3,
 "nbformat_minor": 0,
 "worksheets": [
  {
   "cells": [
    {
     "cell_type": "markdown",
     "metadata": {},
     "source": [
      "* note gain used was 350 for cal_en and cal_cn while a gain of 250 was used for cal_en_q and cal_cn_q."
     ]
    },
    {
     "cell_type": "code",
     "collapsed": false,
     "input": [
      "import numpy as np"
     ],
     "language": "python",
     "metadata": {},
     "outputs": [
      {
       "output_type": "stream",
       "stream": "stdout",
       "text": [
        "\n"
       ]
      }
     ],
     "prompt_number": 5
    },
    {
     "cell_type": "code",
     "collapsed": false,
     "input": [
      "Fe_Ka1=6.4038 #unit:KeV (same for all future measurements)\n",
      "Fe_Ka2=6.3908 #unit:KeV\n",
      "Fe_Ka = round(np.average([6.4038,6.3908]),4)\n",
      "Fe_Kb=7.0579\n",
      "print 'a:',Fe_Ka\n",
      "print 'b:',Fe_Kb"
     ],
     "language": "python",
     "metadata": {},
     "outputs": [
      {
       "output_type": "stream",
       "stream": "stdout",
       "text": [
        "a: 6.3973\n",
        "b: 7.0579\n"
       ]
      }
     ],
     "prompt_number": 6
    },
    {
     "cell_type": "code",
     "collapsed": false,
     "input": [
      "print 'dif:',Fe_Kb-Fe_Ka"
     ],
     "language": "python",
     "metadata": {},
     "outputs": [
      {
       "output_type": "stream",
       "stream": "stdout",
       "text": [
        "dif: 0.6606\n"
       ]
      }
     ],
     "prompt_number": 7
    },
    {
     "cell_type": "code",
     "collapsed": false,
     "input": [
      "Cu_Ka=round(np.average([8.0477,8.0278]),4)\n",
      "print 'a:',Cu_Ka\n",
      "Cu_Kb=8.9053\n",
      "print 'b:',Cu_Kb"
     ],
     "language": "python",
     "metadata": {},
     "outputs": [
      {
       "output_type": "stream",
       "stream": "stdout",
       "text": [
        "a: 8.0377\n",
        "b: 8.9053\n"
       ]
      }
     ],
     "prompt_number": 8
    },
    {
     "cell_type": "code",
     "collapsed": false,
     "input": [
      "Ni_Ka=round(np.average([7.4782,7.4609]),4)\n",
      "print 'a:',Ni_Ka\n",
      "Ni_Kb=8.2647\n",
      "print 'b:',Ni_Kb"
     ],
     "language": "python",
     "metadata": {},
     "outputs": [
      {
       "output_type": "stream",
       "stream": "stdout",
       "text": [
        "a: 7.4695\n",
        "b: 8.2647\n"
       ]
      }
     ],
     "prompt_number": 9
    },
    {
     "cell_type": "code",
     "collapsed": false,
     "input": [
      "Zn_Ka=round(np.average([8.6389,8.6158]),4)\n",
      "print 'a:',Zn_Ka\n",
      "Zn_Kb=9.5720\n",
      "print 'b:',Zn_Kb #note: has same sig figs as all others"
     ],
     "language": "python",
     "metadata": {},
     "outputs": [
      {
       "output_type": "stream",
       "stream": "stdout",
       "text": [
        "a: 8.6273\n",
        "b: 9.572\n"
       ]
      }
     ],
     "prompt_number": 10
    },
    {
     "cell_type": "code",
     "collapsed": false,
     "input": [
      "Mo_Ka=round(np.average([17.4793,17.3743]),7)\n",
      "print 'a:',Mo_Ka\n",
      "Mo_Kb=19.6083\n",
      "print 'b:',Mo_Kb #note: has same sig figs as all others"
     ],
     "language": "python",
     "metadata": {},
     "outputs": [
      {
       "output_type": "stream",
       "stream": "stdout",
       "text": [
        "a: 17.4268\n",
        "b: 19.6083\n"
       ]
      }
     ],
     "prompt_number": 11
    },
    {
     "cell_type": "code",
     "collapsed": false,
     "input": [
      "Zr_Ka=round(np.average([15.7751,15.6909]),4)\n",
      "print 'a:',Zr_Ka\n",
      "Zr_Kb=17.6678\n",
      "print 'b:',Zr_Kb"
     ],
     "language": "python",
     "metadata": {},
     "outputs": [
      {
       "output_type": "stream",
       "stream": "stdout",
       "text": [
        "a: 15.733\n",
        "b: 17.6678\n"
       ]
      }
     ],
     "prompt_number": 12
    },
    {
     "cell_type": "code",
     "collapsed": false,
     "input": [
      "Rh_Ka=round(np.average([20.216,20.074]),3)\n",
      "print 'a:',Rh_Ka\n",
      "Rh_Kb=22.724\n",
      "print 'b:',Rh_Kb"
     ],
     "language": "python",
     "metadata": {},
     "outputs": [
      {
       "output_type": "stream",
       "stream": "stdout",
       "text": [
        "a: 20.145\n",
        "b: 22.724\n"
       ]
      }
     ],
     "prompt_number": 13
    },
    {
     "cell_type": "code",
     "collapsed": false,
     "input": [
      "Sn_Ka=round(np.average([25.2713,25.0440]),4)\n",
      "print 'a:',Sn_Ka\n",
      "Sn_Kb=28.4860\n",
      "print 'b:',Sn_Kb"
     ],
     "language": "python",
     "metadata": {},
     "outputs": [
      {
       "output_type": "stream",
       "stream": "stdout",
       "text": [
        "a: 25.1577\n",
        "b: 28.486\n"
       ]
      }
     ],
     "prompt_number": 14
    },
    {
     "cell_type": "raw",
     "metadata": {},
     "source": [
      "Calibration List:"
     ]
    },
    {
     "cell_type": "code",
     "collapsed": false,
     "input": [
      "cal_en=[Fe_Ka,Fe_Kb,Cu_Ka,Cu_Kb,Ni_Ka,Ni_Kb,Zn_Ka,Zn_Kb]\n",
      "en_a=[Fe_Ka,Cu_Ka,Ni_Ka,Zn_Ka]\n",
      "at_a=[26,29,28,30]\n",
      "cal_cn=[117.95,129.83,147.96,163.58,137.57,151.96,158.78,175.67]\n",
      "print cal_en\n",
      "print cal_cn\n",
      "print 'atmoic number',at_a\n",
      "print 'energy',en_a"
     ],
     "language": "python",
     "metadata": {},
     "outputs": [
      {
       "output_type": "stream",
       "stream": "stdout",
       "text": [
        "[6.3973, 7.0579, 8.0377, 8.9053, 7.4695, 8.2647, 8.6273, 9.572]\n",
        "[117.95, 129.83, 147.96, 163.58, 137.57, 151.96, 158.78, 175.67]\n",
        "atmoic number [26, 29, 28, 30]\n",
        "energy [6.3973, 8.0377, 7.4695, 8.6273]\n"
       ]
      }
     ],
     "prompt_number": 15
    },
    {
     "cell_type": "code",
     "collapsed": false,
     "input": [
      "for i in range(len(en_a)):\n",
      "    en_a[i]=sqrt(en_a[i])\n",
      "print en_a"
     ],
     "language": "python",
     "metadata": {},
     "outputs": [
      {
       "output_type": "stream",
       "stream": "stdout",
       "text": [
        "[2.5292884374859268, 2.835083773012713, 2.7330386019959541, 2.9372265830201116]\n"
       ]
      }
     ],
     "prompt_number": 14
    },
    {
     "cell_type": "code",
     "collapsed": false,
     "input": [
      "cal_cn_q=[263.25,296.52]\n",
      "cal_en_q=[20.145,22.724]"
     ],
     "language": "python",
     "metadata": {},
     "outputs": [],
     "prompt_number": 15
    },
    {
     "cell_type": "raw",
     "metadata": {},
     "source": [
      "Curve fit"
     ]
    },
    {
     "cell_type": "code",
     "collapsed": false,
     "input": [
      "from scipy.optimize import curve_fit"
     ],
     "language": "python",
     "metadata": {},
     "outputs": [],
     "prompt_number": 16
    },
    {
     "cell_type": "code",
     "collapsed": false,
     "input": [
      "def linear(x,a,b):\n",
      "    return a*x+b\n",
      "#p0=([0.5,0])\n",
      "plsq,pcov=curve_fit(linear,array(cal_cn),array(cal_en))\n",
      "print plsq\n",
      "print sqrt(abs(pcov))"
     ],
     "language": "python",
     "metadata": {},
     "outputs": [
      {
       "output_type": "stream",
       "stream": "stdout",
       "text": [
        "[ 0.05489315 -0.07792063]\n",
        "[[ 0.00014606  0.00177635]\n",
        " [ 0.00177635  0.02175645]]\n"
       ]
      }
     ],
     "prompt_number": 17
    },
    {
     "cell_type": "code",
     "collapsed": false,
     "input": [
      "plsq_q,pcov_q=curve_fit(linear,array(cal_cn_q),array(cal_en_q))\n",
      "print plsq_q\n",
      "print pcov_q"
     ],
     "language": "python",
     "metadata": {},
     "outputs": [
      {
       "output_type": "stream",
       "stream": "stdout",
       "text": [
        "[ 0.07751728 -0.26142471]\n",
        "inf\n"
       ]
      }
     ],
     "prompt_number": 18
    },
    {
     "cell_type": "code",
     "collapsed": false,
     "input": [
      "def alt_linear(x,a,b):\n",
      "    return a*(x-b)\n",
      "\n",
      "p0=[0.1015,1.06]\n",
      "plsq_a,pcov_a=curve_fit(alt_linear,array(at_a),array(en_a))\n",
      "print plsq_a\n",
      "print sqrt(pcov_a)"
     ],
     "language": "python",
     "metadata": {},
     "outputs": [
      {
       "output_type": "stream",
       "stream": "stdout",
       "text": [
        "[ 0.10197722  1.19827978]\n",
        "[[  4.59422168e-05   7.48269074e-04]\n",
        " [  7.48269074e-04   1.22053933e-02]]\n"
       ]
      }
     ],
     "prompt_number": 19
    },
    {
     "cell_type": "code",
     "collapsed": false,
     "input": [
      "x=linspace(115,180,500)\n",
      "x1=linspace(255,305,500)\n",
      "x_a=linspace(25.5,30.5,500)\n",
      "y=linear(x,plsq[0],plsq[1])\n",
      "y1=linear(x1,plsq_q[0],plsq_q[1])\n",
      "y_a=alt_linear(x_a,plsq_a[0],plsq_a[1])\n",
      "\n",
      "figsize(10,6)\n",
      "scatter(cal_en,cal_cn,color='b',label='raw data (gain=350)')\n",
      "scatter(cal_en_q,cal_cn_q,color='r',label='raw data (gain=250)')\n",
      "plot(y,x,color='c',label='robust linear fit')\n",
      "plot(y1,x1,color='m',label='two point linear fit')\n",
      "ylabel('channel',fontsize=14)\n",
      "xlabel('energies (keV)',fontsize=14)\n",
      "ylim(110,310)\n",
      "xlim(5.5,24)\n",
      "legend(loc='upper left')\n",
      "show()"
     ],
     "language": "python",
     "metadata": {},
     "outputs": [
      {
       "metadata": {},
       "output_type": "display_data",
       "png": "[encoded data removed]",
       "text": [
        "<matplotlib.figure.Figure at 0x10dea9290>"
       ]
      }
     ],
     "prompt_number": 20
    },
    {
     "cell_type": "code",
     "collapsed": false,
     "input": [
      "figsize(12,8)\n",
      "scatter(at_a,en_a,label='raw data')\n",
      "plot(x_a,y_a,label='linear fit',color='c')\n",
      "ylabel('($K_{a}$)$^{1/2}$ (keV$^{1/2}$)',fontsize=14)\n",
      "xlabel('Atomic Number',fontsize=14)\n",
      "legend(loc='upper left')\n",
      "show()"
     ],
     "language": "python",
     "metadata": {},
     "outputs": [
      {
       "metadata": {},
       "output_type": "display_data",
       "png": "[encoded data removed]",
       "text": [
        "<matplotlib.figure.Figure at 0x10048c9d0>"
       ]
      }
     ],
     "prompt_number": 28
    },
    {
     "cell_type": "raw",
     "metadata": {},
     "source": [
      "Unknowns:"
     ]
    },
    {
     "cell_type": "code",
     "collapsed": false,
     "input": [
      "k2_cn=([137.30,164.32,287.52])\n",
      "k1_cn=([126.45,149.43])"
     ],
     "language": "python",
     "metadata": {},
     "outputs": [],
     "prompt_number": 22
    },
    {
     "cell_type": "code",
     "collapsed": false,
     "input": [
      "print pcov_q\n",
      "k1_en=[]\n",
      "for i in k1_cn:\n",
      "    k1_en.append(linear(i,plsq[0],plsq[1]))\n",
      "\n",
      "k2_en=[]\n",
      "for i in k2_cn:\n",
      "    k2_en.append(linear(i,plsq[0],plsq[1]))\n",
      "    \n",
      "print k1_en,'Ga or Ge (31 or 32)'\n",
      "print k2_en,'As, Se, Pb for the lower two peaks'"
     ],
     "language": "python",
     "metadata": {},
     "outputs": [
      {
       "output_type": "stream",
       "stream": "stdout",
       "text": [
        "inf\n",
        "[6.8633182568940301, 8.1247628559190819] Ga or Ge (31 or 32)\n",
        "[7.4589089400716553, 8.9421218672107692, 15.704958011679279] As, Se, Pb for the lower two peaks\n"
       ]
      }
     ],
     "prompt_number": 23
    },
    {
     "cell_type": "code",
     "collapsed": false,
     "input": [],
     "language": "python",
     "metadata": {},
     "outputs": [
      {
       "metadata": {},
       "output_type": "pyout",
       "prompt_number": 1,
       "text": [
        "0.010403999999999998"
       ]
      }
     ],
     "prompt_number": 1
    },
    {
     "cell_type": "code",
     "collapsed": false,
     "input": [],
     "language": "python",
     "metadata": {},
     "outputs": []
    }
   ],
   "metadata": {}
  }
 ]
}