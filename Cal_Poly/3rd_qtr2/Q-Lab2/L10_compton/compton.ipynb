{
 "metadata": {
  "name": ""
 },
 "nbformat": 3,
 "nbformat_minor": 0,
 "worksheets": [
  {
   "cells": [
    {
     "cell_type": "markdown",
     "metadata": {},
     "source": [
      "__Gain For Calibration:__\n",
      "\n",
      "51"
     ]
    },
    {
     "cell_type": "code",
     "collapsed": false,
     "input": [
      "import csv"
     ],
     "language": "python",
     "metadata": {},
     "outputs": [],
     "prompt_number": 2
    },
    {
     "cell_type": "code",
     "collapsed": false,
     "input": [
      "#ROI_Ba133:\n",
      "En_Ba133=[81.0,302.9,356.0]\n",
      "Ch_Ba133=[22.0,77.80,91.70-1]\n",
      "#ROI_Cd109:\n",
      "En_Cd109=[88.0,None,None]\n",
      "Ch_Cd109=[23.5,None,None]\n",
      "#ROI_Cd109:\n",
      "En_Co57=[122.1,None,None]\n",
      "Ch_Co57=[33.15,None,None]\n",
      "#ROI_Cd109:\n",
      "En_Na22=[511.0,None,None]\n",
      "Ch_Na22=[129.36,None,None]\n",
      "#ROI_Cd109:\n",
      "En_Cs137=[611.7,None,None]\n",
      "Ch_Cs137=[166.06,None,None]\n",
      "#ROI_Cd109:\n",
      "En_Mn54=[834.8,None,None]\n",
      "Ch_Mn54=[207.48,None,None]\n",
      "\n",
      "En_list=[En_Ba133,En_Cd109,En_Co57,En_Na22,En_Cs137,En_Mn54]\n",
      "Ch_list=[Ch_Ba133,Ch_Cd109,Ch_Co57,Ch_Na22,Ch_Cs137,Ch_Mn54]\n",
      "Titles=['Ba133','Ba133','Ba133','Cd109','Co57','Na22','Cs137','Mn54']"
     ],
     "language": "python",
     "metadata": {},
     "outputs": [],
     "prompt_number": 57
    },
    {
     "cell_type": "code",
     "collapsed": false,
     "input": [
      "En_=[]\n",
      "for i in En_list:\n",
      "    for j in i:\n",
      "        if j!=None:\n",
      "            En_.append(j)\n",
      "Ch_=[]\n",
      "for i in Ch_list:\n",
      "    for j in i:\n",
      "        if j!=None:\n",
      "            Ch_.append(j)\n",
      "print En_\n",
      "print Ch_"
     ],
     "language": "python",
     "metadata": {},
     "outputs": [
      {
       "output_type": "stream",
       "stream": "stdout",
       "text": [
        "[81.0, 302.9, 356.0, 88.0, 122.1, 511.0, 611.7, 834.8]\n",
        "[22.0, 77.8, 90.7, 23.5, 33.15, 129.36, 166.06, 207.48]\n"
       ]
      }
     ],
     "prompt_number": 58
    },
    {
     "cell_type": "code",
     "collapsed": false,
     "input": [
      "with open('centroid_dat.csv','w') as csvfile:\n",
      "    filewriter = csv.writer(csvfile)\n",
      "    filewriter.writerow(['Isotope','Channel','Energy'])\n",
      "    filewriter.writerows(zip(Titles,Ch_l,En_l))"
     ],
     "language": "python",
     "metadata": {},
     "outputs": [],
     "prompt_number": 59
    },
    {
     "cell_type": "code",
     "collapsed": false,
     "input": [
      "import matplotlib.pyplot as plt\n",
      "%matplotlib inline\n",
      "import numpy as np\n",
      "from scipy.optimize import curve_fit"
     ],
     "language": "python",
     "metadata": {},
     "outputs": [],
     "prompt_number": 60
    },
    {
     "cell_type": "code",
     "collapsed": false,
     "input": [
      "def lin(x,A,B):\n",
      "    return A*x+B\n",
      "p0=[0.25,1]\n",
      "\n",
      "plsq,pcov=curve_fit(lin,np.array(En_),np.array(Ch_),p0)\n",
      "\n",
      "x=np.linspace(70,850,1000)\n",
      "y=[]\n",
      "for i in x:\n",
      "    y.append(lin(i,plsq[0],plsq[1]))\n",
      "\n",
      "plt.plot(x,y,color='y')\n",
      "plt.scatter(En_,Ch_,marker='.')\n",
      "plt.xlim(10,850)\n",
      "plt.xlabel('Channel Number')\n",
      "plt.ylabel('Energy (eV)')\n",
      "plt.show()\n",
      "print 'Fit of the form: A*x+B'\n",
      "print '------------------------'\n",
      "print 'A=',round(plsq[0],5),'+/-',round(pcov[0][0],5)\n",
      "print 'B=',round(plsq[1],0),'+/-',round(pcov[1][1],0)"
     ],
     "language": "python",
     "metadata": {},
     "outputs": [
      {
       "metadata": {},
       "output_type": "display_data",
       "png": "[encoded data removed]",
       "text": [
        "<matplotlib.figure.Figure at 0x108d93a10>"
       ]
      },
      {
       "output_type": "stream",
       "stream": "stdout",
       "text": [
        "Fit of the form: A*x+B\n",
        "------------------------\n",
        "A= 0.25238 +/- 4e-05\n",
        "B= 2.0 +/- 8.0\n"
       ]
      }
     ],
     "prompt_number": 87
    },
    {
     "cell_type": "markdown",
     "metadata": {},
     "source": [
      "__Background stopped at:__ 10203.47 seconds\n",
      "\n",
      "10$^\\circ$: 467.07sec\n",
      "\n",
      "10$^\\circ$: 467.07sec\n",
      "\n",
      "10$^\\circ$: 467.07sec\n",
      "\n",
      "10$^\\circ$: 467.07sec\n",
      "\n",
      "10$^\\circ$: 467.07sec\n",
      "\n",
      "10$^\\circ$: 467.07sec\n",
      "\n",
      "10$^\\circ$: 467.07sec\n",
      "\n",
      "10$^\\circ$: 467.07sec"
     ]
    },
    {
     "cell_type": "code",
     "collapsed": false,
     "input": [
      "def centr(xdat,ydat,xrange_min,xrange_max,dxdat=None,dydat=None):\n",
      "    '''finds centroid of area between xrange_min, xrange_max. returns the centroid and it's error (if of the error data is provided) within the limits given. substitute \"NA\" for dx and dy data if no error data'''\n",
      "    min_val=None\n",
      "    max_val=None\n",
      "    if len(xdat)!=len(ydat):\n",
      "        raise ValueError('xdat and ydat must have same first dimension')\n",
      "    for i in range(0,len(xdat)):\n",
      "        if xdat[i]>xrange_min:\n",
      "            min_val = i\n",
      "            break\n",
      "    for i in range(1,len(xdat)+1):\n",
      "        if xdat[-i]<xrange_max:\n",
      "            max_val = -(i+1)\n",
      "            break\n",
      "    if min_val is None or max_val is None:\n",
      "        raise ValueError('xrange_min and yrange_min are not acceptable. ensure centr() limit values contain data')\n",
      "    xy = 0\n",
      "    dxy=0; xdy=0; sumxpy=0; dx=0; dy=0\n",
      "    dcentr = None\n",
      "    for i in range(min_val,len(xdat)+max_val):\n",
      "        xy += xdat[i]*ydat[i]\n",
      "    if dxdat is not None and dydat is not None:\n",
      "        maxi = len(xdat)+max_val\n",
      "        for i in range(min_val,maxi):\n",
      "            dxy += dxdat[i]*ydat[i]\n",
      "            xdy += xdat[i]*dydat[i]\n",
      "            sumxpy += xdat[i]+ydat[i]\n",
      "            dx += dxdat[i]\n",
      "            dy += dydat[i]\n",
      "        dcentr = sqrt(((dxy)/(sumxpy)-(xy*dx)/((sumxpy)**2))**2+(xdy)/(sumxpy)-(xy*dy)/((sumxpy)**2))**2\n",
      "    centr = float(xy)/float(sum(ydat[min_val:max_val]))\n",
      "    return centr, dcentr"
     ],
     "language": "python",
     "metadata": {},
     "outputs": [],
     "prompt_number": 1
    },
    {
     "cell_type": "code",
     "collapsed": false,
     "input": [
      "import csv\n",
      "import numpy as np\n",
      "Cs60_dat=np.genfromtxt('data/NR_Cs60.csv',delimiter=',',skiprows=10,usecols=range(2))\n",
      "Cs60_dat=zip(*Cs60_dat)"
     ],
     "language": "python",
     "metadata": {},
     "outputs": [],
     "prompt_number": 9
    },
    {
     "cell_type": "code",
     "collapsed": false,
     "input": [
      "centr(Cs60_dat[0],Cs60_dat[1],94,114)"
     ],
     "language": "python",
     "metadata": {},
     "outputs": [
      {
       "metadata": {},
       "output_type": "pyout",
       "prompt_number": 33,
       "text": [
        "(103.88970037453184, None)"
       ]
      }
     ],
     "prompt_number": 33
    },
    {
     "cell_type": "code",
     "collapsed": false,
     "input": [
      "import matplotlib.pyplot as plt\n",
      "%matplotlib inline\n",
      "\n",
      "xmi=94*np.ones(10)\n",
      "ymi=np.linspace(0,Cs60_dat[1][91],10)\n",
      "xc=104.2*np.ones(10)\n",
      "yc=np.linspace(0,1000,10)\n",
      "xma=114*np.ones(10)\n",
      "yma=np.linspace(0,Cs60_dat[1][114],10)\n",
      "plt.scatter(Cs60_dat[0],Cs60_dat[1],marker='.')\n",
      "plt.plot(xmi,ymi,color='k')\n",
      "plt.plot(xc,yc,color='r')\n",
      "plt.plot(xma,yma,color='k')\n",
      "plt.xlim(50,150)\n",
      "plt.ylim(0,1000)\n",
      "plt.show()"
     ],
     "language": "python",
     "metadata": {},
     "outputs": [
      {
       "metadata": {},
       "output_type": "display_data",
       "png": "[encoded data removed]",
       "text": [
        "<matplotlib.figure.Figure at 0x102fb1710>"
       ]
      }
     ],
     "prompt_number": 34
    },
    {
     "cell_type": "code",
     "collapsed": false,
     "input": [
      "Cs60_dat[1][91]"
     ],
     "language": "python",
     "metadata": {},
     "outputs": [
      {
       "metadata": {},
       "output_type": "pyout",
       "prompt_number": 30,
       "text": [
        "184.0"
       ]
      }
     ],
     "prompt_number": 30
    },
    {
     "cell_type": "code",
     "collapsed": false,
     "input": [],
     "language": "python",
     "metadata": {},
     "outputs": []
    }
   ],
   "metadata": {}
  }
 ]
}