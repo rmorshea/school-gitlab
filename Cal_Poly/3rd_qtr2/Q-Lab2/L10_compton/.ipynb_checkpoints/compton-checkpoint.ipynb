{
 "metadata": {
  "name": ""
 },
 "nbformat": 3,
 "nbformat_minor": 0,
 "worksheets": [
  {
   "cells": [
    {
     "cell_type": "markdown",
     "metadata": {},
     "source": [
      "__Gain For Calibration:__\n",
      "\n",
      "51"
     ]
    },
    {
     "cell_type": "code",
     "collapsed": false,
     "input": [
      "#ROI_Ba133:\n",
      "En_Ba133=[81.0,302.9,356.0]\n",
      "Ch_Ba133=[42.47,77.80,91.70]\n",
      "#ROI_Cd109:\n",
      "En_Ba133=[81.0,302.9,356.0]\n",
      "Ch_Ba133=[42.47,77.80,91.70]\n",
      "#ROI_Cd109:\n",
      "En_Co57=[]\n",
      "Ch_Co57=[]\n",
      "#ROI_Cd109:\n",
      "En_Na22=[]\n",
      "Ch_Na22=[]\n",
      "#ROI_Cd109:\n",
      "En_Cs137=[]\n",
      "Ch_Cs137=[]\n",
      "#ROI_Cd109:\n",
      "En_Mn54=[]\n",
      "Ch_Mn54=[]"
     ],
     "language": "python",
     "metadata": {},
     "outputs": []
    }
   ],
   "metadata": {}
  }
 ]
}