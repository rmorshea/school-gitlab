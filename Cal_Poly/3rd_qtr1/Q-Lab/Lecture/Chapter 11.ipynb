{
 "metadata": {
  "name": "Chapter 11.ipynb"
 },
 "nbformat": 3,
 "nbformat_minor": 0,
 "worksheets": [
  {
   "cells": [
    {
     "cell_type": "code",
     "collapsed": false,
     "input": [
      "def possion(u,v):\n",
      "    return u**(v)*e**(-u)/math.factorial(v)\n",
      "\n",
      "v = [0,1,2,3,4,5,6]\n",
      "p1=[]\n",
      "for i in v:\n",
      "    p1.append(possion(4,i))\n",
      "\n",
      "print 'v',v; print 'p1',p1\n",
      "\n",
      "bar(v,p1,width=1)\n",
      "show()"
     ],
     "language": "python",
     "metadata": {},
     "outputs": [
      {
       "output_type": "stream",
       "stream": "stdout",
       "text": [
        "v [0, 1, 2, 3, 4, 5, 6]\n",
        "p1 [0.018315638888734186, 0.07326255555493674, 0.14652511110987348, 0.19536681481316465, 0.19536681481316465, 0.15629345185053173, 0.10419563456702115]\n"
       ]
      },
      {
       "metadata": {},
       "output_type": "display_data",
       "png": "[encoded data removed]",
       "text": [
        "<matplotlib.figure.Figure at 0x10e02be90>"
       ]
      }
     ],
     "prompt_number": 123
    },
    {
     "cell_type": "code",
     "collapsed": false,
     "input": [
      "def possion(u,v):\n",
      "    return u**(v)*e**(-u)/math.factorial(v)\n",
      "\n",
      "v = [0,1,2,3,4,5,6]\n",
      "p1=[]\n",
      "for i in v:\n",
      "    p1.append(possion(2,i))\n",
      "\n",
      "print 'v',v; print 'p1',p1\n",
      "\n",
      "bar(v,p1,width=1)\n",
      "xlim(0,6)\n",
      "show()"
     ],
     "language": "python",
     "metadata": {},
     "outputs": [
      {
       "output_type": "stream",
       "stream": "stdout",
       "text": [
        "v [0, 1, 2, 3, 4, 5, 6]\n",
        "p1 [0.1353352832366127, 0.2706705664732254, 0.2706705664732254, 0.1804470443154836, 0.0902235221577418, 0.03608940886309672, 0.012029802954365574]\n"
       ]
      },
      {
       "metadata": {},
       "output_type": "display_data",
       "png": "[encoded data removed]",
       "text": [
        "<matplotlib.figure.Figure at 0x10e08e990>"
       ]
      }
     ],
     "prompt_number": 72
    },
    {
     "cell_type": "code",
     "collapsed": false,
     "input": [
      "def possion(u,v):\n",
      "    return u**(v)*e**(-u)/math.factorial(v)\n",
      "\n",
      "u = (5e19)*(3e-20)*5 # u = (number of particles)x(probability)x(time)\n",
      "v = [0,1,2,3,4]\n",
      "p1=[]\n",
      "for i in v:\n",
      "    p1.append(possion(u,i))\n",
      "\n",
      "print 'u',u; print 'v',v; print 'p1',p1\n",
      "\n",
      "bar(v,p1,width=1)\n",
      "xlim(0,4)\n",
      "ylim(0,.05)\n",
      "show()\n",
      "\n",
      "print"
     ],
     "language": "python",
     "metadata": {},
     "outputs": [
      {
       "output_type": "stream",
       "stream": "stdout",
       "text": [
        "u 7.5\n",
        "v [0, 1, 2, 3, 4]\n",
        "p1 [0.0005530843701478333, 0.00414813277610875, 0.015555497910407815, 0.03888874477601954, 0.07291639645503666]\n"
       ]
      },
      {
       "metadata": {},
       "output_type": "display_data",
       "png": "[encoded data removed]",
       "text": [
        "<matplotlib.figure.Figure at 0x10ece20d0>"
       ]
      },
      {
       "output_type": "stream",
       "stream": "stdout",
       "text": [
        "\n"
       ]
      }
     ],
     "prompt_number": 121
    },
    {
     "cell_type": "code",
     "collapsed": false,
     "input": [
      "def possion(u,v):\n",
      "    return u**(v)*e**(-u)/math.factorial(v)\n",
      "\n",
      "u = 3 #(number of particles)x(probability)x(time)\n",
      "v = [0,1,2,3,4,5,6,7,8,9]\n",
      "vplot=[]\n",
      "p1=[]\n",
      "for i in v:\n",
      "    p1.append(possion(u,i))\n",
      "    vplot.append(i+0.5)\n",
      "\n",
      "print 'PREDICTED'\n",
      "print 'u:', u; print 'v:', v; print 'p1:';print p1\n",
      "\n",
      "bar(vplot,p1,width=.5,label='predicted')\n",
      "xlim(0,9)\n",
      "\n",
      "Tobs = [5.,19.,23.,21.,14.,12.,3.,2.,1.,0]\n",
      "obsprob = []\n",
      "for i in Tobs:\n",
      "    obsprob.append(i/sum(Tobs))\n",
      "\n",
      "print\n",
      "print 'MEASURED'\n",
      "print 'times observed:';print Tobs\n",
      "print 'probability per decay #:';print obsprob\n",
      "    \n",
      "bar(v,obsprob,color='red',width=.5,label='measured')\n",
      "legend()\n",
      "show()\n",
      "\n",
      "print"
     ],
     "language": "python",
     "metadata": {},
     "outputs": [
      {
       "output_type": "stream",
       "stream": "stdout",
       "text": [
        "PREDICTED\n",
        "u: 3\n",
        "v: [0, 1, 2, 3, 4, 5, 6, 7, 8, 9]\n",
        "p1:\n",
        "[0.04978706836786395, 0.14936120510359185, 0.22404180765538778, 0.22404180765538775, 0.16803135574154082, 0.10081881344492451, 0.05040940672246225, 0.02160403145248382, 0.008101511794681432, 0.002700503931560478]\n",
        "\n"
       ]
      },
      {
       "output_type": "stream",
       "stream": "stdout",
       "text": [
        "MEASURED\n",
        "times observed:\n",
        "[5.0, 19.0, 23.0, 21.0, 14.0, 12.0, 3.0, 2.0, 1.0, 0]\n",
        "probability per decay #:\n",
        "[0.050000000000000003, 0.19, 0.23000000000000001, 0.20999999999999999, 0.14000000000000001, 0.12, 0.029999999999999999, 0.02, 0.01, 0.0]\n"
       ]
      },
      {
       "metadata": {},
       "output_type": "display_data",
       "png": "[encoded data removed]",
       "text": [
        "<matplotlib.figure.Figure at 0x10eecfb10>"
       ]
      },
      {
       "output_type": "stream",
       "stream": "stdout",
       "text": [
        "\n"
       ]
      }
     ],
     "prompt_number": 113
    },
    {
     "cell_type": "code",
     "collapsed": false,
     "input": [
      "def possion(u,v):\n",
      "    return u**(v)*e**(-u)/math.factorial(v)\n",
      "u = 9\n",
      "sig = sqrt(u)\n",
      "v = [6,7,8,9,10,11,12]\n",
      "p1=[]\n",
      "for i in v:\n",
      "    p1.append(possion(u,i))\n",
      "\n",
      "print 'u:',u; print 'sigma:', sig; print 'v:',v; print 'p1:',p1\n",
      "\n",
      "bar(v,p1,width=1)\n",
      "show()"
     ],
     "language": "python",
     "metadata": {},
     "outputs": [
      {
       "output_type": "stream",
       "stream": "stdout",
       "text": [
        "u: 9\n",
        "sigma: 3.0\n",
        "v: [6, 7, 8, 9, 10, 11, 12]\n",
        "p1: [0.0910903190189293, 0.11711612445290911, 0.13175564000952275, 0.13175564000952275, 0.11858007600857048, 0.09702006218883039, 0.0727650466416228]\n"
       ]
      },
      {
       "metadata": {},
       "output_type": "display_data",
       "png": "[encoded data removed]",
       "text": [
        "<matplotlib.figure.Figure at 0x10ecdc550>"
       ]
      }
     ],
     "prompt_number": 122
    },
    {
     "cell_type": "code",
     "collapsed": false,
     "input": [],
     "language": "python",
     "metadata": {},
     "outputs": []
    }
   ],
   "metadata": {}
  }
 ]
}