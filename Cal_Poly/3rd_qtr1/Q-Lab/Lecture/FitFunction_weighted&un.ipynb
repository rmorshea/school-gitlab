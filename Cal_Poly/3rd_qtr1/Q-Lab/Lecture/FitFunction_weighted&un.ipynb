{
 "metadata": {
  "name": "FitFunction_weighted&un.ipynb"
 },
 "nbformat": 3,
 "nbformat_minor": 0,
 "worksheets": [
  {
   "cells": [
    {
     "cell_type": "raw",
     "metadata": {},
     "source": [
      "LINEAR FUNCTION"
     ]
    },
    {
     "cell_type": "code",
     "collapsed": false,
     "input": [
      "def func(A,B,x):\n",
      "    y= A+B*x\n",
      "    return y"
     ],
     "language": "python",
     "metadata": {},
     "outputs": [],
     "prompt_number": 52
    },
    {
     "cell_type": "raw",
     "metadata": {},
     "source": [
      "NON-WEIGHTED FIT"
     ]
    },
    {
     "cell_type": "code",
     "collapsed": false,
     "input": [
      "def AB(x,y):\n",
      "    r=0\n",
      "    s=0\n",
      "    t=0\n",
      "    u=0\n",
      "    v=0\n",
      "    for i in range(len(x)):\n",
      "        s += x[i]**2\n",
      "        t += y[i]\n",
      "        u += x[i]*y[i]\n",
      "        v += x[i]\n",
      "        \n",
      "    w = float(len(x)*s-(v)**2)\n",
      "    \n",
      "    A = float(s*t-v*u)/w\n",
      "    B = float(len(x)*u-v*t)/w\n",
      "\n",
      "    for i in range(len(x)):\n",
      "        r += (y[i]-A-B*x[i])**2\n",
      "        \n",
      "    z = sqrt((1/float(len(x)-2))*r)\n",
      "    \n",
      "    dA = z*sqrt(s/w)\n",
      "    dB = z*sqrt(len(x)/w)\n",
      "    \n",
      "    AB = [A,B]\n",
      "    dAB = [dA,dB]\n",
      "    return AB,dAB"
     ],
     "language": "python",
     "metadata": {},
     "outputs": [],
     "prompt_number": 53
    },
    {
     "cell_type": "raw",
     "metadata": {},
     "source": [
      "FIT TEST"
     ]
    },
    {
     "cell_type": "code",
     "collapsed": false,
     "input": [
      "xx=[1,2,3,4,5,6,7,8,9,10]\n",
      "yy=[3.6715,-1.2075,-2.2828,-4.3698,-8.511,-10.9653,-14.2731,-18.3034,-20.7061,-24.7873]\n",
      "\n",
      "Coefs,Error = AB(xx,yy)\n",
      "print 'constants (slope, y-intercept):'\n",
      "print Coefs\n",
      "print 'asociated errors:'\n",
      "print Error\n",
      "\n",
      "xlots=linspace(1,11,100)\n",
      "scatter(xx,yy)\n",
      "plot(xlots,func(Coefs[0],Coefs[1],xlots))\n",
      "show()"
     ],
     "language": "python",
     "metadata": {},
     "outputs": [
      {
       "output_type": "stream",
       "stream": "stdout",
       "text": [
        "constants (slope, y-intercept):\n",
        "[6.656073333333338, -3.0599187878787877]\n",
        "asociated errors:\n",
        "[0.60885465180637555, 0.098125812035850885]\n"
       ]
      },
      {
       "metadata": {},
       "output_type": "display_data",
       "png": "[encoded data removed]",
       "text": [
        "<matplotlib.figure.Figure at 0x10d64dd50>"
       ]
      }
     ],
     "prompt_number": 58
    },
    {
     "cell_type": "raw",
     "metadata": {},
     "source": [
      "WEIGHTED FIT"
     ]
    },
    {
     "cell_type": "code",
     "collapsed": false,
     "input": [
      "def AB_weighted(x,y,sig):\n",
      "    w=[]    \n",
      "    for i in range(len(sig)):\n",
      "        w.append(1/sig[i]**2)\n",
      "    \n",
      "    #Solving for A\n",
      "    q=0\n",
      "    r=0\n",
      "    m=0\n",
      "    n=0\n",
      "    a=0\n",
      "    b=0\n",
      "    c=0\n",
      "    for i in range(len(x)):\n",
      "        q+= w[i]*x[i]**2\n",
      "        r+= w[i]*y[i]\n",
      "        m+= w[i]*x[i]\n",
      "        n+= w[i]*x[i]*y[i]\n",
      "        a += w[i]   \n",
      "        b += w[i]*x[i]**2  \n",
      "        c += w[i]*x[i]\n",
      "  \n",
      "    d= a*b-(c**2)\n",
      "    A = (q*r-m*n)/d\n",
      "    \n",
      "    #Solving for B\n",
      "    q=0\n",
      "    r=0\n",
      "    m=0\n",
      "    n=0\n",
      "    a=0\n",
      "    b=0\n",
      "    c=0\n",
      "    for i in range(len(x)):\n",
      "        q+= w[i]\n",
      "        r+= w[i]*y[i]*x[i]\n",
      "        m+= w[i]*x[i]\n",
      "        n+= w[i]*y[i]    \n",
      "    \n",
      "    B = (q*r-m*n)/d\n",
      "    \n",
      "    AB = [A,B]\n",
      "    return AB"
     ],
     "language": "python",
     "metadata": {},
     "outputs": [],
     "prompt_number": 48
    },
    {
     "cell_type": "code",
     "collapsed": false,
     "input": [
      "def dAB_weighted(x,y,sig):\n",
      "    w=[]\n",
      "    a=0\n",
      "    b=0\n",
      "    c=0\n",
      "    p=0\n",
      "    for i in range(len(sig)):\n",
      "        w.append(1/sig[i]**2)\n",
      "        a += w[i] \n",
      "        b += w[i]*x[i]**2    \n",
      "        c += w[i]*x[i]\n",
      "        p+=w[i]*x[i]**2\n",
      "    \n",
      "    d = a*b-(c**2)\n",
      "    dA = sqrt(p/d)\n",
      "    dB = sqrt(sum(w)/d)\n",
      "    dAB = [dA,dB]\n",
      "    return dAB"
     ],
     "language": "python",
     "metadata": {},
     "outputs": [],
     "prompt_number": 49
    },
    {
     "cell_type": "raw",
     "metadata": {},
     "source": [
      "WEIGHTED FIT TEST"
     ]
    },
    {
     "cell_type": "code",
     "collapsed": false,
     "input": [
      "xx=[1,2,3,4,5]\n",
      "yy=[1,3,6,7,10]\n",
      "ssig=[5,3,2,1,.1]\n",
      "\n",
      "Coefs = AB_weighted(xx,yy,ssig)\n",
      "print 'y-intercept, slope:',Coefs\n",
      "Error = dAB_weighted(xx,yy,ssig)\n",
      "print 'y-intercept error, slope error:',Error\n",
      "\n",
      "xlots=linspace(0,5,1000)\n",
      "scatter(xx,yy)\n",
      "plot(xlots,func(Coefs[0],Coefs[1],xlots))\n",
      "show()"
     ],
     "language": "python",
     "metadata": {},
     "outputs": [
      {
       "output_type": "stream",
       "stream": "stdout",
       "text": [
        "y-intercept, slope: [-5.000000000001455, 3.000000000000291]\n",
        "y-intercept error, slope error: [5.0159744815945109, 1.0049875621122353]\n"
       ]
      },
      {
       "metadata": {},
       "output_type": "display_data",
       "png": "[encoded data removed]",
       "text": [
        "<matplotlib.figure.Figure at 0x10ceb6f10>"
       ]
      }
     ],
     "prompt_number": 50
    },
    {
     "cell_type": "code",
     "collapsed": false,
     "input": [
      "ssig=[.1,1,2,3,4]\n",
      "\n",
      "Coefs = AB_weighted(xx,yy,ssig)\n",
      "print 'y-intercept, slope:',Coefs\n",
      "Error = dAB_weighted(xx,yy,ssig)\n",
      "print 'y-intercept error, slope error:',Error\n",
      "\n",
      "xlots=linspace(0,5,1000)\n",
      "scatter(xx,yy)\n",
      "plot(xlots,func(Coefs[0],Coefs[1],xlots))\n",
      "show()"
     ],
     "language": "python",
     "metadata": {},
     "outputs": [
      {
       "output_type": "stream",
       "stream": "stdout",
       "text": [
        "y-intercept, slope: [-1.0, 2.0]\n",
        "y-intercept error, slope error: [1.0198039027185568, 1.004987562112089]\n"
       ]
      },
      {
       "metadata": {},
       "output_type": "display_data",
       "png": "[encoded data removed]",
       "text": [
        "<matplotlib.figure.Figure at 0x10ce29e10>"
       ]
      }
     ],
     "prompt_number": 51
    },
    {
     "cell_type": "code",
     "collapsed": false,
     "input": [],
     "language": "python",
     "metadata": {},
     "outputs": []
    }
   ],
   "metadata": {}
  }
 ]
}