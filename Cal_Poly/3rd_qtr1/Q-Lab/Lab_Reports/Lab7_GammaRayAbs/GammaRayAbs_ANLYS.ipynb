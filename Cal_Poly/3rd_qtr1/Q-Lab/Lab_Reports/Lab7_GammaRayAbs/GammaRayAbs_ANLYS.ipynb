{
 "metadata": {
  "name": "GammaRayAbsorption.ipynb"
 },
 "nbformat": 3,
 "nbformat_minor": 0,
 "worksheets": [
  {
   "cells": [
    {
     "cell_type": "markdown",
     "metadata": {},
     "source": [
      "Data\n",
      "==="
     ]
    },
    {
     "cell_type": "code",
     "collapsed": false,
     "input": [
      "#Cesium\n",
      "LiveTime=60 #(s)\n",
      "NetCounts=556027\n",
      "GrossCounts=43833\n",
      "DetTime=13.688317"
     ],
     "language": "python",
     "metadata": {},
     "outputs": [],
     "prompt_number": 2
    },
    {
     "cell_type": "code",
     "collapsed": false,
     "input": [
      "#leadPlates\n",
      "#(In m converted from inches)\n",
      "th1=.213*2.54\n",
      "th2=.208*2.54\n",
      "th3=.207*2.54\n",
      "th4=.207*2.54\n",
      "th5=.206*2.54\n",
      "th6=.218*2.54\n",
      "th7=.205*2.54\n",
      "th8=.207*2.54\n",
      "\n",
      "print 'example:', th1\n"
     ],
     "language": "python",
     "metadata": {},
     "outputs": [
      {
       "output_type": "stream",
       "stream": "stdout",
       "text": [
        "example: 0.54102\n"
       ]
      }
     ],
     "prompt_number": 3
    },
    {
     "cell_type": "code",
     "collapsed": false,
     "input": [
      "#total thicknesses (cm)\n",
      "#last has a thickness of 8\n",
      "Pb_th = [0,th1,th1+th2,th1+th2+th3,th1+th2+th3+th4,th1+th2+th3+th4+th5,th1+th2+th3+th4+th5+th6,th1+th2+th3+th4+th5+th6+th7+th8]\n",
      "print Pb_th"
     ],
     "language": "python",
     "metadata": {},
     "outputs": [
      {
       "output_type": "stream",
       "stream": "stdout",
       "text": [
        "[0, 0.54102, 1.06934, 1.59512, 2.1209000000000002, 2.64414, 3.1978600000000004, 4.24434]\n"
       ]
      }
     ],
     "prompt_number": 4
    },
    {
     "cell_type": "code",
     "collapsed": false,
     "input": [
      "#ALUMINUMPLATES\n",
      "#(In m converted from inches)\n",
      "alth1=.515*2.54\n",
      "alth2=.519*2.54\n",
      "alth3=.522*2.54\n",
      "alth4=.509*2.54\n",
      "alth5=.509*2.54\n",
      "alth6=.509*2.54\n",
      "\n",
      "Alu_th = average([alth1,alth2,alth3,alth4,alth5,alth6])\n",
      "print 'avg th:', Alu_th\n",
      "\n",
      "#total thicknesses\n",
      "Al_th1 = Alu_th\n",
      "Al_th2 = Alu_th*2\n",
      "Al_th3 = Alu_th*3\n",
      "Al_th4 = Alu_th*4\n",
      "Al_th5 = Alu_th*5\n",
      "Al_th6 = Alu_th*6\n",
      "Al_th7 = Alu_th*7\n",
      "Al_th8 = Alu_th*8"
     ],
     "language": "python",
     "metadata": {},
     "outputs": [
      {
       "output_type": "stream",
       "stream": "stdout",
       "text": [
        "avg th: 1.30513666667\n"
       ]
      }
     ],
     "prompt_number": 5
    },
    {
     "cell_type": "code",
     "collapsed": false,
     "input": [
      "#background--\n",
      "#3.75 (in) +thLEADTOTAL"
     ],
     "language": "python",
     "metadata": {},
     "outputs": [],
     "prompt_number": 6
    },
    {
     "cell_type": "code",
     "collapsed": false,
     "input": [
      "#counts pb\n",
      "bkgrnd_Pb = 20\n",
      "#last one has thickness of 8\n",
      "m_cnts_Pb = [9689,7229,5103,3996,2962,2188,1660,849]\n",
      "\n",
      "tr_cnts_Pb = []\n",
      "for i in range(len(m_cnts_Pb)):\n",
      "    tr_cnts_Pb.append(m_cnts_Pb[i]-20)\n",
      "\n",
      "print tr_cnts_Pb\n",
      "\n",
      "#ln(uncertainty)\n",
      "tr_unc_Pb = []\n",
      "for i in range(len(m_cnts_Pb)):\n",
      "    tr_unc_Pb.append(sqrt(m_cnts_Pb[i]+20))\n",
      "print\n",
      "print tr_unc_Pb"
     ],
     "language": "python",
     "metadata": {},
     "outputs": [
      {
       "output_type": "stream",
       "stream": "stdout",
       "text": [
        "[9669, 7209, 5083, 3976, 2942, 2168, 1640, 829]\n",
        "\n",
        "[98.534258001976141, 85.141059424933161, 71.575135347409571, 63.371918071019437, 54.607691765904185, 46.98936049788292, 40.987803063838392, 29.478805945967352]\n"
       ]
      }
     ],
     "prompt_number": 7
    },
    {
     "cell_type": "markdown",
     "metadata": {},
     "source": [
      "Analysis\n",
      "==="
     ]
    },
    {
     "cell_type": "code",
     "collapsed": false,
     "input": [
      "def dB(x,y,sig):\n",
      "    w=[]\n",
      "    a=0\n",
      "    b=0\n",
      "    c=0\n",
      "    for i in range(len(sig)):\n",
      "        w.append(1/sig[i]**2)\n",
      "    for i in range(len(x)):\n",
      "        a += w[i]\n",
      "    for i in range(len(x)):    \n",
      "        b += w[i]*x[i]**2\n",
      "    for i in range(len(x)):    \n",
      "        c += w[i]*x[i]\n",
      "    d= a*b-(c**2)\n",
      "    return sqrt(sum(w)/d)"
     ],
     "language": "python",
     "metadata": {},
     "outputs": [],
     "prompt_number": 8
    },
    {
     "cell_type": "code",
     "collapsed": false,
     "input": [
      "def dA(x,y,sig):\n",
      "    w=[]\n",
      "    a=0\n",
      "    b=0\n",
      "    c=0\n",
      "    for i in range(len(sig)):\n",
      "        w.append(1/sig[i]**2)\n",
      "    for i in range(len(x)):\n",
      "        a += w[i]\n",
      "    for i in range(len(x)):    \n",
      "        b += w[i]*x[i]**2\n",
      "    for i in range(len(x)):    \n",
      "        c += w[i]*x[i]\n",
      "    d= a*b-(c**2)\n",
      "    p=0\n",
      "    for i in range(len(x)):\n",
      "        p+=w[i]*x[i]**2\n",
      "    return sqrt(p/d)"
     ],
     "language": "python",
     "metadata": {},
     "outputs": [],
     "prompt_number": 9
    },
    {
     "cell_type": "code",
     "collapsed": false,
     "input": [
      "def func(A,B,x):\n",
      "    y= A+B*x\n",
      "    return y\n",
      "\n",
      "def A(x,y,sig):\n",
      "    w=[]\n",
      "    q=0\n",
      "    r=0\n",
      "    m=0\n",
      "    n=0\n",
      "    d=0\n",
      "    a=0\n",
      "    b=0\n",
      "    c=0\n",
      "    \n",
      "    for i in range(len(sig)):\n",
      "        w.append(1/sig[i]**2)\n",
      "    for i in range(len(x)):\n",
      "        q+= w[i]*x[i]**2\n",
      "        r+= w[i]*y[i]\n",
      "        m+= w[i]*x[i]\n",
      "        n+= w[i]*x[i]*y[i]\n",
      "        a += w[i]   \n",
      "        b += w[i]*x[i]**2  \n",
      "        c += w[i]*x[i]\n",
      "        \n",
      "    d= a*b-(c**2)\n",
      "    A = (q*r-m*n)/d\n",
      "    return A\n",
      "\n",
      "def B(x,y,sig):\n",
      "    w=[]\n",
      "    for i in range(len(sig)):\n",
      "        w.append(1/sig[i]**2)\n",
      "    q=0\n",
      "    r=0\n",
      "    m=0\n",
      "    n=0\n",
      "    d=0\n",
      "    a=0\n",
      "    b=0\n",
      "    c=0\n",
      "    for i in range(len(x)):\n",
      "        q+= w[i]\n",
      "    for i in range(len(y)):\n",
      "        r+= w[i]*y[i]*x[i]\n",
      "    for i in range(len(x)):\n",
      "        m+= w[i]*x[i]\n",
      "    for i in range(len(y)):\n",
      "        n+= w[i]*y[i]\n",
      "    for i in range(len(x)):\n",
      "        a += w[i]\n",
      "    for i in range(len(x)):    \n",
      "        b += w[i]*x[i]**2\n",
      "    for i in range(len(x)):    \n",
      "        c += w[i]*x[i]\n",
      "    d= a*b-(c**2)\n",
      "    B = (q*r-m*n)/d\n",
      "    return B"
     ],
     "language": "python",
     "metadata": {},
     "outputs": [],
     "prompt_number": 10
    },
    {
     "cell_type": "code",
     "collapsed": false,
     "input": [
      "#INPUT FLOAT ARGUMENTS!!!!\n",
      "xx=[1,2,3,4,5]\n",
      "yy=[1,3,6,7,10]\n",
      "ssig=[100,.2,3.,4.,.100]\n",
      "print A(xx,yy,ssig)\n",
      "print B(xx,yy,ssig)\n",
      "xlots=linspace(0,5,1000)\n",
      "scatter(xx,yy)\n",
      "plot(xlots,func(A(xx,yy,ssig),B(xx,yy,ssig),xlots))\n",
      "show()"
     ],
     "language": "python",
     "metadata": {},
     "outputs": [
      {
       "output_type": "stream",
       "stream": "stdout",
       "text": [
        "-1.66428471825\n",
        "2.33285066402\n"
       ]
      },
      {
       "metadata": {},
       "output_type": "display_data",
       "png": "[encoded data removed]",
       "text": [
        "<matplotlib.figure.Figure at 0x10d726fd0>"
       ]
      }
     ],
     "prompt_number": 11
    },
    {
     "cell_type": "code",
     "collapsed": false,
     "input": [
      "log_Nnet =[]\n",
      "for i in tr_cnts_Pb:\n",
      "    log_Nnet.append(log(i))\n",
      "\n",
      "dy = []\n",
      "for i in range(len(tr_unc_Pb)):\n",
      "    dy.append(tr_unc_Pb[i]/tr_cnts_Pb[i])\n",
      "\n",
      "beta = A(Pb_th,log_Nnet,dy)\n",
      "alph = B(Pb_th,log_Nnet,dy)\n",
      "xlots = linspace(-0.5,4.5,100)\n",
      "ylots = []\n",
      "for i in xlots:\n",
      "    ylots.append(func(beta,alph,i))\n",
      "    \n",
      "print alph\n",
      "print beta"
     ],
     "language": "python",
     "metadata": {},
     "outputs": [
      {
       "output_type": "stream",
       "stream": "stdout",
       "text": [
        "-0.565877867246\n",
        "9.17667222043\n"
       ]
      }
     ],
     "prompt_number": 12
    },
    {
     "cell_type": "code",
     "collapsed": false,
     "input": [
      "figure(figsize=(9,6))\n",
      "plot(xlots,ylots,label='Weighted Fit')\n",
      "scatter(Pb_th,log_Nnet,marker='.',color='b')\n",
      "errorbar(Pb_th,log_Nnet,dy,c='g',fmt='.')\n",
      "xlabel('x (cm)',fontsize=14)\n",
      "ylabel('ln(N$_{net}$)',fontsize=14)\n",
      "xlim(-0.5,4.5)\n",
      "show()"
     ],
     "language": "python",
     "metadata": {},
     "outputs": [
      {
       "metadata": {},
       "output_type": "display_data",
       "png": "[encoded data removed]",
       "text": [
        "<matplotlib.figure.Figure at 0x10d739b50>"
       ]
      }
     ],
     "prompt_number": 13
    },
    {
     "cell_type": "code",
     "collapsed": false,
     "input": [
      "dbeta = dA(Pb_th,log_Nnet,dy)\n",
      "dalph = dB(Pb_th,log_Nnet,dy)\n",
      "alph = -alph\n",
      "beta = beta\n",
      "print beta\n",
      "print alph\n",
      "print dbeta\n",
      "print dalph"
     ],
     "language": "python",
     "metadata": {},
     "outputs": [
      {
       "output_type": "stream",
       "stream": "stdout",
       "text": [
        "9.17667222043\n",
        "0.565877867246\n",
        "0.00780312161933\n",
        "0.00514266352209\n"
       ]
      }
     ],
     "prompt_number": 14
    },
    {
     "cell_type": "code",
     "collapsed": false,
     "input": [
      "lamb_Pb = 1./alph\n",
      "dlamb_Pb = dalph/alph**2\n",
      "\n",
      "print lamb_Pb\n",
      "print dlamb_Pb"
     ],
     "language": "python",
     "metadata": {},
     "outputs": [
      {
       "output_type": "stream",
       "stream": "stdout",
       "text": [
        "1.76716577531\n",
        "0.0160598947161\n"
       ]
      }
     ],
     "prompt_number": 15
    },
    {
     "cell_type": "code",
     "collapsed": false,
     "input": [
      "mu_Pb = alph/11.3\n",
      "dmu_Pb = dalph/11.3\n",
      "\n",
      "print mu_Pb\n",
      "print dmu_Pb"
     ],
     "language": "python",
     "metadata": {},
     "outputs": [
      {
       "output_type": "stream",
       "stream": "stdout",
       "text": [
        "0.0500776873669\n",
        "0.000455102966556\n"
       ]
      }
     ],
     "prompt_number": 16
    },
    {
     "cell_type": "code",
     "collapsed": false,
     "input": [
      "L_hlf_Pb = log(.5)/(-alph)\n",
      "dL_hlf_Pb = (log(.5)*(-dalph))/(-alph)**2\n",
      "print L_hlf_Pb\n",
      "print dL_hlf_Pb"
     ],
     "language": "python",
     "metadata": {},
     "outputs": [
      {
       "output_type": "stream",
       "stream": "stdout",
       "text": [
        "1.22490597474\n",
        "0.0111318707426\n"
       ]
      }
     ],
     "prompt_number": 17
    },
    {
     "cell_type": "code",
     "collapsed": false,
     "input": [
      "NIST = [1.00000E-03,5.210E+03,5.197E+03,1.50000E-03,2.356E+03,2.344E+03,2.00000E-03,1.285E+03,1.274E+03,2.48400E-03,8.006E+02,7.895E+02,2.48400E-03,1.397E+03,1.366E+03,2.53429E-03,1.726E+03,1.682E+03,2.58560E-03,1.944E+03,1.895E+03,2.58560E-03,2.458E+03,2.390E+03,3.00000E-03,1.965E+03,1.913E+03,3.06640E-03,1.857E+03,1.808E+03,3.06640E-03,2.146E+03,2.090E+03,3.30130E-03,1.796E+03,1.748E+03,3.55420E-03,1.496E+03,1.459E+03,3.55420E-03,1.585E+03,1.546E+03,3.69948E-03,1.442E+03,1.405E+03,3.85070E-03,1.311E+03,1.279E+03,3.85070E-03,1.368E+03,1.335E+03,4.00000E-03,1.251E+03,1.221E+03,5.00000E-03,7.304E+02,7.124E+02,6.00000E-03,4.672E+02,4.546E+02,8.00000E-03,2.287E+02,2.207E+02,1.00000E-02,1.306E+02,1.247E+02,1.30352E-02,6.701E+01,6.270E+01,1.30352E-02,1.621E+02,1.291E+02,1.50000E-02,1.116E+02,9.100E+01,1.52000E-02,1.078E+02,8.807E+01,1.52000E-02,1.485E+02,1.131E+02,1.55269E-02,1.416E+02,1.083E+02,1.58608E-02,1.344E+02,1.032E+02,1.58608E-02,1.548E+02,1.180E+02,2.00000E-02,8.636E+01,6.899E+01,3.00000E-02,3.032E+01,2.536E+01,4.00000E-02,1.436E+01,1.211E+01,5.00000E-02,8.041E+00,6.740E+00,6.00000E-02,5.021E+00,4.149E+00,8.00000E-02,2.419E+00,1.916E+00,8.80045E-02,1.910E+00,1.482E+00,8.80045E-02,7.683E+00,2.160E+00,1.00000E-01,5.549E+00,1.976E+00,1.50000E-01,2.014E+00,1.056E+00,2.00000E-01,9.985E-01,5.870E-01,3.00000E-01,4.031E-01,2.455E-01,4.00000E-01,2.323E-01,1.370E-01,5.00000E-01,1.614E-01,9.128E-02,6.00000E-01,1.248E-01,6.819E-02,8.00000E-01,8.870E-02,4.644E-02,1.00000E+00,7.102E-02,3.654E-02,1.25000E+00,5.876E-02,2.988E-02,1.50000E+00,5.222E-02,2.640E-02,2.00000E+00,4.606E-02,2.360E-02,3.00000E+00,4.234E-02,2.322E-02,4.00000E+00,4.197E-02,2.449E-02,5.00000E+00,4.272E-02,2.600E-02,6.00000E+00,4.391E-02,2.744E-02,8.00000E+00,4.675E-02,2.989E-02,1.00000E+01,4.972E-02,3.181E-02,1.50000E+01,5.658E-02,3.478E-02,2.00000E+01,6.206E-02,3.595E-02]"
     ],
     "language": "python",
     "metadata": {},
     "outputs": [],
     "prompt_number": 18
    },
    {
     "cell_type": "code",
     "collapsed": false,
     "input": [
      "NIST_E = []\n",
      "NIST_murho = []\n",
      "NIST_muenrho = []\n",
      "for i in range(len(NIST)):\n",
      "    if (i+3)%3==0:\n",
      "        NIST_E.append(NIST[i])\n",
      "    if (i+2)%3==0:\n",
      "        NIST_murho.append(NIST[i])\n",
      "    if (i+1)%3==0:\n",
      "        NIST_muenrho.append(NIST[i])"
     ],
     "language": "python",
     "metadata": {},
     "outputs": [],
     "prompt_number": 19
    },
    {
     "cell_type": "code",
     "collapsed": false,
     "input": [
      "sort(NIST_E)\n",
      "sort(NIST_muenrho)\n",
      "figure(figsize(9,6))\n",
      "plot(NIST_E,NIST_murho,label='NIST data')\n",
      "scatter(1.33,mu_Pb,marker='.',color='g',label='Measured $\\mu$ at 1.33 MeV')\n",
      "errorbar(1.33,mu_Pb,10*dmu_Pb,color='r')\n",
      "yscale('log')\n",
      "xscale('log')\n",
      "xlabel('Energy (MeV)', fontsize=14)\n",
      "ylabel('$\\mu$ (cm$^2$/g)',fontsize=14)\n",
      "ylim(0,.1)\n",
      "xlim(1.25,1.5)\n",
      "legend()\n",
      "show()"
     ],
     "language": "python",
     "metadata": {},
     "outputs": [
      {
       "metadata": {},
       "output_type": "display_data",
       "png": "[encoded data removed]",
       "text": [
        "<matplotlib.figure.Figure at 0x10d737bd0>"
       ]
      }
     ],
     "prompt_number": 20
    },
    {
     "cell_type": "code",
     "collapsed": false,
     "input": [
      "# ^^using mu not mu/rho!!!"
     ],
     "language": "python",
     "metadata": {},
     "outputs": [],
     "prompt_number": 21
    },
    {
     "cell_type": "raw",
     "metadata": {},
     "source": [
      "Co60 spectrum"
     ]
    },
    {
     "cell_type": "code",
     "collapsed": false,
     "input": [
      "dat_Co60=loadtxt('Co60dat.csv',unpack=True, delimiter=',',skiprows=13,usecols=[0,1])\n",
      "#print z\n",
      "#print shape(z)[1]\n",
      "figure(figsize(10,6))\n",
      "plot(dat_Co60[0],dat_Co60[1])\n",
      "xlim(51,1000)\n",
      "ylim(0,2500)\n",
      "xlabel('Channel')\n",
      "ylabel('Counts')\n",
      "show()\n",
      "#FWHM=(408-437)"
     ],
     "language": "python",
     "metadata": {},
     "outputs": [
      {
       "metadata": {},
       "output_type": "display_data",
       "png": "[encoded data removed]",
       "text": [
        "<matplotlib.figure.Figure at 0x10d7077d0>"
       ]
      }
     ],
     "prompt_number": 22
    },
    {
     "cell_type": "code",
     "collapsed": false,
     "input": [
      "def polyfit(x,a,b,c):\n",
      "    \"a second-order polynomial fit\"\n",
      "    E = a*x**2.+b*x+c\n",
      "    return E\n",
      "\n",
      "print polyfit(2,1,2,1)\n",
      "\n",
      "plsq=[1.72945131e-04,1.43742329e+00,2.30711056e+01]"
     ],
     "language": "python",
     "metadata": {},
     "outputs": [
      {
       "output_type": "stream",
       "stream": "stdout",
       "text": [
        "9.0\n"
       ]
      }
     ],
     "prompt_number": 23
    },
    {
     "cell_type": "code",
     "collapsed": false,
     "input": [
      "print polyfit(794,plsq[0],plsq[1],plsq[2])-104\n",
      "print polyfit(893,plsq[0],plsq[1],plsq[2])-104"
     ],
     "language": "python",
     "metadata": {},
     "outputs": [
      {
       "output_type": "stream",
       "stream": "stdout",
       "text": [
        "1169.41603447\n",
        "1340.60502534\n"
       ]
      }
     ],
     "prompt_number": 24
    },
    {
     "cell_type": "code",
     "collapsed": false,
     "input": [
      "en_dat_Co60=[]\n",
      "for i in dat_Co60[0]:\n",
      "    en_dat_Co60.append((polyfit(i,plsq[0],plsq[1],plsq[2])-104)/1000)\n",
      "    \n",
      "dat_Co60=loadtxt('Co60dat.csv',unpack=True, delimiter=',',skiprows=13,usecols=[0,1])\n",
      "#print z\n",
      "#print shape(z)[1]\n",
      "figure(figsize(10,6))\n",
      "plot(en_dat_Co60,dat_Co60[1])\n",
      "yscale('log')\n",
      "xlim(0,1.5)\n",
      "ylim(150,2500)\n",
      "xlabel('Energy (MeV)')\n",
      "ylabel('Counts')\n",
      "annotate('1.33 MeV peak', xy=(1.33, 775), xytext=(1.33,50),textcoords='offset points', ha='center', va='bottom', arrowprops=dict(arrowstyle='->', color='red'))\n",
      "annotate('1.17 MeV peak', xy=(1.17, 1010), xytext=(1.17,50),textcoords='offset points', ha='center', va='bottom', arrowprops=dict(arrowstyle='->', color='red'))\n",
      "annotate('Compton Edge', xy=(0.825, 650), xytext=(0.85,50),textcoords='offset points', ha='center', va='bottom', arrowprops=dict(arrowstyle='->', color='red'))\n",
      "\n",
      "show()"
     ],
     "language": "python",
     "metadata": {},
     "outputs": [
      {
       "metadata": {},
       "output_type": "display_data",
       "png": "[encoded data removed]",
       "text": [
        "<matplotlib.figure.Figure at 0x10e3a0c90>"
       ]
      }
     ],
     "prompt_number": 71
    },
    {
     "cell_type": "code",
     "collapsed": false,
     "input": [],
     "language": "python",
     "metadata": {},
     "outputs": []
    }
   ],
   "metadata": {}
  }
 ]
}