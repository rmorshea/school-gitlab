{
 "metadata": {
  "name": "Mercury Data Analysis.ipynb"
 },
 "nbformat": 3,
 "nbformat_minor": 0,
 "worksheets": [
  {
   "cells": [
    {
     "cell_type": "markdown",
     "metadata": {},
     "source": [
      "Raw Data for Hg"
     ]
    },
    {
     "cell_type": "code",
     "collapsed": false,
     "input": [
      "rawY1 = array([360-(347+14./60),22+41./60])\n",
      "rawY2 = array([360-(347+18./60),22+34./60])\n",
      "rawG = array([360-(348+7./60), 21+38./60])\n",
      "rawV = array([360-(351+38./60), 18+17./60])\n",
      "rawB = array([360-(349+45./60), 19+55./60])"
     ],
     "language": "python",
     "metadata": {},
     "outputs": [],
     "prompt_number": 1
    },
    {
     "cell_type": "markdown",
     "metadata": {},
     "source": [
      "Y1,Y2,G,V, and B averages for large and small thetas"
     ]
    },
    {
     "cell_type": "code",
     "collapsed": false,
     "input": [
      "Y1_avg = (rawY1[0]+rawY1[1])/2\n",
      "Y2_avg = (rawY2[0]+rawY2[1])/2\n",
      "G_avg = (rawG[0]+rawG[1])/2\n",
      "V_avg = (rawV[0]+rawV[1])/2\n",
      "B_avg = (rawB[0]+rawB[1])/2\n",
      "\n",
      "print Y1_avg*pi/180, Y2_avg*pi/180, G_avg*pi/180, V_avg*pi/180, B_avg*pi/180"
     ],
     "language": "python",
     "metadata": {},
     "outputs": [
      {
       "output_type": "stream",
       "stream": "stdout",
       "text": [
        "0.309359609916 0.307759724768 0.292488093813 0.232565122828 0.263253828842\n"
       ]
      }
     ],
     "prompt_number": 2
    },
    {
     "cell_type": "markdown",
     "metadata": {},
     "source": [
      "wavelengths based on YYGVB theta averages"
     ]
    },
    {
     "cell_type": "code",
     "collapsed": false,
     "input": [
      "d = .001/530\n",
      "\n",
      "Y1_wav = d*sin(pi*Y1_avg/180)\n",
      "Y2_wav = d*sin(pi*Y2_avg/180)\n",
      "G_wav = d*sin(pi*G_avg/180)\n",
      "V_wav = d*sin(pi*V_avg/180)\n",
      "B_wav = d*sin(pi*B_avg/180)\n",
      "\n",
      "Wavs = array([Y1_wav,Y2_wav,G_wav,V_wav,B_wav])\n",
      "\n",
      "print Wavs*1e9"
     ],
     "language": "python",
     "metadata": {},
     "outputs": [
      {
       "output_type": "stream",
       "stream": "stdout",
       "text": [
        "[ 574.43152634  571.55544038  544.02931735  434.85725408  490.98802457]\n"
       ]
      }
     ],
     "prompt_number": 3
    },
    {
     "cell_type": "markdown",
     "metadata": {},
     "source": [
      "calculating error in wavelength"
     ]
    },
    {
     "cell_type": "code",
     "collapsed": false,
     "input": [
      "#from hydrogen theta errors (used which ever wavelength they best corriponded to)\n",
      "dY1 = 0.00082276\n",
      "dY2 = 0.00082276\n",
      "dG = 0.00061707\n",
      "dV = 0.00390809\n",
      "dB = 0.00061707\n",
      "\n",
      "erWavY1 = d*cos(pi*Y1_avg/180)*dY1\n",
      "erWavY2 = d*cos(pi*Y2_avg/180)*dY2\n",
      "erWavG = d*cos(pi*G_avg/180)*dG\n",
      "erWavV = d*cos(pi*V_avg/180)*dV\n",
      "erWavB = d*cos(pi*B_avg/180)*dB\n",
      "\n",
      "erWavs = array([erWavY1, erWavY2, erWavG, erWavV, erWavB])\n",
      "\n",
      "print dY1*pi/180,dY2*pi/180,dG*pi/180,dV*pi/180,dB*pi/180"
     ],
     "language": "python",
     "metadata": {},
     "outputs": [
      {
       "output_type": "stream",
       "stream": "stdout",
       "text": [
        "1.43598709537e-05 1.43598709537e-05 1.07699032153e-05 6.82090379643e-05 1.07699032153e-05\n"
       ]
      }
     ],
     "prompt_number": 19
    },
    {
     "cell_type": "markdown",
     "metadata": {},
     "source": [
      "finding energies and error in energies"
     ]
    },
    {
     "cell_type": "code",
     "collapsed": false,
     "input": [
      "h = 6.6261*10.**(-34) #unit: J*s\n",
      "c = 2.9979*10.**8     #unit: m/s\n",
      "\n",
      "Es = []\n",
      "for i in range(len(Wavs)):\n",
      "    Es.append(h*c/Wavs[i]*6.24150934*10**18)\n",
      "\n",
      "print Es"
     ],
     "language": "python",
     "metadata": {},
     "outputs": [
      {
       "output_type": "stream",
       "stream": "stdout",
       "text": [
        "[2.1583729306703399, 2.1692339349402796, 2.2789901526118181, 2.8511366553644213, 2.525188792655634]\n"
       ]
      }
     ],
     "prompt_number": 20
    },
    {
     "cell_type": "code",
     "collapsed": false,
     "input": [
      "ers = []\n",
      "for i in range(len(erWavs)):\n",
      "    ers.append((h*c/Wavs[i]**2)*erWavs[i]*6.24150934*10**18)\n",
      "    \n",
      "print ers"
     ],
     "language": "python",
     "metadata": {},
     "outputs": [
      {
       "output_type": "stream",
       "stream": "stdout",
       "text": [
        "[0.0055560174693193983, 0.0056149368782304528, 0.0046701501170617436, 0.047044389248318712, 0.0057816999673798806]\n"
       ]
      }
     ],
     "prompt_number": 21
    },
    {
     "cell_type": "code",
     "collapsed": false,
     "input": [],
     "language": "python",
     "metadata": {},
     "outputs": [],
     "prompt_number": 6
    }
   ],
   "metadata": {}
  }
 ]
}