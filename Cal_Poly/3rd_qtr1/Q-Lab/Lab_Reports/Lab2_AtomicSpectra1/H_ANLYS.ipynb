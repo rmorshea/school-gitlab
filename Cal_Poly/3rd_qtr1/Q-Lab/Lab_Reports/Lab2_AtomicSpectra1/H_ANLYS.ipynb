{
 "metadata": {
  "name": "Hydrogen Data Analysis.ipynb"
 },
 "nbformat": 3,
 "nbformat_minor": 0,
 "worksheets": [
  {
   "cells": [
    {
     "cell_type": "markdown",
     "metadata": {},
     "source": [
      "Raw Data for H"
     ]
    },
    {
     "cell_type": "code",
     "collapsed": false,
     "input": [
      "rawHR = array([25+8/60., 360-(344+25/60.), 25+14/60., 360-(344+27/60.)])\n",
      "rawHB = array([19+47/60.,360-(349+57/60.),19+50/60.,360-350.])\n",
      "rawHV = array([18+10/60., 360-(351+37/60.), 18+11/60., 360-(351+37/60)])\n",
      "\n",
      "print rawHR\n",
      "print rawHB\n",
      "print rawHV"
     ],
     "language": "python",
     "metadata": {},
     "outputs": [
      {
       "output_type": "stream",
       "stream": "stdout",
       "text": [
        "[ 25.13333333  15.58333333  25.23333333  15.55      ]\n",
        "[ 19.78333333  10.05        19.83333333  10.        ]\n",
        "[ 18.16666667   8.38333333  18.18333333   9.        ]\n"
       ]
      }
     ],
     "prompt_number": 1
    },
    {
     "cell_type": "markdown",
     "metadata": {},
     "source": [
      "red blue and violet averages for large and small thetas"
     ]
    },
    {
     "cell_type": "code",
     "collapsed": false,
     "input": [
      "HR_1avg = (rawHR[0]+rawHR[2])/2\n",
      "HR_2avg = (rawHR[1]+rawHR[3])/2\n",
      "\n",
      "HB_1avg = (rawHB[0]+rawHB[2])/2\n",
      "HB_2avg = (rawHB[1]+rawHB[3])/2\n",
      "\n",
      "HV_1avg = (rawHV[0]+rawHV[2])/2\n",
      "HV_2avg = (rawHV[1]+rawHV[3])/2\n",
      "\n",
      "allHavgs = [HR_1avg,HR_2avg,HB_1avg,HB_2avg,HV_1avg,HV_2avg]"
     ],
     "language": "python",
     "metadata": {},
     "outputs": [],
     "prompt_number": 2
    },
    {
     "cell_type": "markdown",
     "metadata": {},
     "source": [
      "standard deviations based on raw RBV data and RBV averages for large and small thetas\n",
      "\n",
      "output is unitless"
     ]
    },
    {
     "cell_type": "code",
     "collapsed": false,
     "input": [
      "allSDMs = []\n",
      "\n",
      "allSDMs.append(pi/180*sqrt((rawHR[0]-HR_1avg)**2+(rawHR[2]-HR_1avg)**2))\n",
      "allSDMs.append(pi/180*sqrt((rawHR[1]-HR_2avg)**2+(rawHR[3]-HR_2avg)**2))\n",
      "\n",
      "allSDMs.append(pi/180*sqrt((rawHB[0]-HB_1avg)**2+(rawHB[2]-HB_1avg)**2))\n",
      "allSDMs.append(pi/180*sqrt((rawHB[1]-HB_2avg)**2+(rawHB[3]-HB_2avg)**2))\n",
      "\n",
      "allSDMs.append(pi/180*sqrt((rawHV[0]-HV_1avg)**2+(rawHV[2]-HV_1avg)**2))\n",
      "allSDMs.append(pi/180*sqrt((rawHV[1]-HV_2avg)**2+(rawHV[3]-HV_2avg)**2))\n",
      "\n",
      "print allSDMs"
     ],
     "language": "python",
     "metadata": {},
     "outputs": [
      {
       "output_type": "stream",
       "stream": "stdout",
       "text": [
        "[0.0012341341494884527, 0.00041137804982910417, 0.00061706707474418253, 0.00061706707474435774, 0.00020568902491472748, 0.007610493921845444]\n"
       ]
      }
     ],
     "prompt_number": 3
    },
    {
     "cell_type": "markdown",
     "metadata": {},
     "source": [
      "average error in RBV using standard deviation of large and small thetas\n",
      "\n",
      "output unitless and cumulative for R, B, and V respectively"
     ]
    },
    {
     "cell_type": "code",
     "collapsed": false,
     "input": [
      "dHR = (allSDMs[0]+allSDMs[1])/2\n",
      "dHB = (allSDMs[2]+allSDMs[3])/2\n",
      "dHV = (allSDMs[4]+allSDMs[5])/2\n",
      "\n",
      "dHforplot = array([dHR,dHR,dHB,dHB,dHV,dHV])\n",
      "print dHR*pi/180, dHB*pi/180, dHV*pi/180\n",
      "print dHforplot"
     ],
     "language": "python",
     "metadata": {},
     "outputs": [
      {
       "output_type": "stream",
       "stream": "stdout",
       "text": [
        "1.43598028799e-05 1.07698521599e-05 6.82090636796e-05\n",
        "[ 0.00082276  0.00082276  0.00061707  0.00061707  0.00390809  0.00390809]\n"
       ]
      }
     ],
     "prompt_number": 4
    },
    {
     "cell_type": "markdown",
     "metadata": {},
     "source": [
      "Finding R_best, B_best, and V_best and using those values to find best R_wavelength, B_wavelength, and V_wavelength\n",
      "\n",
      "values are printed in eV"
     ]
    },
    {
     "cell_type": "code",
     "collapsed": false,
     "input": [
      "HR = (allHavgs[0]+allHavgs[1])/2\n",
      "HB = (allHavgs[2]+allHavgs[3])/2\n",
      "HV = (allHavgs[4]+allHavgs[5])/2\n",
      "\n",
      "print HR*pi/180, HB*pi/180, HV*pi/180\n",
      "print\n",
      "\n",
      "d=.001/530.\n",
      "\n",
      "HRwav = d*sin(pi*HR/180)*1e9\n",
      "HBwav = d*sin(pi*HB/180)*1e9\n",
      "HVwav = d*sin(pi*HV/180)*1e9\n",
      "\n",
      "h = 6.6261*10.**(-34) #unit: J*s\n",
      "c = 2.9979*10.**8     #unit: m/s\n",
      "\n",
      "Hwavs = array([HRwav,HBwav,HVwav])\n",
      "\n",
      "print h*c/HRwav*(6.24150934*10**18)*1e9\n",
      "print h*c/HBwav*(6.24150934*10**18)*1e9\n",
      "print h*c/HVwav*(6.24150934*10**18)*1e9"
     ],
     "language": "python",
     "metadata": {},
     "outputs": [
      {
       "output_type": "stream",
       "stream": "stdout",
       "text": [
        "0.355610835094 0.260344946756 0.234455896185\n",
        "\n",
        "1.88737390848\n",
        "2.55275211844\n",
        "2.82856139267\n"
       ]
      }
     ],
     "prompt_number": 5
    },
    {
     "cell_type": "markdown",
     "metadata": {},
     "source": [
      "Error in wavelength based on average error in R, V, and B in addition to R_best, B_best, and V_best\n",
      "\n",
      "output unit is (nm)"
     ]
    },
    {
     "cell_type": "code",
     "collapsed": false,
     "input": [
      "HerWavR = d*cos(pi*HR/180)*dHR\n",
      "HerWavB = d*cos(pi*HB/180)*dHB\n",
      "HerWavV = d*cos(pi*HV/180)*dHV\n",
      "\n",
      "HerWavTot = [HerWavR*1e9,HerWavB*1e9,HerWavV*1e9]\n",
      "HerWavToteV = [h*c/Hwavs[0]**2*HerWavTot[0]*1e9*(6.24150934*10**18),h*c/Hwavs[1]**2*HerWavTot[1]*1e9*(6.24150934*10**18),h*c/Hwavs[2]**2*HerWavTot[2]*1e9*(6.24150934*10**18)]\n",
      "\n",
      "print HerWavTot\n",
      "print HerWavToteV"
     ],
     "language": "python",
     "metadata": {},
     "outputs": [
      {
       "output_type": "stream",
       "stream": "stdout",
       "text": [
        "[1.4552444079048292, 1.1250427932801157, 7.1720180406623566]\n",
        "[0.0041810665497744488, 0.005913186541944288, 0.046281544023391429]\n"
       ]
      }
     ],
     "prompt_number": 6
    },
    {
     "cell_type": "markdown",
     "metadata": {},
     "source": [
      "defining the linear function for best fit"
     ]
    },
    {
     "cell_type": "code",
     "collapsed": false,
     "input": [
      "def funcfit(x,m,b):\n",
      "    ans = m*x+b\n",
      "    return ans"
     ],
     "language": "python",
     "metadata": {},
     "outputs": [],
     "prompt_number": 7
    },
    {
     "cell_type": "markdown",
     "metadata": {},
     "source": [
      "Defining values to input into function"
     ]
    },
    {
     "cell_type": "code",
     "collapsed": false,
     "input": [
      "#determining y values\n",
      "Hwavs = array([HRwav,HBwav,HVwav])\n",
      "print Hwavs\n",
      "\n",
      "#determining x values\n",
      "n = array([3.,4.,5.])\n",
      "def x(a):\n",
      "    q=[]\n",
      "    for i in range(shape(a)[0]):\n",
      "        q.append((((1/4.)-(1/(a[i]**2)))**(-1.)))\n",
      "    return q\n",
      "X_=array(x(n))\n",
      "\n",
      "print X_"
     ],
     "language": "python",
     "metadata": {},
     "outputs": [
      {
       "output_type": "stream",
       "stream": "stdout",
       "text": [
        "[ 656.91141082  485.6865843   438.32792888]\n",
        "[ 7.2         5.33333333  4.76190476]\n"
       ]
      }
     ],
     "prompt_number": 8
    },
    {
     "cell_type": "code",
     "collapsed": false,
     "input": [
      "p1=[1*10**(-8),0]"
     ],
     "language": "python",
     "metadata": {},
     "outputs": [],
     "prompt_number": 9
    },
    {
     "cell_type": "code",
     "collapsed": false,
     "input": [
      "from scipy.optimize import curve_fit  # import the curve fitting function\n",
      "plsq, pcov = curve_fit(funcfit, X_, Hwavs, p1, HerWavTot)  # curve fit returns p and covariance matrix\n",
      "#print curve_fit(myfun,x,y,p0,ey)\n",
      "# these give the parameters and the uncertainties\n",
      "#print 'r =', plsq[0]\n",
      "#print 'x0=', plsq[1]\n",
      "hcEr = plsq[0]/1e9\n",
      "print \"hc/Er=\", hcEr\n",
      "print \"b=\",plsq[1]\n",
      "print \"hc/Er error=\", sqrt(pcov[0,0])\n",
      "print\n",
      "print pcov"
     ],
     "language": "python",
     "metadata": {},
     "outputs": [
      {
       "output_type": "stream",
       "stream": "stdout",
       "text": [
        "hc/Er= 9.16116825544e-08\n",
        "b= -2.75364642894\n",
        "hc/Er error= 0.669467739241\n",
        "\n",
        "[[  0.44818705  -2.6946697 ]\n",
        " [ -2.6946697   16.57228181]]\n"
       ]
      }
     ],
     "prompt_number": 10
    },
    {
     "cell_type": "code",
     "collapsed": false,
     "input": [
      "h = 6.6261*10.**(-34) #unit: J*s\n",
      "c = 2.9979*10.**8     #unit: m/s\n",
      "Er= h*c/hcEr*(6.24150934*10**18)\n",
      "print Er"
     ],
     "language": "python",
     "metadata": {},
     "outputs": [
      {
       "output_type": "stream",
       "stream": "stdout",
       "text": [
        "13.5336173553\n"
       ]
      }
     ],
     "prompt_number": 11
    },
    {
     "cell_type": "code",
     "collapsed": false,
     "input": [
      "xlots1 = linspace(0,7000)\n",
      "yfit1 = funcfit(xlots1,plsq[0],plsq[1])\n",
      "\n",
      "figure(figsize=(8,6))\n",
      "xlabel('$\\\\left[\\\\frac{1}{4}-\\\\frac{1}{n^2}\\\\right]^{-1}$', fontsize = 16)\n",
      "ylabel('$\\\\lambda$ (nm)', fontsize = 11)\n",
      "plot(xlots1,yfit1)\n",
      "figtext(0.5,.25,'$\\\\frac{hc}{E_r}=91.61nm\\\\pm0.669$',fontsize = 16)\n",
      "errorbar(X_,Hwavs,HerWavTot,linestyle='',marker = 'o',ecolor = 'b')\n",
      "xlim(0,8)\n",
      "ylim(0,800)\n",
      "grid(True)\n",
      "show()"
     ],
     "language": "python",
     "metadata": {},
     "outputs": [
      {
       "metadata": {},
       "output_type": "display_data",
       "png": "[encoded data removed]",
       "text": [
        "<matplotlib.figure.Figure at 0x10ccd66d0>"
       ]
      }
     ],
     "prompt_number": 12
    },
    {
     "cell_type": "code",
     "collapsed": false,
     "input": [
      "dEr = (h*c/(hcEr**2))*(sqrt(pcov[0,0])/1e9)*(6.24150934*10**18)\n",
      "print dEr"
     ],
     "language": "python",
     "metadata": {},
     "outputs": [
      {
       "output_type": "stream",
       "stream": "stdout",
       "text": [
        "0.098899179253\n"
       ]
      }
     ],
     "prompt_number": 13
    },
    {
     "cell_type": "code",
     "collapsed": false,
     "input": [],
     "language": "python",
     "metadata": {},
     "outputs": []
    }
   ],
   "metadata": {}
  }
 ]
}