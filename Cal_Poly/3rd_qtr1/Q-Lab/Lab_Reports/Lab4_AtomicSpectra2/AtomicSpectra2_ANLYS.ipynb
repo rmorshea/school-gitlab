{
 "metadata": {
  "name": "Data&Analysis.ipynb"
 },
 "nbformat": 3,
 "nbformat_minor": 0,
 "worksheets": [
  {
   "cells": [
    {
     "cell_type": "markdown",
     "metadata": {},
     "source": [
      "Data:\n",
      "==="
     ]
    },
    {
     "cell_type": "raw",
     "metadata": {},
     "source": [
      "Helium"
     ]
    },
    {
     "cell_type": "code",
     "collapsed": false,
     "input": [
      "pix0he = 1004.\n",
      "#388nm\n",
      "pix1he = 1294.\n",
      "#447nm\n",
      "pix2he = 1415.\n",
      "#471nm\n",
      "pix3he = 1520.\n",
      "\n",
      "pix4he = 1567.\n",
      "\n",
      "pix5he = 2009.\n",
      "\n",
      "pix6he = 2433.\n",
      "\n",
      "pix7he = 2642.\n",
      "\n",
      "pix8he = 2761."
     ],
     "language": "python",
     "metadata": {},
     "outputs": [],
     "prompt_number": 6
    },
    {
     "cell_type": "code",
     "collapsed": false,
     "input": [
      "hepix = array([pix0he,pix1he,pix2he,pix3he,pix4he,pix5he,pix6he,pix7he,pix8he])"
     ],
     "language": "python",
     "metadata": {},
     "outputs": [],
     "prompt_number": 7
    },
    {
     "cell_type": "raw",
     "metadata": {},
     "source": [
      "Hydrogen"
     ]
    },
    {
     "cell_type": "code",
     "collapsed": false,
     "input": [
      "pix0h = 1228.\n",
      "#435nm\n",
      "pix1h = 1489.\n",
      "\n",
      "pix2h = 3034.\n",
      "#775nm\n",
      "pix3h = 1109.\n",
      "#415nm\n",
      "pix4h = 2372.\n",
      "#656"
     ],
     "language": "python",
     "metadata": {},
     "outputs": [],
     "prompt_number": 8
    },
    {
     "cell_type": "code",
     "collapsed": false,
     "input": [
      "hpix = array([pix0h,pix1h,pix2h,pix3h,pix4h])"
     ],
     "language": "python",
     "metadata": {},
     "outputs": [],
     "prompt_number": 9
    },
    {
     "cell_type": "raw",
     "metadata": {},
     "source": [
      "Mercury"
     ]
    },
    {
     "cell_type": "code",
     "collapsed": false,
     "input": [
      "#pixels for maximums\n",
      "pix0hg = 1953.\n",
      "\n",
      "pix1hg = 1964.\n",
      "\n",
      "pix2hg = 1794.\n",
      "\n",
      "pix3hg = 1237.\n",
      "\n",
      "pix4hg = 1489.\n",
      "\n",
      "#full width at half maximum (two different spectral lines):\n",
      "hgwidth00 = 884.\n",
      "hgwidth01 = 896.\n",
      "\n",
      "hgwidth10 = 3222.\n",
      "hgwidth11 = 3233."
     ],
     "language": "python",
     "metadata": {},
     "outputs": [],
     "prompt_number": 10
    },
    {
     "cell_type": "code",
     "collapsed": false,
     "input": [
      "hgpix = array([pix0hg,pix1hg,pix2hg,pix3hg,pix4hg])"
     ],
     "language": "python",
     "metadata": {},
     "outputs": [],
     "prompt_number": 11
    },
    {
     "cell_type": "raw",
     "metadata": {},
     "source": [
      "Incandescent Light (approximate blackbody)"
     ]
    },
    {
     "cell_type": "code",
     "collapsed": false,
     "input": [
      "incT = 2880.+273. #unit:K\n",
      "print 'Incandescent Light Temperature (K):'\n",
      "print incT"
     ],
     "language": "python",
     "metadata": {},
     "outputs": [
      {
       "output_type": "stream",
       "stream": "stdout",
       "text": [
        "Incandescent Light Temperature (K):\n",
        "3153.0\n"
       ]
      }
     ],
     "prompt_number": 12
    },
    {
     "cell_type": "raw",
     "metadata": {},
     "source": [
      "Lazer"
     ]
    },
    {
     "cell_type": "code",
     "collapsed": false,
     "input": [
      "lpix = 2251.\n",
      "lwidth0 = 2254.\n",
      "lwidth1 = 2245. #2245"
     ],
     "language": "python",
     "metadata": {},
     "outputs": [],
     "prompt_number": 13
    },
    {
     "cell_type": "markdown",
     "metadata": {},
     "source": [
      "Calibration and Wavelength Conversion\n",
      "==="
     ]
    },
    {
     "cell_type": "code",
     "collapsed": false,
     "input": [
      "#fit function\n",
      "def lamb(p,a,b1,b2):\n",
      "    y = a+(b1*p)+b2*(p**2)\n",
      "    return y\n",
      "\n",
      "guess = [2.,1,12.]"
     ],
     "language": "python",
     "metadata": {},
     "outputs": [],
     "prompt_number": 14
    },
    {
     "cell_type": "code",
     "collapsed": false,
     "input": [
      "#pixel data and corrisponding known wavelengths\n",
      "heknown = array([388.86,447.14,471.31,492.19,501.57,587.57,667.81,706.52,728.13])\n",
      "\n",
      "print'pixels'\n",
      "print hepix\n",
      "print 'known wavelengths'\n",
      "print heknown"
     ],
     "language": "python",
     "metadata": {},
     "outputs": [
      {
       "output_type": "stream",
       "stream": "stdout",
       "text": [
        "pixels\n",
        "[ 1004.  1294.  1415.  1520.  1567.  2009.  2433.  2642.  2761.]\n",
        "known wavelengths\n",
        "[ 388.86  447.14  471.31  492.19  501.57  587.57  667.81  706.52  728.13]\n"
       ]
      }
     ],
     "prompt_number": 15
    },
    {
     "cell_type": "code",
     "collapsed": false,
     "input": [
      "from scipy.optimize import curve_fit  # import the curve fitting function\n",
      "plsq, pcov = curve_fit(lamb, hepix, heknown, guess)  # curve fit returns p and covariance matrix\n",
      "a=plsq[0]\n",
      "b1=plsq[1]\n",
      "b2=plsq[2]\n",
      "print plsq\n",
      "print pcov"
     ],
     "language": "python",
     "metadata": {},
     "outputs": [
      {
       "output_type": "stream",
       "stream": "stdout",
       "text": [
        "[  1.78052694e+02   2.15805425e-01  -5.98232889e-06]\n",
        "[[  4.18302313e-01  -4.63217525e-04   1.16637766e-07]\n",
        " [ -4.63217525e-04   5.23687781e-07  -1.33722517e-10]\n",
        " [  1.16637766e-07  -1.33722517e-10   3.45807537e-14]]\n"
       ]
      }
     ],
     "prompt_number": 16
    },
    {
     "cell_type": "code",
     "collapsed": false,
     "input": [
      "xlots = linspace(800,3000,1000)\n",
      "ylots = lamb(xlots,plsq[0],plsq[1],plsq[2])"
     ],
     "language": "python",
     "metadata": {},
     "outputs": [],
     "prompt_number": 17
    },
    {
     "cell_type": "code",
     "collapsed": false,
     "input": [
      "figure(figsize = (12,8))\n",
      "plot(xlots,ylots)\n",
      "scatter(hepix,heknown)\n",
      "xlabel('$Pixels$',fontsize=20)\n",
      "ylabel('$Known$ $\\\\lambda$ $(nm)$',fontsize=20)\n",
      "xlim(800,3000)\n",
      "figtext(0.5,.25,'',fontsize = 20)\n",
      "show()"
     ],
     "language": "python",
     "metadata": {},
     "outputs": [
      {
       "metadata": {},
       "output_type": "display_data",
       "png": "[encoded data removed]",
       "text": [
        "<matplotlib.figure.Figure at 0x10e02f5d0>"
       ]
      }
     ],
     "prompt_number": 18
    },
    {
     "cell_type": "raw",
     "metadata": {},
     "source": [
      "Wavelength Conversion"
     ]
    },
    {
     "cell_type": "code",
     "collapsed": false,
     "input": [
      "def calib(x):\n",
      "    return lamb(x,plsq[0],plsq[1],plsq[2])"
     ],
     "language": "python",
     "metadata": {},
     "outputs": [],
     "prompt_number": 19
    },
    {
     "cell_type": "code",
     "collapsed": false,
     "input": [
      "print 'Helium Wavelengths:'\n",
      "hewavs = calib(hepix); print hewavs\n",
      "print 'Hydrogen Wavelengths:'\n",
      "hwavs = calib(hpix); print hwavs\n",
      "print 'Mercury Wavelengths:'\n",
      "hgwavs = calib(hgpix); print hgwavs\n",
      "print 'Lazer Wavelength:'\n",
      "lwavs = calib(lpix); print lwavs"
     ],
     "language": "python",
     "metadata": {},
     "outputs": [
      {
       "output_type": "stream",
       "stream": "stdout",
       "text": [
        "Helium Wavelengths:\n",
        "[ 388.6910574   447.28788693  471.4394017   492.25536708  501.53025193\n",
        "  587.46062843  667.69496238  706.45298943  728.28745472]\n",
        "Hydrogen Wavelengths:\n",
        "[ 434.04049951  486.12342458  777.73808196  410.02335759  656.28428199]\n",
        "Mercury Wavelengths:\n",
        "[ 576.70283592  578.81893499  545.95388344  435.85003037  486.12342458]\n",
        "Lazer Wavelength:\n",
        "633.518238687\n"
       ]
      }
     ],
     "prompt_number": 20
    },
    {
     "cell_type": "raw",
     "metadata": {},
     "source": [
      "Linewidth Conversions"
     ]
    },
    {
     "cell_type": "code",
     "collapsed": false,
     "input": [
      "#hg\n",
      "print 'Mercury Linewidths'\n",
      "hgwidth0 = abs(calib(hgwidth00)-calib(hgwidth01)); print hgwidth0\n",
      "hgwidth1 = abs(calib(hgwidth10)-calib(hgwidth11)); print hgwidth1\n",
      "\n",
      "#lazer\n",
      "print 'Lazer Linewidth'\n",
      "lwidth = abs(calib(lwidth0)-calib(lwidth1)); print lwidth"
     ],
     "language": "python",
     "metadata": {},
     "outputs": [
      {
       "output_type": "stream",
       "stream": "stdout",
       "text": [
        "Mercury Linewidths\n",
        "2.46188255054\n",
        "1.94908440798\n",
        "Lazer Linewidth\n",
        "1.70001834255\n"
       ]
      }
     ],
     "prompt_number": 21
    },
    {
     "cell_type": "raw",
     "metadata": {},
     "source": [
      "Wavelength Error"
     ]
    },
    {
     "cell_type": "code",
     "collapsed": false,
     "input": [
      "def RMS(x,y):\n",
      "    s = 0\n",
      "    for i in range(len(x)):\n",
      "        s += (x[i]-y[i])**2\n",
      "    ms = s/len(x)\n",
      "    rms = sqrt(ms)\n",
      "    return rms"
     ],
     "language": "python",
     "metadata": {},
     "outputs": [],
     "prompt_number": 22
    },
    {
     "cell_type": "code",
     "collapsed": false,
     "input": [
      "print 'wavelength error:'\n",
      "dwavs = RMS(heknown,hewavs)\n",
      "print dwavs\n",
      "print '2*dlambda:'\n",
      "print 2*dwavs"
     ],
     "language": "python",
     "metadata": {},
     "outputs": [
      {
       "output_type": "stream",
       "stream": "stdout",
       "text": [
        "wavelength error:\n",
        "0.119018165031\n",
        "2*dlambda:\n",
        "0.238036330062\n"
       ]
      }
     ],
     "prompt_number": 23
    },
    {
     "cell_type": "markdown",
     "metadata": {},
     "source": [
      "Rydberg Constant\n",
      "==="
     ]
    },
    {
     "cell_type": "code",
     "collapsed": false,
     "input": [
      "#determining y values\n",
      "erhwavs = array([hwavs[4],hwavs[1],hwavs[0]])\n",
      "print erhwavs\n",
      "\n",
      "#determining x values\n",
      "n = array([3.,4.,5.])\n",
      "def x(a):\n",
      "    q=[]\n",
      "    for i in range(shape(a)[0]):\n",
      "        q.append((((1/4.)-(1/(a[i]**2)))**(-1.)))\n",
      "    return q\n",
      "X_=array(x(n))\n",
      "\n",
      "print X_\n",
      "#determining y error:\n",
      "dhwavs = [dwavs,dwavs,dwavs]"
     ],
     "language": "python",
     "metadata": {},
     "outputs": [
      {
       "output_type": "stream",
       "stream": "stdout",
       "text": [
        "[ 656.28428199  486.12342458  434.04049951]\n",
        "[ 7.2         5.33333333  4.76190476]\n"
       ]
      }
     ],
     "prompt_number": 24
    },
    {
     "cell_type": "code",
     "collapsed": false,
     "input": [
      "#fit function\n",
      "def funcfit(x,m,b):\n",
      "    ans = m*x+b\n",
      "    return ans\n",
      "#guess\n",
      "p1=[1*10**(-8),0]"
     ],
     "language": "python",
     "metadata": {},
     "outputs": [],
     "prompt_number": 25
    },
    {
     "cell_type": "code",
     "collapsed": false,
     "input": [
      "from scipy.optimize import curve_fit  # import the curve fitting function\n",
      "plsq, pcov = curve_fit(funcfit, X_, erhwavs, p1, dhwavs)  # curve fit returns p and covariance matrix\n",
      "#print curve_fit(myfun,x,y,p0,ey)\n",
      "# these give the parameters and the uncertainties\n",
      "#print 'r =', plsq[0]\n",
      "#print 'x0=', plsq[1]\n",
      "hcEr = plsq[0]\n",
      "print \"hc/Er =\", hcEr\n",
      "print \"b =\",plsq[1]\n",
      "print \"d(hc/Er) =\", sqrt(pcov[0,0])"
     ],
     "language": "python",
     "metadata": {},
     "outputs": [
      {
       "output_type": "stream",
       "stream": "stdout",
       "text": [
        "hc/Er = 91.1554015391\n",
        "b = -0.0353890709032\n",
        "d(hc/Er) = 0.00236417374395\n"
       ]
      }
     ],
     "prompt_number": 26
    },
    {
     "cell_type": "code",
     "collapsed": false,
     "input": [
      "h = 6.6261*10.**(-34) #unit: J*s\n",
      "c = 2.9979*10.**8     #unit: m/s\n",
      "Er= h*c/hcEr*(6.24150934*10**18)*1e9\n",
      "print Er"
     ],
     "language": "python",
     "metadata": {},
     "outputs": [
      {
       "output_type": "stream",
       "stream": "stdout",
       "text": [
        "13.6013602709\n"
       ]
      }
     ],
     "prompt_number": 27
    },
    {
     "cell_type": "code",
     "collapsed": false,
     "input": [
      "xlots1 = linspace(0,7000)\n",
      "yfit1 = funcfit(xlots1,plsq[0],plsq[1])\n",
      "\n",
      "figure(figsize=(12,8))\n",
      "xlabel('$\\\\left[\\\\frac{1}{4}-\\\\frac{1}{n^2}\\\\right]^{-1}$', fontsize = 25)\n",
      "ylabel('$\\\\lambda$ (nm)', fontsize = 20)\n",
      "plot(xlots1,yfit1)\n",
      "figtext(0.5,.25,'$\\\\frac{hc}{E_r}=91.155nm\\\\pm0.002$',fontsize = 20)\n",
      "errorbar(X_,erhwavs,dhwavs,linestyle='',marker = 'o',ecolor = 'b')\n",
      "xlim(0,8)\n",
      "ylim(0,800)\n",
      "grid(True)\n",
      "show()"
     ],
     "language": "python",
     "metadata": {},
     "outputs": [
      {
       "metadata": {},
       "output_type": "display_data",
       "png": "[encoded data removed]",
       "text": [
        "<matplotlib.figure.Figure at 0x10e03e650>"
       ]
      }
     ],
     "prompt_number": 28
    },
    {
     "cell_type": "code",
     "collapsed": false,
     "input": [
      "dEr = (h*c/((hcEr/1e9)**2))*(sqrt(pcov[0,0])/1e9)*(6.24150934*10**18)\n",
      "print dEr"
     ],
     "language": "python",
     "metadata": {},
     "outputs": [
      {
       "output_type": "stream",
       "stream": "stdout",
       "text": [
        "0.00035275999328\n"
       ]
      }
     ],
     "prompt_number": 29
    },
    {
     "cell_type": "raw",
     "metadata": {},
     "source": [
      "Lab2 to Lab4 Comparison of Er Values"
     ]
    },
    {
     "cell_type": "code",
     "collapsed": false,
     "input": [
      "print'Lab4 Er:'\n",
      "lab4Er = Er; print lab4Er\n",
      "print'Lab2 Er:'\n",
      "lab2Er = 13.5336173553; print lab2Er\n",
      "print '--------------------'\n",
      "print'Lab4 dEr:'\n",
      "lab4dEr = dEr; print lab4dEr\n",
      "print'lab2 dEr:'\n",
      "lab2dEr = 0.098899179253; print lab2dEr\n",
      "print '--------------------'\n",
      "print '(lab4Er/lab2Er)*100 and lab4Er-lab2Er:'\n",
      "print 100*lab4Er/lab2Er,',',lab4Er-lab2Er\n",
      "print '--------------------'\n",
      "print '(lab4dEr/lab2dEr)*100 and lab4dEr-lab2dEr:'\n",
      "print 100*lab4dEr/lab2dEr,',',lab4dEr-lab2dEr"
     ],
     "language": "python",
     "metadata": {},
     "outputs": [
      {
       "output_type": "stream",
       "stream": "stdout",
       "text": [
        "Lab4 Er:\n",
        "13.6013602709\n",
        "Lab2 Er:\n",
        "13.5336173553\n",
        "--------------------\n",
        "Lab4 dEr:\n",
        "0.00035275999328\n",
        "lab2 dEr:\n",
        "0.098899179253\n",
        "--------------------\n",
        "(lab4Er/lab2Er)*100 and lab4Er-lab2Er:\n",
        "100.50055291 , 0.0677429155576\n",
        "--------------------\n",
        "(lab4dEr/lab2dEr)*100 and lab4dEr-lab2dEr:\n",
        "0.356686471965 , -0.0985464192597\n"
       ]
      }
     ],
     "prompt_number": 30
    },
    {
     "cell_type": "markdown",
     "metadata": {},
     "source": [
      "Black Body Analysis\n",
      "==="
     ]
    },
    {
     "cell_type": "code",
     "collapsed": false,
     "input": [
      "DataIn = loadtxt('Irradiance.txt')\n",
      "print DataIn\n",
      "print;print\n",
      "\n",
      "#extract wavlength data\n",
      "bbenergy = []\n",
      "for i in DataIn:\n",
      "    if i[0]>100 and i[0]<800:\n",
      "        bbenergy.append((h*c*(6.24150934e18))/(i[0]/1e9))\n",
      "bbenergy = array(bbenergy)\n",
      "print len(bbenergy)\n",
      "print bbenergy\n",
      "\n",
      "#extract intensity data\n",
      "bbint = []\n",
      "for j in DataIn:\n",
      "    if j[0]>100 and j[0]<800:\n",
      "        bbint.append(j[1])\n",
      "bbint = array(bbint)\n",
      "print len(bbint)"
     ],
     "language": "python",
     "metadata": {},
     "outputs": [
      {
       "output_type": "stream",
       "stream": "stdout",
       "text": [
        "[[  1.78760000e+02  -1.00000000e-03]\n",
        " [  1.78980000e+02  -1.00000000e-03]\n",
        " [  1.79190000e+02  -1.00000000e-03]\n",
        " ..., \n",
        " [  8.83170000e+02   1.16045000e+02]\n",
        " [  8.83340000e+02   1.16049000e+02]\n",
        " [  8.83500000e+02   1.16054000e+02]]\n",
        "\n",
        "\n",
        "3160\n",
        "[ 6.93576559  6.92724023  6.91912192 ...,  1.55080484  1.55045576\n",
        "  1.55010684]\n",
        "3160\n"
       ]
      }
     ],
     "prompt_number": 31
    },
    {
     "cell_type": "code",
     "collapsed": false,
     "input": [
      "plot(bbenergy,bbint)\n",
      "ylabel('$intensity$')\n",
      "xlabel('$Energy (eV)$')\n",
      "xlim(0,8)\n",
      "grid(True)\n",
      "show()"
     ],
     "language": "python",
     "metadata": {},
     "outputs": [
      {
       "metadata": {},
       "output_type": "display_data",
       "png": "[encoded data removed]",
       "text": [
        "<matplotlib.figure.Figure at 0x10e902650>"
       ]
      }
     ],
     "prompt_number": 32
    },
    {
     "cell_type": "code",
     "collapsed": false,
     "input": [
      "(h*c*(6.24150934e18))/(DataIn[3000][0]/1e9)"
     ],
     "language": "python",
     "metadata": {},
     "outputs": [
      {
       "metadata": {},
       "output_type": "pyout",
       "prompt_number": 33,
       "text": [
        "1.6065481340444017"
       ]
      }
     ],
     "prompt_number": 33
    },
    {
     "cell_type": "code",
     "collapsed": false,
     "input": [
      "def IofE(E,T,A):\n",
      "    h = 6.6261*10.**(-34.) #unit: J*s\n",
      "    c = 2.9979*10.**8.     #unit: m/s\n",
      "    Kb = 1.3806488e-23   #JK^-1\n",
      "    return (A*(E**5.))/(exp(E/(Kb*(6.24150934e18)*T))-1.)"
     ],
     "language": "python",
     "metadata": {},
     "outputs": [],
     "prompt_number": 34
    },
    {
     "cell_type": "code",
     "collapsed": false,
     "input": [
      "print h*c/(bbenergy[200]/1e9)\n",
      "print bbenergy[200]\n",
      "print IofE(bbenergy[200],incT,1)"
     ],
     "language": "python",
     "metadata": {},
     "outputs": [
      {
       "output_type": "stream",
       "stream": "stdout",
       "text": [
        "3.54625761082e-17\n",
        "5.60150653731\n",
        "6.13810673455e-06\n"
       ]
      }
     ],
     "prompt_number": 35
    },
    {
     "cell_type": "code",
     "collapsed": false,
     "input": [
      "guess = [incT,1]"
     ],
     "language": "python",
     "metadata": {},
     "outputs": [],
     "prompt_number": 36
    },
    {
     "cell_type": "code",
     "collapsed": false,
     "input": [
      "from scipy.optimize import curve_fit  # import the curve fitting function\n",
      "plsq, pcov = curve_fit(IofE, bbenergy, bbint, guess)  # curve fit returns p and covariance matrix\n",
      "#print curve_fit(myfun,x,y,p0,ey)\n",
      "# these give the parameters and the uncertainties\n",
      "#print 'r =', plsq[0]\n",
      "#print 'x0=', plsq[1]\n",
      "\n",
      "print plsq\n",
      "print sqrt(pcov[0][0])"
     ],
     "language": "python",
     "metadata": {},
     "outputs": [
      {
       "output_type": "stream",
       "stream": "stdout",
       "text": [
        "[ 3222.92570688  2915.02718617]\n",
        "1.14741596549\n"
       ]
      }
     ],
     "prompt_number": 37
    },
    {
     "cell_type": "code",
     "collapsed": false,
     "input": [
      "xlots = linspace(.1,8,500)\n",
      "ylots = IofE(xlots,plsq[0],plsq[1])\n",
      "\n",
      "figure(figsize=(12,8))\n",
      "plot(xlots,ylots, label = 'Fit Curve')\n",
      "plot(bbenergy,bbint, label = 'Raw Data')\n",
      "ylabel('$Intensity$',fontsize=20)\n",
      "xlabel('$Energy$ $(ev)$',fontsize=20)\n",
      "xlim(0,8)\n",
      "legend( loc='upper right' )\n",
      "grid(True)\n",
      "show()"
     ],
     "language": "python",
     "metadata": {},
     "outputs": [
      {
       "metadata": {},
       "output_type": "display_data",
       "png": "[encoded data removed]",
       "text": [
        "<matplotlib.figure.Figure at 0x10e04f850>"
       ]
      }
     ],
     "prompt_number": 38
    },
    {
     "cell_type": "code",
     "collapsed": false,
     "input": [
      "T = plsq[0]\n",
      "A = plsq[1]\n",
      "print T\n",
      "print incT\n",
      "print A"
     ],
     "language": "python",
     "metadata": {},
     "outputs": [
      {
       "output_type": "stream",
       "stream": "stdout",
       "text": [
        "3222.92570688\n",
        "3153.0\n",
        "2915.02718617\n"
       ]
      }
     ],
     "prompt_number": 39
    },
    {
     "cell_type": "markdown",
     "metadata": {},
     "source": [
      "Mercury Split Ratio\n",
      "==="
     ]
    },
    {
     "cell_type": "code",
     "collapsed": false,
     "input": [
      "def spltrat(E2,E1,E0):\n",
      "    return (E2-E1)/(E1-E0)\n",
      "\n",
      "print 'theoretical split ratio:'\n",
      "print spltrat(4.6658,4.8848,5.4588)"
     ],
     "language": "python",
     "metadata": {},
     "outputs": [
      {
       "output_type": "stream",
       "stream": "stdout",
       "text": [
        "theoretical split ratio:\n",
        "0.381533101045\n"
       ]
      }
     ],
     "prompt_number": 40
    },
    {
     "cell_type": "code",
     "collapsed": false,
     "input": [
      "def Econv(wav):\n",
      "    return h*c*(6.24150934e18)/(wav/1e9)"
     ],
     "language": "python",
     "metadata": {},
     "outputs": [],
     "prompt_number": 41
    },
    {
     "cell_type": "code",
     "collapsed": false,
     "input": [
      "heEn = Econv(hewavs)\n",
      "hEn = Econv(hwavs)\n",
      "hgEn = Econv(hgwavs)\n",
      "\n",
      "print 'Helium Energies'\n",
      "print heEn\n",
      "print\n",
      "print 'Hydrogen Energies'\n",
      "print hEn\n",
      "print\n",
      "print 'Mercury Energies'\n",
      "print hgEn"
     ],
     "language": "python",
     "metadata": {},
     "outputs": [
      {
       "output_type": "stream",
       "stream": "stdout",
       "text": [
        "Helium Energies\n",
        "[ 3.18977613  2.77190036  2.62989782  2.51868753  2.47210901  2.11050307\n",
        "  1.85689203  1.75501764  1.70240123]\n",
        "\n",
        "Hydrogen Energies\n",
        "[ 2.85650177  2.55045816  1.59415809  3.02382153  1.88917744]\n",
        "\n",
        "Mercury Energies\n",
        "[ 2.14987231  2.14201261  2.27095638  2.84464236  2.55045816]\n"
       ]
      }
     ],
     "prompt_number": 42
    },
    {
     "cell_type": "code",
     "collapsed": false,
     "input": [
      "def Eer(wavs,erwavs):\n",
      "    return (h*c*1e9/(wavs)**2)*erwavs*6.24150934e18"
     ],
     "language": "python",
     "metadata": {},
     "outputs": [],
     "prompt_number": 59
    },
    {
     "cell_type": "code",
     "collapsed": false,
     "input": [
      "hgEner = Eer(hgwavs,.1)\n",
      "print hgEner"
     ],
     "language": "python",
     "metadata": {},
     "outputs": [
      {
       "output_type": "stream",
       "stream": "stdout",
       "text": [
        "[ 0.00037279  0.00037007  0.00041596  0.00065267  0.00052465]\n"
       ]
      }
     ],
     "prompt_number": 60
    },
    {
     "cell_type": "raw",
     "metadata": {},
     "source": [
      "measured split ratio"
     ]
    },
    {
     "cell_type": "code",
     "collapsed": false,
     "input": [
      "(2.84464236-2.27095638)/(4.8848-4.6658)"
     ],
     "language": "python",
     "metadata": {},
     "outputs": [
      {
       "metadata": {},
       "output_type": "pyout",
       "prompt_number": 63,
       "text": [
        "2.6195706849315035"
       ]
      }
     ],
     "prompt_number": 63
    },
    {
     "cell_type": "raw",
     "metadata": {},
     "source": [
      "measured error"
     ]
    },
    {
     "cell_type": "code",
     "collapsed": false,
     "input": [
      ".003"
     ],
     "language": "python",
     "metadata": {},
     "outputs": [
      {
       "metadata": {},
       "output_type": "pyout",
       "prompt_number": 66,
       "text": [
        "0.003"
       ]
      }
     ],
     "prompt_number": 66
    },
    {
     "cell_type": "code",
     "collapsed": false,
     "input": [],
     "language": "python",
     "metadata": {},
     "outputs": []
    }
   ],
   "metadata": {}
  }
 ]
}