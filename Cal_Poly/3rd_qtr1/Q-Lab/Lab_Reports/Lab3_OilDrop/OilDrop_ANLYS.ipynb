{
 "metadata": {
  "name": "Oil Drop Analysis.ipynb"
 },
 "nbformat": 3,
 "nbformat_minor": 0,
 "worksheets": [
  {
   "cells": [
    {
     "cell_type": "markdown",
     "metadata": {},
     "source": [
      "Data:\n",
      "==="
     ]
    },
    {
     "cell_type": "code",
     "collapsed": false,
     "input": [
      "#plastic spacer thicknesses\n",
      "#mm\n",
      "TH1=7.5+.120\n",
      "TH2=7.5+.125\n",
      "TH3=7.5+.125\n",
      "\n",
      "THavg = (TH1+TH2+TH3)/3\n",
      "print THavg\n",
      "#voltage\n",
      "VV=301.5 #V"
     ],
     "language": "python",
     "metadata": {},
     "outputs": [
      {
       "output_type": "stream",
       "stream": "stdout",
       "text": [
        "7.62333333333\n"
       ]
      }
     ],
     "prompt_number": 538
    },
    {
     "cell_type": "code",
     "collapsed": false,
     "input": [
      "#times 2\n",
      "V2 = 301.6\n",
      "R2 = 1909.e-3\n",
      "\n",
      "#t_f\n",
      "t2_f1=5.6\n",
      "t2_f2=5.65\n",
      "t2_f3=5.63\n",
      "t2_f4=5.66\n",
      "t2_f5=5.66\n",
      "t2_f6=5.76\n",
      "t2_f7=5.91\n",
      "t2_f8=5.55\n",
      "t2_f9=5.54\n",
      "R4 = 1907.\n",
      "V4 = 301.6\n",
      "\n",
      "#t_u\n",
      "t2_u1=2.94\n",
      "t2_u2=2.73\n",
      "t2_u3=2.72\n",
      "t2_u4=2.85\n",
      "t2_u5=3.1\n",
      "t2_u6=3.03\n",
      "t2_u7=2.52\n",
      "t2_u8=2.73\n",
      "t2_u9=2.60\n",
      "\n",
      "#t_d\n",
      "t2_d1=1.33\n",
      "t2_d2=1.35\n",
      "t2_d3=1.34\n",
      "t2_d4=1.52\n",
      "t2_d5=1.47\n",
      "t2_d6=1.38\n",
      "t2_d7=1.31\n",
      "t2_d8=1.36\n",
      "t2_d9=1.36\n",
      "\n",
      "tf2=[t2_f1,t2_f2,t2_f3,t2_f4,t2_f5,t2_f6,t2_f7,t2_f8,t2_f9]\n",
      "td2=[t2_d1,t2_d2,t2_d3,t2_d4,t2_d5,t2_d6,t2_d7,t2_d8,t2_d9]\n",
      "tu2=[t2_u1,t2_u2,t2_u3,t2_u4,t2_u5,t2_u6,t2_u7,t2_u8,t2_u9]\n",
      "\n",
      "print sum(tf2)/len(tf2)\n",
      "print sum(td2)/len(td2)\n",
      "print sum(tu2)/len(tu2)"
     ],
     "language": "python",
     "metadata": {},
     "outputs": [
      {
       "output_type": "stream",
       "stream": "stdout",
       "text": [
        "5.66222222222\n",
        "1.38\n",
        "2.80222222222\n"
       ]
      }
     ],
     "prompt_number": 539
    },
    {
     "cell_type": "code",
     "collapsed": false,
     "input": [
      "#times 3\n",
      "V3 = 301.6\n",
      "R3 = 1904.e-3\n",
      "\n",
      "#t_f\n",
      "t3_f1=9.96\n",
      "t3_f2=10.62\n",
      "t3_f3=9.78\n",
      "t3_f4=10.02\n",
      "t3_f5=10.43\n",
      "t3_f6=10.48\n",
      "t3_f7=9.61\n",
      "t3_f8=10.75\n",
      "t3_f9=9.61\n",
      "\n",
      "#t_u\n",
      "t3_u1=2.65\n",
      "t3_u2=2.56\n",
      "t3_u3=2.61\n",
      "t3_u4=2.67\n",
      "t3_u5=2.55\n",
      "t3_u6=2.56\n",
      "t3_u7=2.51\n",
      "t3_u8=2.55\n",
      "t3_u9=2.52\n",
      "\n",
      "#t_d\n",
      "t3_d1=1.76\n",
      "t3_d2=1.76\n",
      "t3_d3=1.67\n",
      "t3_d4=1.78\n",
      "t3_d5=1.68\n",
      "t3_d6=1.74\n",
      "t3_d7=1.80\n",
      "t3_d8=1.76\n",
      "t3_d9=1.66\n",
      "\n",
      "tf3=[t3_f1,t3_f2,t3_f3,t3_f4,t3_f5,t3_f6,t3_f7,t3_f8,t3_f9]\n",
      "td3=[t3_d1,t3_d2,t3_d3,t3_d4,t3_d5,t3_d6,t3_d7,t3_d8,t3_d9]\n",
      "tu3=[t3_u1,t3_u2,t3_u3,t3_u4,t3_u5,t3_u6,t3_u7,t3_u8,t3_u9]\n",
      "\n",
      "print sum(tf3)/len(tf3)\n",
      "print sum(td3)/len(td3)\n",
      "print sum(tu3)/len(tu3)"
     ],
     "language": "python",
     "metadata": {},
     "outputs": [
      {
       "output_type": "stream",
       "stream": "stdout",
       "text": [
        "10.14\n",
        "1.73444444444\n",
        "2.57555555556\n"
       ]
      }
     ],
     "prompt_number": 540
    },
    {
     "cell_type": "code",
     "collapsed": false,
     "input": [
      "#times 4\n",
      "V4=301.6\n",
      "R4=1901.e-3\n",
      "\n",
      "#t_f\n",
      "t4_f1=8.05\n",
      "t4_f2=8.41\n",
      "t4_f3=8.93\n",
      "t4_f4=8.22\n",
      "t4_f5=8.58\n",
      "t4_f6=8.62\n",
      "t4_f7=8.25\n",
      "t4_f8=8.48\n",
      "t4_f9=8.31\n",
      "\n",
      "#t_u\n",
      "t4_u1=2.55\n",
      "t4_u2=2.74\n",
      "t4_u3=2.83\n",
      "t4_u4=2.61\n",
      "t4_u5=2.45\n",
      "t4_u6=2.72\n",
      "t4_u7=2.57\n",
      "t4_u8=2.57\n",
      "t4_u9=2.77\n",
      "t4_u10=2.50\n",
      "\n",
      "#t_d\n",
      "t4_d1=1.53\n",
      "t4_d2=1.57\n",
      "t4_d3=1.65\n",
      "t4_d4=1.74\n",
      "t4_d5=1.66\n",
      "t4_d6=1.65\n",
      "t4_d7=1.63\n",
      "t4_d8=1.66\n",
      "t4_d9=1.64 #CHECK WITH RYAN\n",
      "\n",
      "tf4=[t4_f1,t4_f2,t4_f3,t4_f4,t4_f5,t4_f6,t4_f7,t4_f8,t4_f9]\n",
      "tu4=[t4_u1,t4_u2,t4_u3,t4_u4,t4_u5,t4_u6,t4_u7,t4_u8,t4_u9,t4_u10]\n",
      "td4=[t4_d1,t4_d2,t4_d3,t4_d4,t4_d5,t4_d6,t4_d7,t4_d8,t4_d9]\n",
      "\n",
      "print sum(tf4)/len(tf4)\n",
      "print sum(td4)/len(td4)\n",
      "print sum(tu4)/len(tu4)\n",
      "\n",
      "R6 = 1903\n",
      "V6 = 301.5"
     ],
     "language": "python",
     "metadata": {},
     "outputs": [
      {
       "output_type": "stream",
       "stream": "stdout",
       "text": [
        "8.42777777778\n",
        "1.63666666667\n",
        "2.631\n"
       ]
      }
     ],
     "prompt_number": 541
    },
    {
     "cell_type": "raw",
     "metadata": {},
     "source": [
      "Means of trials:\n",
      "\n",
      "tf's:\n",
      "1)5.66222222222\n",
      "2)10.14\n",
      "3)8.42777777778\n",
      "\n",
      "td's\n",
      "1)1.38\n",
      "2)1.73444444444\n",
      "3)1.63666666667\n",
      "\n",
      "tu's\n",
      "1)2.80222222222\n",
      "2)2.57555555556\n",
      "3)2.631"
     ]
    },
    {
     "cell_type": "markdown",
     "metadata": {},
     "source": [
      "Velocity Calculations:\n",
      "==="
     ]
    },
    {
     "cell_type": "code",
     "collapsed": false,
     "input": [
      "def avg(x):\n",
      "    g=0\n",
      "    for i in range(len(x)):\n",
      "        g+=x[i]\n",
      "    return (g/len(x))\n",
      "def standev(x,avg):\n",
      "    q=0.\n",
      "    for i in range(len(x)):\n",
      "        q+=((avg-x[i])**2.)\n",
      "    return sqrt((1./(len(x)-1.))*q)/sqrt(len(x))"
     ],
     "language": "python",
     "metadata": {},
     "outputs": [],
     "prompt_number": 542
    },
    {
     "cell_type": "raw",
     "metadata": {},
     "source": [
      "Fall Velocity Calcs:"
     ]
    },
    {
     "cell_type": "code",
     "collapsed": false,
     "input": [
      "print 'fall fall fall fall fall fall fall fall'\n",
      "print\n",
      "print '1) average time and stndrd dev:'\n",
      "\n",
      "AVG1=avg(tf2)\n",
      "standdev1=standev(tf2,avg(tf2))\n",
      "print AVG1\n",
      "print standdev1\n",
      "\n",
      "print;print '2) average time and stndrd dev:'\n",
      "\n",
      "AVG2=avg(tf3)\n",
      "standdev2=standev(tf3,avg(tf3))\n",
      "print AVG2\n",
      "print standdev2\n",
      "\n",
      "print;print '3) average time and stndrd dev:'\n",
      "AVG3=avg(tf4)\n",
      "standdev3=standev(tf4,avg(tf4))\n",
      "print AVG3\n",
      "print standdev3\n",
      "\n",
      "h=.5e-3\n",
      "\n",
      "print '----------------------------------';print\n",
      "print 'average fall velocities:'\n",
      "vf1=h/AVG1\n",
      "vf2=h/AVG2\n",
      "vf3=h/AVG3\n",
      "\n",
      "ferv1=(h/AVG1**2.)*standdev1\n",
      "ferv2=(h/AVG2**2.)*standdev2\n",
      "ferv3=(h/AVG3**2.)*standdev3\n",
      "\n",
      "print '1)', vf1\n",
      "print '2)', vf2\n",
      "print '3)', vf3\n",
      "\n",
      "print;print 'associated fall errors'\n",
      "print '1)', ferv1\n",
      "print '2)', ferv2\n",
      "print '3)', ferv3"
     ],
     "language": "python",
     "metadata": {},
     "outputs": [
      {
       "output_type": "stream",
       "stream": "stdout",
       "text": [
        "fall fall fall fall fall fall fall fall\n",
        "\n",
        "1) average time and stndrd dev:\n",
        "5.66222222222\n",
        "0.0379245514797\n",
        "\n",
        "2) average time and stndrd dev:\n",
        "10.14\n",
        "0.146268398653\n",
        "\n",
        "3) average time and stndrd dev:\n",
        "8.42777777778\n",
        "0.0871425680164\n",
        "----------------------------------\n",
        "\n",
        "average fall velocities:\n",
        "1) 8.83045525903e-05\n",
        "2) 4.93096646943e-05\n",
        "3) 5.93276203032e-05\n",
        "\n",
        "associated fall errors\n",
        "1) 5.91448095672e-07\n",
        "2) 7.11286557489e-07\n",
        "3) 6.13442988632e-07\n"
       ]
      }
     ],
     "prompt_number": 543
    },
    {
     "cell_type": "raw",
     "metadata": {},
     "source": [
      "Up Velocity Calcs:"
     ]
    },
    {
     "cell_type": "code",
     "collapsed": false,
     "input": [
      "print 'up up up up up up up up up up'\n",
      "print\n",
      "print '1) average time and stndrd dev:'\n",
      "\n",
      "uAVG1=avg(tu2)\n",
      "ustanddev1=standev(tu2,avg(tu2))\n",
      "print uAVG1\n",
      "print ustanddev1\n",
      "\n",
      "print;print '2) average time and stndrd dev:'\n",
      "\n",
      "uAVG2=avg(tu3)\n",
      "ustanddev2=standev(tu3,avg(tu3))\n",
      "print uAVG2\n",
      "print ustanddev2\n",
      "\n",
      "print;print '3) average time and stndrd dev:'\n",
      "uAVG3=avg(tu4)\n",
      "ustanddev3=standev(tu4,avg(tu4))\n",
      "print uAVG3\n",
      "print ustanddev3\n",
      "\n",
      "h=.5e-3\n",
      "\n",
      "print '----------------------------------';print\n",
      "print 'average up velocities:'\n",
      "uv1=h/uAVG1\n",
      "uv2=h/uAVG2\n",
      "uv3=h/uAVG3\n",
      "\n",
      "uerv1=(h/uAVG1**2.)*ustanddev1\n",
      "uerv2=(h/uAVG2**2.)*ustanddev2\n",
      "uerv3=(h/uAVG3**2.)*ustanddev3\n",
      "\n",
      "print '1)', uv1\n",
      "print '2)', uv2\n",
      "print '3)', uv3\n",
      "\n",
      "print;print 'mean dv:'\n",
      "print (uv1+uv2+uv3)/3.\n",
      "\n",
      "print;print 'associated fall errors'\n",
      "print '1)', uerv1\n",
      "print '2)', uerv2\n",
      "print '3)', uerv3\n",
      "\n",
      "print;print 'mean ddv:'\n",
      "print (uerv1+uerv2+uerv3)/3."
     ],
     "language": "python",
     "metadata": {},
     "outputs": [
      {
       "output_type": "stream",
       "stream": "stdout",
       "text": [
        "up up up up up up up up up up\n",
        "\n",
        "1) average time and stndrd dev:\n",
        "2.80222222222\n",
        "0.0645018901053\n",
        "\n",
        "2) average time and stndrd dev:\n",
        "2.57555555556\n",
        "0.0185675277412\n",
        "\n",
        "3) average time and stndrd dev:\n",
        "2.631\n",
        "0.0398734108008\n",
        "----------------------------------\n",
        "\n",
        "average up velocities:\n",
        "1) 0.000178429817605\n",
        "2) 0.000194132873167\n",
        "3) 0.000190041809198\n",
        "\n",
        "mean dv:\n",
        "0.000187534833323\n",
        "\n",
        "associated fall errors\n",
        "1) 4.10711912689e-06\n",
        "2) 1.3995300937e-06\n",
        "3) 2.88012737646e-06\n",
        "\n",
        "mean ddv:\n",
        "2.79559219902e-06\n"
       ]
      }
     ],
     "prompt_number": 544
    },
    {
     "cell_type": "raw",
     "metadata": {},
     "source": [
      "Down Velocity Calcs:"
     ]
    },
    {
     "cell_type": "code",
     "collapsed": false,
     "input": [
      "print 'down down down down down down down down'\n",
      "print\n",
      "print '1) average time and stndrd dev:'\n",
      "\n",
      "dAVG1=avg(td2)\n",
      "dstanddev1=standev(td2,avg(td2))\n",
      "print dAVG1\n",
      "print dstanddev1\n",
      "\n",
      "print;print '2) average time and stndrd dev:'\n",
      "\n",
      "dAVG2=avg(td3)\n",
      "dstanddev2=standev(td3,avg(td3))\n",
      "print dAVG2\n",
      "print dstanddev2\n",
      "\n",
      "print;print '3) average time and stndrd dev:'\n",
      "dAVG3=avg(td4)\n",
      "dstanddev3=standev(td4,avg(td4))\n",
      "print dAVG3\n",
      "print dstanddev3\n",
      "\n",
      "h=.5e-3\n",
      "\n",
      "print '----------------------------------';print\n",
      "print 'average down velocities:'\n",
      "dv1=h/dAVG1\n",
      "dv2=h/dAVG2\n",
      "dv3=h/dAVG3\n",
      "\n",
      "derv1=(h/dAVG1**2.)*dstanddev1\n",
      "derv2=(h/dAVG2**2.)*dstanddev2\n",
      "derv3=(h/dAVG3**2.)*dstanddev3\n",
      "\n",
      "print '1)', dv1\n",
      "print '2)', dv2\n",
      "print '3)', dv3\n",
      "\n",
      "print;print 'mean dv:'\n",
      "print (dv1+dv2+dv3)/3.\n",
      "\n",
      "print;print 'associated fall errors'\n",
      "print '1)', derv1\n",
      "print '2)', derv2\n",
      "print '3)', derv3\n",
      "\n",
      "print;print 'mean ddv:'\n",
      "print (derv1+derv2+derv3)/3."
     ],
     "language": "python",
     "metadata": {},
     "outputs": [
      {
       "output_type": "stream",
       "stream": "stdout",
       "text": [
        "down down down down down down down down\n",
        "\n",
        "1) average time and stndrd dev:\n",
        "1.38\n",
        "0.0230940107676\n",
        "\n",
        "2) average time and stndrd dev:\n",
        "1.73444444444\n",
        "0.0170872849991\n",
        "\n",
        "3) average time and stndrd dev:\n",
        "1.63666666667\n",
        "0.0197202659437\n",
        "----------------------------------\n",
        "\n",
        "average down velocities:\n",
        "1) 0.00036231884058\n",
        "2) 0.000288276745676\n",
        "3) 0.00030549898167\n",
        "\n",
        "mean dv:\n",
        "0.000318698189309\n",
        "\n",
        "associated fall errors\n",
        "1) 6.06332985916e-06\n",
        "2) 2.84002576604e-06\n",
        "3) 3.68097016134e-06\n",
        "\n",
        "mean ddv:\n",
        "4.19477526218e-06\n"
       ]
      }
     ],
     "prompt_number": 545
    },
    {
     "cell_type": "markdown",
     "metadata": {},
     "source": [
      "Temperature Calculations:\n",
      "===\n",
      "Find temperature from resistance using interp_temp which calculates it based on interpolated data"
     ]
    },
    {
     "cell_type": "code",
     "collapsed": false,
     "input": [
      "from scipy.interpolate import interp1d\n",
      "\n",
      "temp_C = [10.,11.,12.,13.,14.,15.,16.,17.,18.,19.,20.,21.,22.,23.,24.,25.,26.,27.,28.,29.,30.,31.,32.,33.,34.,35.,36.,37.,38.,39.]\n",
      "ohms = [3.239,3.118,3.004,2.897,2.795,2.700,2.610,2.526,2.446,2.371,2.300,2.233,2.169,2.110,2.053,2.000,1.950,1.902,1.857,1.815,1.774,1.736,1.700,1.666,1.634,1.603,1.574,1.547,1.521,1.496]\n",
      "\n",
      "def interp_temp(ohm_dat):\n",
      "    \"\"\"takes any value of Resistance and returns the interpolated temperature\"\"\"\n",
      "    temperature = interp1d(ohms[::-1],temp_C[::-1])(ohm_dat)\n",
      "    return temperature\n",
      "\n",
      "T1 = interp_temp(R2)\n",
      "T2 = interp_temp(R3)\n",
      "T3 = interp_temp(R4)\n",
      "\n",
      "T = [T1,T2,T3]\n",
      "dT=.001\n",
      "print 'T1:', T1\n",
      "print 'T2:', T2\n",
      "print 'T3:', T3"
     ],
     "language": "python",
     "metadata": {},
     "outputs": [
      {
       "output_type": "stream",
       "stream": "stdout",
       "text": [
        "T1: 26.8541666667\n",
        "T2: 26.9583333333\n",
        "T3: 27.0222222222\n"
       ]
      }
     ],
     "prompt_number": 546
    },
    {
     "cell_type": "markdown",
     "metadata": {},
     "source": [
      "Charge Calculations:\n",
      "===\n",
      "calculate radius from stokes law which is based on terminal velocity and viscocity of medium <--(uses temperature). then use radius and density to find mass of drops. then use mass and downward/upward accelerated valocites to find the charge on oil drop."
     ]
    },
    {
     "cell_type": "code",
     "collapsed": false,
     "input": [
      "Ro = 885. #kg/m^3\n",
      "b = 0.82e-7\n",
      "g = 9.81 #m/s^2\n",
      "def r(vf,T):\n",
      "    radius = sqrt((9.*(vf)*(1.8+(T-15.)/209.)*1.e-5)/(2.*g*Ro))\n",
      "    return radius\n",
      "\n",
      "print'r'\n",
      "r1=r(vf1,T1);print r1\n",
      "r2=r(vf2,T2);print r2\n",
      "r3=r(vf3,T3);print r3\n",
      "print\n",
      "\n",
      "r=[r1,r2,r3]\n",
      "##################################\n",
      "\n",
      "def m(r):\n",
      "    mass = ((4.*pi)/3.)*(r**3)*Ro\n",
      "    return mass\n",
      "\n",
      "print'm'\n",
      "m1=m(r1);print m1\n",
      "m2=m(r2);print m2\n",
      "m3=m(r3);print m3\n",
      "print\n",
      "\n",
      "m=[m1,m2,m3]\n",
      "##################################\n",
      "\n",
      "def gam(r):\n",
      "    correction = (1./(1.+(b/r)))**(3./2.)\n",
      "    return correction\n",
      "\n",
      "print'gam'\n",
      "gam1=gam(r1);print gam1\n",
      "gam2=gam(r2);print gam2\n",
      "gam3=gam(r3);print gam3\n",
      "print\n",
      "\n",
      "gamma = [gam1,gam2,gam3]\n",
      "\n",
      "###################################\n",
      "\n",
      "def qd(m,E,vd,vf,gam):\n",
      "    charge = (gam*(m*g)/E)*((vd/vf)-1.)\n",
      "    return charge\n",
      "\n",
      "def qu(m,E,vu,vf,gam):\n",
      "    charge = (gam*(m*g)/E)*((vu/vf)+1.)\n",
      "    return charge"
     ],
     "language": "python",
     "metadata": {},
     "outputs": [
      {
       "output_type": "stream",
       "stream": "stdout",
       "text": [
        "r\n",
        "9.21859419206e-07\n",
        "6.88965470735e-07\n",
        "7.55780416975e-07\n",
        "\n",
        "m\n",
        "2.90419633148e-15\n",
        "1.21233948495e-15\n",
        "1.60036403964e-15\n",
        "\n",
        "gam\n",
        "0.880010185339\n",
        "0.844780330598\n",
        "0.856836868369\n",
        "\n"
       ]
      }
     ],
     "prompt_number": 547
    },
    {
     "cell_type": "code",
     "collapsed": false,
     "input": [
      "sep = (THavg)*1.e-3 #unit: m\n",
      "\n",
      "E1=V2/(sep)\n",
      "E2=V3/(sep)\n",
      "E3=V4/(sep)\n",
      "print E1,',',E2,',',E3"
     ],
     "language": "python",
     "metadata": {},
     "outputs": [
      {
       "output_type": "stream",
       "stream": "stdout",
       "text": [
        "39562.7459554 , 39562.7459554 , 39562.7459554\n"
       ]
      }
     ],
     "prompt_number": 548
    },
    {
     "cell_type": "code",
     "collapsed": false,
     "input": [
      "Qd=[qd(m1,E1,uv1,vf1,gam(r1)),qd(m2,E2,uv2,vf2,gam(r2)),qd(m3,E3,uv3,vf3,gam(r3))]"
     ],
     "language": "python",
     "metadata": {},
     "outputs": [],
     "prompt_number": 549
    },
    {
     "cell_type": "code",
     "collapsed": false,
     "input": [
      "Qu=[qu(m1,E1,dv1,vf1,gam(r1)), qu(m2,E2,dv2,vf2,gam(r2)),qu(m3,E3,dv3,vf3,gam(r3))]"
     ],
     "language": "python",
     "metadata": {},
     "outputs": [],
     "prompt_number": 550
    },
    {
     "cell_type": "code",
     "collapsed": false,
     "input": [
      "print Qu\n",
      "print Qd"
     ],
     "language": "python",
     "metadata": {},
     "outputs": [
      {
       "output_type": "stream",
       "stream": "stdout",
       "text": [
        "[3.2339022635933813e-18, 1.7386154309582775e-18, 2.0908798581296562e-18]\n",
        "[6.4678466088511261e-19, 7.4585900757872606e-19, 7.4914401322052657e-19]\n"
       ]
      }
     ],
     "prompt_number": 551
    },
    {
     "cell_type": "code",
     "collapsed": false,
     "input": [
      "e = 1.6021773e-19\n",
      "NQu = [(Qu[i])/e for i in range(len(Qu))]\n",
      "NQd = [(Qd[i])/e for i in range(len(Qd))]\n",
      "\n",
      "print NQu\n",
      "print NQd"
     ],
     "language": "python",
     "metadata": {},
     "outputs": [
      {
       "output_type": "stream",
       "stream": "stdout",
       "text": [
        "[20.184421933785863, 10.85157947849016, 13.050240183340858]\n",
        "[4.036910652055254, 4.6552838289415659, 4.6757872129415796]\n"
       ]
      }
     ],
     "prompt_number": 552
    },
    {
     "cell_type": "code",
     "collapsed": false,
     "input": [
      "Nup = [20.,11.,13.]\n",
      "Ndown = [4.,5.,5.]"
     ],
     "language": "python",
     "metadata": {},
     "outputs": [],
     "prompt_number": 553
    },
    {
     "cell_type": "code",
     "collapsed": false,
     "input": [
      "e_u = [(Qu[i]/Nup[i]) for i in range(len(Nup))]\n",
      "e_d = [(Qd[i]/Ndown[i]) for i in range(len(Nup))]\n",
      "print 'eu:', e_u\n",
      "print 'ed:', e_d"
     ],
     "language": "python",
     "metadata": {},
     "outputs": [
      {
       "output_type": "stream",
       "stream": "stdout",
       "text": [
        "eu: [1.6169511317966907e-19, 1.5805594826893432e-19, 1.6083691216381972e-19]\n",
        "ed: [1.6169616522127815e-19, 1.4917180151574522e-19, 1.4982880264410532e-19]\n"
       ]
      }
     ],
     "prompt_number": 554
    },
    {
     "cell_type": "code",
     "collapsed": false,
     "input": [
      "e_list=[e_u[0],e_u[1],e_u[2],e_d[0],e_d[1],e_d[2]]\n",
      "e_avg = avg(e_list)\n",
      "e_de = standev(e_list,e_avg)\n",
      "print 'average value for e:'\n",
      "print e_avg\n",
      "print 'preliminary error on e:'\n",
      "print e_de"
     ],
     "language": "python",
     "metadata": {},
     "outputs": [
      {
       "output_type": "stream",
       "stream": "stdout",
       "text": [
        "average value for e:\n",
        "1.56880790499e-19\n",
        "preliminary error on e:\n",
        "2.39830825688e-21\n"
       ]
      }
     ],
     "prompt_number": 555
    },
    {
     "cell_type": "code",
     "collapsed": false,
     "input": [
      "print e_avg-2*e_de"
     ],
     "language": "python",
     "metadata": {},
     "outputs": [
      {
       "output_type": "stream",
       "stream": "stdout",
       "text": [
        "1.52084173985e-19\n"
       ]
      }
     ],
     "prompt_number": 556
    },
    {
     "cell_type": "markdown",
     "metadata": {},
     "source": [
      "Error Propogation:\n",
      "==="
     ]
    },
    {
     "cell_type": "code",
     "collapsed": false,
     "input": [
      "def dqd(m,dm,E,vd,dvd,vf,dvf):\n",
      "    DChargeError = sqrt(((((dm*g)/E)*(vd/vf-1.))**2.)+((((m*g*dvd)/E)*(1./vf))**2.)+(((((m*g*dvf)/E)*(vd/(vf**2.))))**2.))\n",
      "    return DChargeError\n",
      "\n",
      "print 'dqd terms:'\n",
      "a1= (((dm1*g)/E1)*(dv1/vf1-1.))**2\n",
      "a2= (((m1*g*derv1)/E1)*(1./vf1))**2\n",
      "a3= (((m1*g*ferv1)/E1)*(dv1/(vf1**2.)))**2\n",
      "\n",
      "print sqrt(a1+a2+a3)\n",
      "\n",
      "def dqu(m,dm,E,vu,dvu,vf,dvf):\n",
      "    UChargeError = sqrt(((((dm*g)/E)*(vu/vf+1.))**2.)+((((-m*g*dvu)/E)*(1./vf))**2.)+(((m*g*dvf)/E)*(vu/(vf**2.)))**2.)\n",
      "    return UChargeError\n",
      "\n",
      "def dr(vf,dvf,n,dn,g,Ro):\n",
      "    RadiusError = sqrt(((((dvf/(2.*sqrt(vf))))*(sqrt((9.*n)/(2.*g*Ro))))**2.)+((dn)/(2.*sqrt(n))*sqrt((9.*vf)/(2.*g*Ro)))**2.)\n",
      "    return RadiusError\n",
      "\n",
      "def n(T):\n",
      "    Eta = (1.8+(T-15.)/209.)*1e-5\n",
      "    return Eta\n",
      "\n",
      "def dn(T,dT):\n",
      "    EtaError = (dT/209.)*1e-5\n",
      "    return EtaError\n",
      "\n",
      "def dm(r,dr):\n",
      "   MassError = 4.*pi*(r**2.)*Ro*dr\n",
      "   return MassError"
     ],
     "language": "python",
     "metadata": {},
     "outputs": [
      {
       "output_type": "stream",
       "stream": "stdout",
       "text": [
        "dqd terms:\n",
        "5.77982644199e-20\n"
       ]
      }
     ],
     "prompt_number": 557
    },
    {
     "cell_type": "raw",
     "metadata": {},
     "source": [
      "dr1,dr2,dr3"
     ]
    },
    {
     "cell_type": "code",
     "collapsed": false,
     "input": [
      "n1=n(T1)\n",
      "dn1=dn(T1,dT)\n",
      "dr1=dr(vf1,ferv1,n1,dn1,g,Ro)\n",
      "\n",
      "n2=n(T2)\n",
      "dn2=dn(T2,dT)\n",
      "dr2=dr(vf2,ferv2,n2,dn2,g,Ro)\n",
      "\n",
      "n3=n(T3)\n",
      "dn3=dn(T3,dT)\n",
      "dr3=dr(vf3,ferv3,n3,dn3,g,Ro)\n",
      "\n",
      "print dr1,dr2,dr3"
     ],
     "language": "python",
     "metadata": {},
     "outputs": [
      {
       "output_type": "stream",
       "stream": "stdout",
       "text": [
        "3.08722496365e-09 4.96912612124e-09 3.9073555433e-09\n"
       ]
      }
     ],
     "prompt_number": 558
    },
    {
     "cell_type": "raw",
     "metadata": {},
     "source": [
      "dm1,dm2,dm3"
     ]
    },
    {
     "cell_type": "code",
     "collapsed": false,
     "input": [
      "dm1=dm(r1,dr1)\n",
      "\n",
      "dm2=dm(r2,dr2)\n",
      "\n",
      "dm3=dm(r3,dr3)\n",
      "\n",
      "print dm1,dm2,dm3"
     ],
     "language": "python",
     "metadata": {},
     "outputs": [
      {
       "output_type": "stream",
       "stream": "stdout",
       "text": [
        "2.91776833661e-17 2.62317985083e-17 2.48214606827e-17\n"
       ]
      }
     ],
     "prompt_number": 559
    },
    {
     "cell_type": "markdown",
     "metadata": {},
     "source": [
      "dqu,dqd"
     ]
    },
    {
     "cell_type": "code",
     "collapsed": false,
     "input": [
      "dqd1= dqd(m1,dm1,E1,dv1,derv1,vf1,ferv1)\n",
      "dqu1= dqu(m1,dm1,E1,uv1,uerv1,vf1,ferv1)\n",
      "\n",
      "dqd2= dqd(m2,dm2,E2,dv2,derv2,vf2,ferv2)\n",
      "dqu2= dqu(m2,dm2,E2,uv2,uerv2,vf2,ferv2)\n",
      "\n",
      "dqd3= dqd(m3,dm3,E3,dv3,derv3,vf3,ferv3)\n",
      "dqu3= dqu(m3,dm3,E3,uv3,uerv3,vf3,ferv3)\n",
      "\n",
      "dqds = [dqd1,dqd2,dqd3]\n",
      "dqus = [dqu1,dqu2,dqu3]\n",
      "\n",
      "print 'dqds:', dqds\n",
      "print 'dqus:', dqus\n",
      "print\n",
      "\n",
      "Ndqd = [dqds[i]/Ndown[i] for i in range(len(dqds))]\n",
      "Ndqu = [dqus[i]/Nup[i] for i in range(len(dqus))]\n",
      "\n",
      "print 'dqu/n:',Ndqu\n",
      "print 'dqd/n:',Ndqd\n",
      "\n",
      "avger = (avg(Ndqu)+avg(Ndqd))/2\n",
      "print;print 'average error in e-'\n",
      "print avger\n"
     ],
     "language": "python",
     "metadata": {},
     "outputs": [
      {
       "output_type": "stream",
       "stream": "stdout",
       "text": [
        "dqds: [5.779826441985705e-20, 4.4001165791903198e-20, 4.1289420033268979e-20]\n",
        "dqus: [4.1163141493216466e-20, 3.7355991997015941e-20, 3.4829956396417545e-20]\n",
        "\n",
        "dqu/n: [2.0581570746608232e-21, 3.3959992724559945e-21, 2.6792274151090418e-21]\n",
        "dqd/n: [1.4449566104964263e-20, 8.8002331583806398e-21, 8.2578840066537959e-21]\n",
        "\n",
        "average error in e-\n",
        "6.60684450537e-21\n"
       ]
      }
     ],
     "prompt_number": 563
    },
    {
     "cell_type": "markdown",
     "metadata": {},
     "source": [
      "Graph Of Results\n",
      "==="
     ]
    },
    {
     "cell_type": "code",
     "collapsed": false,
     "input": [
      "x=array([1,2,3,1,2,3])\n",
      "y=array([Qu[0],Qu[1],Qu[2],Qd[0],Qd[1],Qd[2]])\n",
      "ey = array([dqu1,dqu2,dqu3,dqd1,dqd2,dqd3])\n",
      "figure(figsize=(10,6))\n",
      "scatter(x,y,marker=\"*\",linewidths=2)\n",
      "errorbar(x,y,ey,linestyle='',marker='o')\n",
      "ylim(0,.3e-18)\n",
      "e = 1.6021773e-19\n",
      "A=[1.602e-19*i for i in range(22)]\n",
      "yticks(A,(\"0\",\"1e\",\"2e\",\"3e\",\"4e\",\"5e\",\"6e\",\"7e\",\"8e\",\"9e\",\"10e\",\"11e\",\"12e\",\"13e\",\"14e\",\"15e\",\"16e\",\"17e\",\"18e\",\"19e\",\"20e\",\"21e\"))\n",
      "xlabel(\"$Trial$\", fontsize=14)\n",
      "ylabel(\"$n \\\\cdot e$ $(C)$\",fontsize=15)\n",
      "xticks(array([1,2,3]),(\"1\",\"2\",\"3\"))\n",
      "grid(True, axis='y')\n",
      "show()"
     ],
     "language": "python",
     "metadata": {},
     "outputs": [
      {
       "output_type": "display_data",
       "png": "[encoded data removed]",
       "text": [
        "<matplotlib.figure.Figure at 0x10ee94f50>"
       ]
      }
     ],
     "prompt_number": 562
    },
    {
     "cell_type": "code",
     "collapsed": false,
     "input": [],
     "language": "python",
     "metadata": {},
     "outputs": [],
     "prompt_number": 562
    }
   ],
   "metadata": {}
  }
 ]
}