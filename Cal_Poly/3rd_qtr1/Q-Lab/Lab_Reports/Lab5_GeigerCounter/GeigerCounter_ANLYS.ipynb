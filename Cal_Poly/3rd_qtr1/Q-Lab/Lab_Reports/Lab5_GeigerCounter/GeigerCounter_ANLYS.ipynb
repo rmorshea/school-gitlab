{
 "metadata": {
  "name": ""
 },
 "nbformat": 3,
 "nbformat_minor": 0,
 "worksheets": [
  {
   "cells": [
    {
     "cell_type": "markdown",
     "metadata": {},
     "source": [
      "Data:\n",
      "==="
     ]
    },
    {
     "cell_type": "raw",
     "metadata": {},
     "source": [
      "Gain Related Data"
     ]
    },
    {
     "cell_type": "code",
     "collapsed": false,
     "input": [
      "HV=0.62 #kV\n",
      "Peak= 3*148 #mV\n",
      "#NO PULSE HEIGHTS \n",
      "HV1=.57 #(kV)\n",
      "C1=0\n",
      "Peak1=0\n",
      "\n",
      "HV2=.58\n",
      "C2=0\n",
      "Peak2=0\n",
      "\n",
      "HV3=.59\n",
      "C3=0\n",
      "Peak3=0\n",
      "\n",
      "HV4=.60\n",
      "C4=0\n",
      "Peak4=240 #mv\n",
      "\n",
      "HV5=.61\n",
      "C5=0\n",
      "Peak5=4*80 #mv\n",
      "\n",
      "HV6=.62\n",
      "C6=1\n",
      "Peak6=5*80 #mv\n",
      "\n",
      "HV7=.63\n",
      "C7_1=812\n",
      "C7_2=783\n",
      "Cavg7=(C7_1+C7_2)/2\n",
      "Peak7=104*5\n",
      "\n",
      "HV8=.64\n",
      "C8_1=1285\n",
      "C8_2=1373\n",
      "Cavg8=(C8_1+C8_2)/2\n",
      "Peak8=4*156\n",
      "\n",
      "HV9=.65\n",
      "C9_1=3315\n",
      "C9_2=3402\n",
      "Cavg9=(C9_1+C9_2)/2\n",
      "Peak9=300*5\n",
      "\n",
      "HV10=.66\n",
      "C10_1=3734\n",
      "C10_2=3662\n",
      "Cavg10=(C10_1+C10_2)/2\n",
      "Peak10=5*450\n",
      "\n",
      "HV11=.67\n",
      "C11_1=3855\n",
      "C11_2=3862\n",
      "avg11=(C11_1+C11_2)/2\n",
      "Peak11=560*5 #(mv)\n",
      "              \n",
      "HV12=.68\n",
      "C12_1=4015\n",
      "C12_2=4083\n",
      "avg12=(C12_1+C12_2)/2\n",
      "Peak12=600*5    \n",
      "\n",
      "HV13=.69\n",
      "C13_1=4182\n",
      "C13_2=4230\n",
      "avg13=(C13_1+C13_2)/2\n",
      "Peak13=600*5\n",
      "\n",
      "HV14=.70\n",
      "C14_1=4360\n",
      "C14_2=4406\n",
      "avg14=(C14_1+C14_2)/2\n",
      "Peak14=600*5\n",
      "\n",
      "HV15=.71\n",
      "C15_1=4567\n",
      "C15_2=4511\n",
      "avg15=(C15_1+C15_2)/2\n",
      "Peak15=600*5\n",
      "\n",
      "HV16=.72\n",
      "C16_1=4551\n",
      "C16_2=4605\n",
      "avg16=(C16_1+C16_2)/2\n",
      "Peak16=740*4\n",
      "\n",
      "HV17=.74\n",
      "C17_1=4792\n",
      "C17_2=4791\n",
      "avg17=(C17_1+C17_2)/2\n",
      "Peak17=720*4\n",
      "\n",
      "HV18=.76\n",
      "C18_1=4713\n",
      "C18_2=4781\n",
      "avg18=(C18_1+C18_2)/2\n",
      "Peak18=940*3\n",
      "\n",
      "HV19=.78 #(kV)\n",
      "C19_1=5035\n",
      "C19_2=4992\n",
      "avg19=(C19_1+C19_2)/2\n",
      "Peak19=1400*2\n",
      "\n",
      "HV20=.80\n",
      "C20_1=5091\n",
      "C20_2=5138\n",
      "avg20=(C20_1+C20_2)/2\n",
      "Peak20=920*3\n",
      "\n",
      "HV21=.82\n",
      "C21_1=5275\n",
      "C21_2=5290\n",
      "avg21=(C21_1+C21_2)/2\n",
      "Peak21=880*3\n",
      "\n",
      "HV22=.84\n",
      "C22_1=5440\n",
      "C22_2=5301\n",
      "avg22=(C22_1+C22_2)/2\n",
      "Peak22=660*4\n",
      "\n",
      "HV23=.86\n",
      "C23_1=5491\n",
      "C23_2=5382\n",
      "avg23=(C23_1+C23_2)/2\n",
      "Peak23=860*3\n",
      "\n",
      "HV24=.88\n",
      "C24_1=5509\n",
      "C24_2=5539\n",
      "avg24=(C24_1+C24_2)/2\n",
      "Peak24=640*4\n",
      "\n",
      "HV25=.90\n",
      "C25_1=5590\n",
      "C25_2=5664\n",
      "avg25=(C25_1+C25_2)/2\n",
      "Peak25=640*4"
     ],
     "language": "python",
     "metadata": {},
     "outputs": [],
     "prompt_number": 1
    },
    {
     "cell_type": "code",
     "collapsed": false,
     "input": [
      "HVs =array([HV1,HV2,HV3,HV4,HV5,HV6,HV7,HV8,HV9,HV10,HV11,HV12,HV13,HV14,HV15,HV16,HV17,HV18,HV19,HV20,HV21,HV22,HV23,HV24,HV25])\n",
      "\n",
      "Peaks = array([Peak1,Peak2,Peak3,Peak4,Peak5,Peak6,Peak7,Peak8,Peak9,Peak10,Peak11,Peak12,Peak13,Peak14,Peak15,Peak16,Peak17,Peak18,Peak19,Peak20,Peak21,Peak22,Peak23,Peak24,Peak25])\n",
      "\n",
      "Counts = array([C1,C2,C3,C4,C5,C6,Cavg7,Cavg8,Cavg9,Cavg10,avg11,avg12,avg13,avg14,avg15,avg16,avg17,avg18,avg19,avg20,avg21,avg22,avg23,avg24,avg25])"
     ],
     "language": "python",
     "metadata": {},
     "outputs": [],
     "prompt_number": 2
    },
    {
     "cell_type": "code",
     "collapsed": false,
     "input": [
      "figure(figsize=(10,6))\n",
      "plot(HVs,Counts,label='Counts vs Voltage Gain',color='green')\n",
      "xlabel('High Voltage (kV)',font )\n",
      "ylabel('Counts')\n",
      "axvline(x=.65,color='r',ls='dashed')\n",
      "axvline(x=.9,color='r',ls='dashed')\n",
      "show()\n",
      "\n",
      "figure(figsize=(10,6))\n",
      "plot(HVs,Peaks,label='Counts vs Voltage Gain')\n",
      "ylim(0,3100)\n",
      "xlabel('High Voltage (kV)')\n",
      "ylabel('Pulse Height (mV)')\n",
      "show()\n",
      "\n",
      "Voperation=700 #(V)\n",
      "#pulse width\n",
      "delt_t = 3*20 #(micro sec)"
     ],
     "language": "python",
     "metadata": {},
     "outputs": [
      {
       "ename": "TypeError",
       "evalue": "There is no line property \"textsize\"",
       "output_type": "pyerr",
       "traceback": [
        "\u001b[0;31m---------------------------------------------------------------------------\u001b[0m\n\u001b[0;31mTypeError\u001b[0m                                 Traceback (most recent call last)",
        "\u001b[0;32m<ipython-input-177-d6d6b0f49b0f>\u001b[0m in \u001b[0;36m<module>\u001b[0;34m()\u001b[0m\n\u001b[1;32m      1\u001b[0m \u001b[0mfigure\u001b[0m\u001b[0;34m(\u001b[0m\u001b[0mfigsize\u001b[0m\u001b[0;34m=\u001b[0m\u001b[0;34m(\u001b[0m\u001b[0;36m10\u001b[0m\u001b[0;34m,\u001b[0m\u001b[0;36m6\u001b[0m\u001b[0;34m)\u001b[0m\u001b[0;34m)\u001b[0m\u001b[0;34m\u001b[0m\u001b[0m\n\u001b[0;32m----> 2\u001b[0;31m \u001b[0mplot\u001b[0m\u001b[0;34m(\u001b[0m\u001b[0mHVs\u001b[0m\u001b[0;34m,\u001b[0m\u001b[0mCounts\u001b[0m\u001b[0;34m,\u001b[0m\u001b[0mlabel\u001b[0m\u001b[0;34m=\u001b[0m\u001b[0;34m'Counts vs Voltage Gain'\u001b[0m\u001b[0;34m,\u001b[0m\u001b[0mcolor\u001b[0m\u001b[0;34m=\u001b[0m\u001b[0;34m'green'\u001b[0m\u001b[0;34m,\u001b[0m\u001b[0mtextsize\u001b[0m\u001b[0;34m=\u001b[0m\u001b[0;36m14\u001b[0m\u001b[0;34m)\u001b[0m\u001b[0;34m\u001b[0m\u001b[0m\n\u001b[0m\u001b[1;32m      3\u001b[0m \u001b[0mxlabel\u001b[0m\u001b[0;34m(\u001b[0m\u001b[0;34m'High Voltage (kV)'\u001b[0m\u001b[0;34m)\u001b[0m\u001b[0;34m\u001b[0m\u001b[0m\n\u001b[1;32m      4\u001b[0m \u001b[0mylabel\u001b[0m\u001b[0;34m(\u001b[0m\u001b[0;34m'Counts'\u001b[0m\u001b[0;34m)\u001b[0m\u001b[0;34m\u001b[0m\u001b[0m\n\u001b[1;32m      5\u001b[0m \u001b[0maxvline\u001b[0m\u001b[0;34m(\u001b[0m\u001b[0mx\u001b[0m\u001b[0;34m=\u001b[0m\u001b[0;36m.65\u001b[0m\u001b[0;34m,\u001b[0m\u001b[0mcolor\u001b[0m\u001b[0;34m=\u001b[0m\u001b[0;34m'r'\u001b[0m\u001b[0;34m,\u001b[0m\u001b[0mls\u001b[0m\u001b[0;34m=\u001b[0m\u001b[0;34m'dashed'\u001b[0m\u001b[0;34m)\u001b[0m\u001b[0;34m\u001b[0m\u001b[0m\n",
        "\u001b[0;32m/Users/RyanMorshead/Library/Enthought/Canopy_64bit/User/lib/python2.7/site-packages/matplotlib/pyplot.pyc\u001b[0m in \u001b[0;36mplot\u001b[0;34m(*args, **kwargs)\u001b[0m\n\u001b[1;32m   2985\u001b[0m         \u001b[0max\u001b[0m\u001b[0;34m.\u001b[0m\u001b[0mhold\u001b[0m\u001b[0;34m(\u001b[0m\u001b[0mhold\u001b[0m\u001b[0;34m)\u001b[0m\u001b[0;34m\u001b[0m\u001b[0m\n\u001b[1;32m   2986\u001b[0m     \u001b[0;32mtry\u001b[0m\u001b[0;34m:\u001b[0m\u001b[0;34m\u001b[0m\u001b[0m\n\u001b[0;32m-> 2987\u001b[0;31m         \u001b[0mret\u001b[0m \u001b[0;34m=\u001b[0m \u001b[0max\u001b[0m\u001b[0;34m.\u001b[0m\u001b[0mplot\u001b[0m\u001b[0;34m(\u001b[0m\u001b[0;34m*\u001b[0m\u001b[0margs\u001b[0m\u001b[0;34m,\u001b[0m \u001b[0;34m**\u001b[0m\u001b[0mkwargs\u001b[0m\u001b[0;34m)\u001b[0m\u001b[0;34m\u001b[0m\u001b[0m\n\u001b[0m\u001b[1;32m   2988\u001b[0m         \u001b[0mdraw_if_interactive\u001b[0m\u001b[0;34m(\u001b[0m\u001b[0;34m)\u001b[0m\u001b[0;34m\u001b[0m\u001b[0m\n\u001b[1;32m   2989\u001b[0m     \u001b[0;32mfinally\u001b[0m\u001b[0;34m:\u001b[0m\u001b[0;34m\u001b[0m\u001b[0m\n",
        "\u001b[0;32m/Users/RyanMorshead/Library/Enthought/Canopy_64bit/User/lib/python2.7/site-packages/matplotlib/axes.pyc\u001b[0m in \u001b[0;36mplot\u001b[0;34m(self, *args, **kwargs)\u001b[0m\n\u001b[1;32m   4135\u001b[0m         \u001b[0mlines\u001b[0m \u001b[0;34m=\u001b[0m \u001b[0;34m[\u001b[0m\u001b[0;34m]\u001b[0m\u001b[0;34m\u001b[0m\u001b[0m\n\u001b[1;32m   4136\u001b[0m \u001b[0;34m\u001b[0m\u001b[0m\n\u001b[0;32m-> 4137\u001b[0;31m         \u001b[0;32mfor\u001b[0m \u001b[0mline\u001b[0m \u001b[0;32min\u001b[0m \u001b[0mself\u001b[0m\u001b[0;34m.\u001b[0m\u001b[0m_get_lines\u001b[0m\u001b[0;34m(\u001b[0m\u001b[0;34m*\u001b[0m\u001b[0margs\u001b[0m\u001b[0;34m,\u001b[0m \u001b[0;34m**\u001b[0m\u001b[0mkwargs\u001b[0m\u001b[0;34m)\u001b[0m\u001b[0;34m:\u001b[0m\u001b[0;34m\u001b[0m\u001b[0m\n\u001b[0m\u001b[1;32m   4138\u001b[0m             \u001b[0mself\u001b[0m\u001b[0;34m.\u001b[0m\u001b[0madd_line\u001b[0m\u001b[0;34m(\u001b[0m\u001b[0mline\u001b[0m\u001b[0;34m)\u001b[0m\u001b[0;34m\u001b[0m\u001b[0m\n\u001b[1;32m   4139\u001b[0m             \u001b[0mlines\u001b[0m\u001b[0;34m.\u001b[0m\u001b[0mappend\u001b[0m\u001b[0;34m(\u001b[0m\u001b[0mline\u001b[0m\u001b[0;34m)\u001b[0m\u001b[0;34m\u001b[0m\u001b[0m\n",
        "\u001b[0;32m/Users/RyanMorshead/Library/Enthought/Canopy_64bit/User/lib/python2.7/site-packages/matplotlib/axes.pyc\u001b[0m in \u001b[0;36m_grab_next_args\u001b[0;34m(self, *args, **kwargs)\u001b[0m\n\u001b[1;32m    315\u001b[0m                 \u001b[0;32mreturn\u001b[0m\u001b[0;34m\u001b[0m\u001b[0m\n\u001b[1;32m    316\u001b[0m             \u001b[0;32mif\u001b[0m \u001b[0mlen\u001b[0m\u001b[0;34m(\u001b[0m\u001b[0mremaining\u001b[0m\u001b[0;34m)\u001b[0m \u001b[0;34m<=\u001b[0m \u001b[0;36m3\u001b[0m\u001b[0;34m:\u001b[0m\u001b[0;34m\u001b[0m\u001b[0m\n\u001b[0;32m--> 317\u001b[0;31m                 \u001b[0;32mfor\u001b[0m \u001b[0mseg\u001b[0m \u001b[0;32min\u001b[0m \u001b[0mself\u001b[0m\u001b[0;34m.\u001b[0m\u001b[0m_plot_args\u001b[0m\u001b[0;34m(\u001b[0m\u001b[0mremaining\u001b[0m\u001b[0;34m,\u001b[0m \u001b[0mkwargs\u001b[0m\u001b[0;34m)\u001b[0m\u001b[0;34m:\u001b[0m\u001b[0;34m\u001b[0m\u001b[0m\n\u001b[0m\u001b[1;32m    318\u001b[0m                     \u001b[0;32myield\u001b[0m \u001b[0mseg\u001b[0m\u001b[0;34m\u001b[0m\u001b[0m\n\u001b[1;32m    319\u001b[0m                 \u001b[0;32mreturn\u001b[0m\u001b[0;34m\u001b[0m\u001b[0m\n",
        "\u001b[0;32m/Users/RyanMorshead/Library/Enthought/Canopy_64bit/User/lib/python2.7/site-packages/matplotlib/axes.pyc\u001b[0m in \u001b[0;36m_plot_args\u001b[0;34m(self, tup, kwargs)\u001b[0m\n\u001b[1;32m    303\u001b[0m         \u001b[0mncx\u001b[0m\u001b[0;34m,\u001b[0m \u001b[0mncy\u001b[0m \u001b[0;34m=\u001b[0m \u001b[0mx\u001b[0m\u001b[0;34m.\u001b[0m\u001b[0mshape\u001b[0m\u001b[0;34m[\u001b[0m\u001b[0;36m1\u001b[0m\u001b[0;34m]\u001b[0m\u001b[0;34m,\u001b[0m \u001b[0my\u001b[0m\u001b[0;34m.\u001b[0m\u001b[0mshape\u001b[0m\u001b[0;34m[\u001b[0m\u001b[0;36m1\u001b[0m\u001b[0;34m]\u001b[0m\u001b[0;34m\u001b[0m\u001b[0m\n\u001b[1;32m    304\u001b[0m         \u001b[0;32mfor\u001b[0m \u001b[0mj\u001b[0m \u001b[0;32min\u001b[0m \u001b[0mxrange\u001b[0m\u001b[0;34m(\u001b[0m\u001b[0mmax\u001b[0m\u001b[0;34m(\u001b[0m\u001b[0mncx\u001b[0m\u001b[0;34m,\u001b[0m \u001b[0mncy\u001b[0m\u001b[0;34m)\u001b[0m\u001b[0;34m)\u001b[0m\u001b[0;34m:\u001b[0m\u001b[0;34m\u001b[0m\u001b[0m\n\u001b[0;32m--> 305\u001b[0;31m             \u001b[0mseg\u001b[0m \u001b[0;34m=\u001b[0m \u001b[0mfunc\u001b[0m\u001b[0;34m(\u001b[0m\u001b[0mx\u001b[0m\u001b[0;34m[\u001b[0m\u001b[0;34m:\u001b[0m\u001b[0;34m,\u001b[0m \u001b[0mj\u001b[0m \u001b[0;34m%\u001b[0m \u001b[0mncx\u001b[0m\u001b[0;34m]\u001b[0m\u001b[0;34m,\u001b[0m \u001b[0my\u001b[0m\u001b[0;34m[\u001b[0m\u001b[0;34m:\u001b[0m\u001b[0;34m,\u001b[0m \u001b[0mj\u001b[0m \u001b[0;34m%\u001b[0m \u001b[0mncy\u001b[0m\u001b[0;34m]\u001b[0m\u001b[0;34m,\u001b[0m \u001b[0mkw\u001b[0m\u001b[0;34m,\u001b[0m \u001b[0mkwargs\u001b[0m\u001b[0;34m)\u001b[0m\u001b[0;34m\u001b[0m\u001b[0m\n\u001b[0m\u001b[1;32m    306\u001b[0m             \u001b[0mret\u001b[0m\u001b[0;34m.\u001b[0m\u001b[0mappend\u001b[0m\u001b[0;34m(\u001b[0m\u001b[0mseg\u001b[0m\u001b[0;34m)\u001b[0m\u001b[0;34m\u001b[0m\u001b[0m\n\u001b[1;32m    307\u001b[0m         \u001b[0;32mreturn\u001b[0m \u001b[0mret\u001b[0m\u001b[0;34m\u001b[0m\u001b[0m\n",
        "\u001b[0;32m/Users/RyanMorshead/Library/Enthought/Canopy_64bit/User/lib/python2.7/site-packages/matplotlib/axes.pyc\u001b[0m in \u001b[0;36m_makeline\u001b[0;34m(self, x, y, kw, kwargs)\u001b[0m\n\u001b[1;32m    255\u001b[0m                             \u001b[0;34m**\u001b[0m\u001b[0mkw\u001b[0m\u001b[0;34m\u001b[0m\u001b[0m\n\u001b[1;32m    256\u001b[0m                             )\n\u001b[0;32m--> 257\u001b[0;31m         \u001b[0mself\u001b[0m\u001b[0;34m.\u001b[0m\u001b[0mset_lineprops\u001b[0m\u001b[0;34m(\u001b[0m\u001b[0mseg\u001b[0m\u001b[0;34m,\u001b[0m \u001b[0;34m**\u001b[0m\u001b[0mkwargs\u001b[0m\u001b[0;34m)\u001b[0m\u001b[0;34m\u001b[0m\u001b[0m\n\u001b[0m\u001b[1;32m    258\u001b[0m         \u001b[0;32mreturn\u001b[0m \u001b[0mseg\u001b[0m\u001b[0;34m\u001b[0m\u001b[0m\n\u001b[1;32m    259\u001b[0m \u001b[0;34m\u001b[0m\u001b[0m\n",
        "\u001b[0;32m/Users/RyanMorshead/Library/Enthought/Canopy_64bit/User/lib/python2.7/site-packages/matplotlib/axes.pyc\u001b[0m in \u001b[0;36mset_lineprops\u001b[0;34m(self, line, **kwargs)\u001b[0m\n\u001b[1;32m    196\u001b[0m             \u001b[0mfuncName\u001b[0m \u001b[0;34m=\u001b[0m \u001b[0;34m\"set_%s\"\u001b[0m \u001b[0;34m%\u001b[0m \u001b[0mkey\u001b[0m\u001b[0;34m\u001b[0m\u001b[0m\n\u001b[1;32m    197\u001b[0m             \u001b[0;32mif\u001b[0m \u001b[0;32mnot\u001b[0m \u001b[0mhasattr\u001b[0m\u001b[0;34m(\u001b[0m\u001b[0mline\u001b[0m\u001b[0;34m,\u001b[0m \u001b[0mfuncName\u001b[0m\u001b[0;34m)\u001b[0m\u001b[0;34m:\u001b[0m\u001b[0;34m\u001b[0m\u001b[0m\n\u001b[0;32m--> 198\u001b[0;31m                 \u001b[0;32mraise\u001b[0m \u001b[0mTypeError\u001b[0m\u001b[0;34m(\u001b[0m\u001b[0;34m'There is no line property \"%s\"'\u001b[0m \u001b[0;34m%\u001b[0m \u001b[0mkey\u001b[0m\u001b[0;34m)\u001b[0m\u001b[0;34m\u001b[0m\u001b[0m\n\u001b[0m\u001b[1;32m    199\u001b[0m             \u001b[0mfunc\u001b[0m \u001b[0;34m=\u001b[0m \u001b[0mgetattr\u001b[0m\u001b[0;34m(\u001b[0m\u001b[0mline\u001b[0m\u001b[0;34m,\u001b[0m \u001b[0mfuncName\u001b[0m\u001b[0;34m)\u001b[0m\u001b[0;34m\u001b[0m\u001b[0m\n\u001b[1;32m    200\u001b[0m             \u001b[0mfunc\u001b[0m\u001b[0;34m(\u001b[0m\u001b[0mval\u001b[0m\u001b[0;34m)\u001b[0m\u001b[0;34m\u001b[0m\u001b[0m\n",
        "\u001b[0;31mTypeError\u001b[0m: There is no line property \"textsize\""
       ]
      },
      {
       "metadata": {},
       "output_type": "display_data",
       "png": "[encoded data removed]",
       "text": [
        "<matplotlib.figure.Figure at 0x10ecc2750>"
       ]
      }
     ],
     "prompt_number": 177
    },
    {
     "cell_type": "code",
     "collapsed": false,
     "input": [
      "#High count rate statistics\n",
      "#\n",
      "Hc_1=923\n",
      "Hc_2=939\n",
      "Hc_3=955\n",
      "Hc_4=1026\n",
      "Hc_5=978\n",
      "Hc_6=1033\n",
      "Hc_7=987\n",
      "Hc_8=976\n",
      "Hc_9=954\n",
      "Hc_10=984\n",
      "Hc_11=957\n",
      "Hc_12=1005\n",
      "Hc_13=943\n",
      "Hc_14=992\n",
      "Hc_15=976\n",
      "Hc_16=950\n",
      "Hc_17=965\n",
      "Hc_18=997\n",
      "Hc_19=953\n",
      "Hc_20=966\n",
      "Hc_21=980\n",
      "Hc_22=1037\n",
      "Hc_23=1005\n",
      "Hc_24=988\n",
      "Hc_25=977\n",
      "Hc_26=968\n",
      "Hc_27=1000\n",
      "Hc_28=991\n",
      "Hc_29=1002\n",
      "Hc_30=983"
     ],
     "language": "python",
     "metadata": {},
     "outputs": [],
     "prompt_number": 4
    },
    {
     "cell_type": "raw",
     "metadata": {},
     "source": [
      "Background Related"
     ]
    },
    {
     "cell_type": "code",
     "collapsed": false,
     "input": [
      "#low rate counting\n",
      "Bkgrnd_Counts=21\n",
      "Count_Rate=(Bkgrnd_Counts/10.)\n",
      "Lcounts = [2,6,2,1,2,3,1,3,1,0,1,1,3,5,3,4,0,2,1,1,1,2,6,1,1,2,6,2,3,3,1,1,3,2,6,2,2,5,3,2,2,3,3,3,1,2,4,5,1,2,3,3,3,3,1,1,2,4,3,0,5,1,2,1,1,2,3,1,3,1]\n",
      "#Lcounts = [2,1,1,2,2,2,2,5,1,3,2,2,1,2,0,2,5,2,2,4,5,3,0,1,4,1,1,3,0,0,1,3,1,2,2,0,3,2,3,1,2,3,3,2,3,4,3,2,5,0]\n",
      "Lcounts_avg = float(sum(Lcounts))/len(Lcounts)\n",
      "\n",
      "print 'background rate (counts/sec):',(Count_Rate+Lcounts_avg)/2"
     ],
     "language": "python",
     "metadata": {},
     "outputs": [
      {
       "output_type": "stream",
       "stream": "stdout",
       "text": [
        "background rate (counts/sec): 2.22857142857\n"
       ]
      }
     ],
     "prompt_number": 5
    },
    {
     "cell_type": "raw",
     "metadata": {},
     "source": [
      "ignore the cell below"
     ]
    },
    {
     "cell_type": "code",
     "collapsed": false,
     "input": [
      "#every ten secons we ideally get 2.1 counts\n",
      "#low rate counting\n",
      "#likely useless: tlarray=array([4435,4295,4334,4356,4253,4344,4354,4351,4430,4391,4393,4238,4315,4316,4294,4332,4288,4291,4314,4253,4296,4284,4300,4360,4381,4306,4342,4336,4351,4319,4287,4295,4342,4275,4377,4371,4360,4279,4346,4372,4385,4382,4391,4333,4284,4311,4301,4323,4428,4298])\n",
      "#likely useless: print shape(tlarray)[0]"
     ],
     "language": "python",
     "metadata": {},
     "outputs": [],
     "prompt_number": 6
    },
    {
     "cell_type": "markdown",
     "metadata": {},
     "source": [
      "Analysis\n",
      "==="
     ]
    },
    {
     "cell_type": "raw",
     "metadata": {},
     "source": [
      "1)"
     ]
    },
    {
     "cell_type": "code",
     "collapsed": false,
     "input": [
      "def N_true(N,R,t):\n",
      "    \"True count correction factor\"\n",
      "    ans=N/(1-R*t)"
     ],
     "language": "python",
     "metadata": {},
     "outputs": [],
     "prompt_number": 7
    },
    {
     "cell_type": "raw",
     "metadata": {},
     "source": [
      "Plateau Range Calculations:"
     ]
    },
    {
     "cell_type": "code",
     "collapsed": false,
     "input": [
      "#plateau voltage range:\n",
      "PR_i = 0.67\n",
      "PR_f = 0.9\n",
      "PR = PR_f-PR_i\n",
      "print 'PR (V):',PR\n",
      "\n",
      "#plateau count range:\n",
      "PRcount_i = (avg11+avg12)/2\n",
      "PRcount_f = avg25\n",
      "PRcount = PRcount_f-PRcount_i\n",
      "print 'PRcount (counts):',PRcount\n",
      "\n",
      "#percent increase over range\n",
      "PercentInc = ((PRcount/(PR*PRcount_i))/10)*100 #unit: percent\n",
      "print 'percent increase (%):',PercentInc #counts per 0.1 kV or 100V increase in percent relative to PRcount_i\n",
      "print 'percent increase error:',(sqrt(PRcount_f)+sqrt(PRcount_i))/(sqrt(PR*PRcount_i**2+PR**2*PRcount_i))*10\n",
      "\n",
      "\n",
      "#corrected precent increase\n",
      "PRcount_act = PRcount/0.1\n",
      "PRcount_iact= PRcount_i/0.1\n",
      "\n",
      "\n",
      "\n",
      "print\n",
      "print 'PRcount_act (counts):',PRcount_act"
     ],
     "language": "python",
     "metadata": {},
     "outputs": [
      {
       "output_type": "stream",
       "stream": "stdout",
       "text": [
        "PR (V): 0.23\n",
        "PRcount (counts): 1674\n",
        "percent increase (%): 18.4119930928\n",
        "percent increase error: 0.727306550342\n",
        "\n",
        "PRcount_act (counts): 16740.0\n"
       ]
      }
     ],
     "prompt_number": 8
    },
    {
     "cell_type": "raw",
     "metadata": {},
     "source": [
      "2)"
     ]
    },
    {
     "cell_type": "code",
     "collapsed": false,
     "input": [
      "activity = sum(Counts[10:24])/13\n",
      "print 'source activity:',activity\n",
      "#t=e^(-1)\n",
      "print 'source activity micro ci:',activity/3.7e4\n",
      "# micro Ci = 3.7e4 decays per second\n",
      "print std(Counts[10:24])/13/3.7e4"
     ],
     "language": "python",
     "metadata": {},
     "outputs": [
      {
       "output_type": "stream",
       "stream": "stdout",
       "text": [
        "source activity: 5145\n",
        "source activity micro ci: 0.139054054054\n",
        "0.00107187222025\n"
       ]
      }
     ],
     "prompt_number": 9
    },
    {
     "cell_type": "raw",
     "metadata": {},
     "source": [
      "3)"
     ]
    },
    {
     "cell_type": "code",
     "collapsed": false,
     "input": [
      "halflife = 1601.000 #years"
     ],
     "language": "python",
     "metadata": {},
     "outputs": [],
     "prompt_number": 10
    },
    {
     "cell_type": "code",
     "collapsed": false,
     "input": [
      "#Initial Mass & Atom Calculations:\n",
      "\n",
      "T = halflife/log(2)*(3600*24*365.25)\n",
      "print 'Tao:',T\n",
      "\n",
      "N_i = sum(Counts[6:25])/(1-e**(-230/T))\n",
      "print 'inital atoms:',N_i\n",
      "\n",
      "M_i = (N_i/6.22e23)*226\n",
      "print 'initial mass:',M_i #unit: grams\n",
      "\n",
      "Robs = 0.01/T\n",
      "print 'observed rate:',Robs #counts/second\n",
      "\n",
      "print std(Counts[6:25])/(1-e**(-230/T))"
     ],
     "language": "python",
     "metadata": {},
     "outputs": [
      {
       "output_type": "stream",
       "stream": "stdout",
       "text": [
        "Tao: 72890316828.8\n",
        "inital atoms: 2.58915909238e+13\n",
        "initial mass: 9.40755554468e-09\n",
        "observed rate: 1.37192434264e-13\n",
        "404980058918.0\n"
       ]
      }
     ],
     "prompt_number": 11
    },
    {
     "cell_type": "raw",
     "metadata": {},
     "source": [
      "4)"
     ]
    },
    {
     "cell_type": "code",
     "collapsed": false,
     "input": [
      "dt = 270e-6 \n",
      "print 'dead time:', dt"
     ],
     "language": "python",
     "metadata": {},
     "outputs": [
      {
       "output_type": "stream",
       "stream": "stdout",
       "text": [
        "dead time: 0.00027\n"
       ]
      }
     ],
     "prompt_number": 12
    },
    {
     "cell_type": "code",
     "collapsed": false,
     "input": [
      "def average(x):\n",
      "    a=0\n",
      "    for i in range(len(x)):\n",
      "        a+=x[i]\n",
      "    return a/float(len(x))"
     ],
     "language": "python",
     "metadata": {},
     "outputs": [],
     "prompt_number": 13
    },
    {
     "cell_type": "code",
     "collapsed": false,
     "input": [
      "def sig(n,n_avg):\n",
      "    a=0\n",
      "    for i in range(len(n)):\n",
      "        a+=(n[i]-n_avg)**2.\n",
      "    return sqrt(a/len(n))\n",
      "#list of values n"
     ],
     "language": "python",
     "metadata": {},
     "outputs": [],
     "prompt_number": 14
    },
    {
     "cell_type": "code",
     "collapsed": false,
     "input": [
      "Hcounts = [Hc_1,Hc_2,Hc_3,Hc_4,Hc_5,Hc_6,Hc_7,Hc_8,Hc_9,Hc_10,Hc_11,Hc_12,Hc_13,Hc_14,Hc_15,Hc_16,Hc_17,Hc_18,Hc_19,Hc_20,Hc_21,Hc_22,Hc_23,Hc_24,Hc_25,Hc_26,Hc_27,Hc_28,Hc_29,Hc_30]"
     ],
     "language": "python",
     "metadata": {},
     "outputs": [],
     "prompt_number": 15
    },
    {
     "cell_type": "code",
     "collapsed": false,
     "input": [
      "Hrates = []\n",
      "for i in Hcounts:\n",
      "    Hrates.append(i/10)\n",
      "\n",
      "def Rcorrect(Robs,dt):\n",
      "    return Robs/(1-Robs*dt)\n",
      "\n",
      "Hrates_act=[]\n",
      "for i in range(len(Hrates)):\n",
      "    Hrates_act.append(Rcorrect(Hrates[i],dt))\n",
      "#print Hrates_act\n",
      "Hcount_act=[]\n",
      "for i in range(len(Hrates_act)):\n",
      "    Hcount_act.append(Hrates_act[i]*10)\n",
      "#print Hcount_act\n",
      "\n",
      "\n",
      "Hcount_avg = average(Hcount_act)\n",
      "print 'Hcount_avg:',Hcount_avg\n",
      "Htheo_std = sqrt(Hcount_avg)\n",
      "print 'Htheo_std:',Htheo_std\n",
      "Hexp_std = sig(Hcount_act,Hcount_avg)\n",
      "print 'Hexp_std:',Hexp_std\n",
      "std_frac = Hexp_std/Htheo_std\n",
      "\n",
      "print 'Hstd_frac:',std_frac"
     ],
     "language": "python",
     "metadata": {},
     "outputs": [
      {
       "output_type": "stream",
       "stream": "stdout",
       "text": [
        "Hcount_avg: 1001.38183768\n",
        "Htheo_std: 31.6446178312\n",
        "Hexp_std: 28.2745792105\n",
        "Hstd_frac: 0.893503576541\n"
       ]
      }
     ],
     "prompt_number": 16
    },
    {
     "cell_type": "raw",
     "metadata": {},
     "source": [
      "5)"
     ]
    },
    {
     "cell_type": "raw",
     "metadata": {},
     "source": [
      "Possion Distribution:"
     ]
    },
    {
     "cell_type": "code",
     "collapsed": false,
     "input": [
      "yer = [1/sqrt(1),1/sqrt(1),1/sqrt(1),1/sqrt(5),1/sqrt(3),1/sqrt(4),1/sqrt(5),1/sqrt(3),1/sqrt(4),1/sqrt(1),1/sqrt(2)]\n",
      "print yer\n",
      "bincount = [1,1,1,5,3,4,5,3,4,1,2]\n",
      "mids = [945,955,965,975,985,995,1005,1015,1025,1045,1055]"
     ],
     "language": "python",
     "metadata": {},
     "outputs": [
      {
       "output_type": "stream",
       "stream": "stdout",
       "text": [
        "[1.0, 1.0, 1.0, 0.44721359549995793, 0.57735026918962584, 0.5, 0.44721359549995793, 0.57735026918962584, 0.5, 1.0, 0.70710678118654746]\n"
       ]
      }
     ],
     "prompt_number": 18
    },
    {
     "cell_type": "code",
     "collapsed": false,
     "input": [
      "guass=[1,2]\n",
      "def gauss(x,a,b,c):\n",
      "    return ((c)/(sqrt(2*pi)*b))*exp(-((x-a)**2)/(2.*b**2))\n",
      "\n",
      "guess=[1000,30,5000/20]"
     ],
     "language": "python",
     "metadata": {},
     "outputs": [],
     "prompt_number": 19
    },
    {
     "cell_type": "code",
     "collapsed": false,
     "input": [
      "mids = [945,955,965,975,985,995,1005,1015,1025,1045,1055] #1035 3 back\n",
      "bincount = [1,1,1,5,3,4,5,3,4,1,2]\n",
      "from scipy.optimize import curve_fit  # import the curve fitting function\n",
      "plsq, pcov = curve_fit(gauss,mids,bincount,guess,yer)\n",
      "\n",
      "print plsq"
     ],
     "language": "python",
     "metadata": {},
     "outputs": [
      {
       "output_type": "stream",
       "stream": "stdout",
       "text": [
        "[ 999.31107265   36.92705104  413.88238116]\n"
       ]
      }
     ],
     "prompt_number": 20
    },
    {
     "cell_type": "code",
     "collapsed": false,
     "input": [
      "figure(figsize=(10,6))\n",
      "hist(Hcount_act,bins=12,range=(940,1060),color='g',label='Counts vs High Counts')\n",
      "xlim(930,1070)\n",
      "ylim(0,6)\n",
      "xlabel('counts')\n",
      "xlots = linspace(930,1070)\n",
      "plot(xlots,gauss(xlots,plsq[0],plsq[1],plsq[2]),color='r',linewidth=(1.3),label='Gausian Fit')\n",
      "errorbar(mids,bincount,yer,ecolor='k',elinewidth=1.3,fmt='k.')\n",
      "xlabel('High Counts')\n",
      "ylabel('Number of Counts')\n",
      "legend()\n",
      "show()"
     ],
     "language": "python",
     "metadata": {},
     "outputs": [
      {
       "metadata": {},
       "output_type": "display_data",
       "png": "[encoded data removed]",
       "text": [
        "<matplotlib.figure.Figure at 0x10e6a86d0>"
       ]
      }
     ],
     "prompt_number": 21
    },
    {
     "cell_type": "raw",
     "metadata": {},
     "source": [
      "6)"
     ]
    },
    {
     "cell_type": "code",
     "collapsed": false,
     "input": [
      "print 'within 1*sig:', 19\n",
      "print 'outside 1*sig:', 11\n",
      "print 'ratio:', 24./30\n",
      "print\n",
      "print 'within 2*sig:', 27\n",
      "print 'outside 2*sig:', 3\n",
      "print 'ratio:', 3./30"
     ],
     "language": "python",
     "metadata": {},
     "outputs": [
      {
       "output_type": "stream",
       "stream": "stdout",
       "text": [
        "within 1*sig: 19\n",
        "outside 1*sig: 11\n",
        "ratio: 0.8\n",
        "\n",
        "within 2*sig: 27\n",
        "outside 2*sig: 3\n",
        "ratio: 0.1\n"
       ]
      }
     ],
     "prompt_number": 22
    },
    {
     "cell_type": "raw",
     "metadata": {},
     "source": [
      "7)"
     ]
    },
    {
     "cell_type": "code",
     "collapsed": false,
     "input": [
      "print 'Hcount_avg:',Hcount_avg\n",
      "print 'Hexp_std:',Hexp_std"
     ],
     "language": "python",
     "metadata": {},
     "outputs": [
      {
       "output_type": "stream",
       "stream": "stdout",
       "text": [
        "Hcount_avg: 1001.38183768\n",
        "Hexp_std: 28.2745792105\n"
       ]
      }
     ],
     "prompt_number": 23
    },
    {
     "cell_type": "raw",
     "metadata": {},
     "source": [
      "8)"
     ]
    },
    {
     "cell_type": "code",
     "collapsed": false,
     "input": [
      "#possion distribution\n",
      "def P_mu(v,m):\n",
      "    ans1 = exp(-m)*(m**v)\n",
      "    return ans1/math.factorial(v)\n",
      "print 'test P_4,4:',P_mu(4,4)"
     ],
     "language": "python",
     "metadata": {},
     "outputs": [
      {
       "output_type": "stream",
       "stream": "stdout",
       "text": [
        "test P_4,4: 0.195366814813\n"
       ]
      }
     ],
     "prompt_number": 157
    },
    {
     "cell_type": "code",
     "collapsed": false,
     "input": [
      "print Lcounts\n",
      "print\n",
      "tr_Lcounts=[]\n",
      "for i in Lcounts:\n",
      "    if i!=0 and i!=1:\n",
      "        tr_Lcounts.append(i-2)\n",
      "    if i==1:\n",
      "        tr_Lcounts.append(i-1)\n",
      "    if i==0:\n",
      "        tr_Lcounts.append(i)\n",
      "print tr_Lcounts\n",
      "tr_Lcount_avg = average(tr_Lcounts)\n",
      "tr_Lcount_sig = sqrt(tr_Lcount_avg)\n",
      "print\n",
      "print 'true Lcount average:',tr_Lcount_avg\n",
      "print 'true Lcount average:',tr_Lcount_sig"
     ],
     "language": "python",
     "metadata": {},
     "outputs": [
      {
       "output_type": "stream",
       "stream": "stdout",
       "text": [
        "[2, 6, 2, 1, 2, 3, 1, 3, 1, 0, 1, 1, 3, 5, 3, 4, 0, 2, 1, 1, 1, 2, 6, 1, 1, 2, 6, 2, 3, 3, 1, 1, 3, 2, 6, 2, 2, 5, 3, 2, 2, 3, 3, 3, 1, 2, 4, 5, 1, 2, 3, 3, 3, 3, 1, 1, 2, 4, 3, 0, 5, 1, 2, 1, 1, 2, 3, 1, 3, 1]\n",
        "\n",
        "[0, 4, 0, 0, 0, 1, 0, 1, 0, 0, 0, 0, 1, 3, 1, 2, 0, 0, 0, 0, 0, 0, 4, 0, 0, 0, 4, 0, 1, 1, 0, 0, 1, 0, 4, 0, 0, 3, 1, 0, 0, 1, 1, 1, 0, 0, 2, 3, 0, 0, 1, 1, 1, 1, 0, 0, 0, 2, 1, 0, 3, 0, 0, 0, 0, 0, 1, 0, 1, 0]\n",
        "\n",
        "true Lcount average: 0.742857142857\n",
        "true Lcount average: 0.861891607371\n"
       ]
      }
     ],
     "prompt_number": 171
    },
    {
     "cell_type": "code",
     "collapsed": false,
     "input": [
      "possion = []\n",
      "for i in arange(0,7,1):\n",
      "    possion.append(len(tr_Lcounts)*P_mu(i,tr_Lcount_avg))\n",
      "print possion\n",
      "print len(possion)"
     ],
     "language": "python",
     "metadata": {},
     "outputs": [
      {
       "output_type": "stream",
       "stream": "stdout",
       "text": [
        "[33.30268749189554, 24.739139279693834, 9.1888231610291395, 2.2753276398738818, 0.42256084740514949, 0.062780468757336505, 0.0077728199413845192]\n",
        "7\n"
       ]
      }
     ],
     "prompt_number": 159
    },
    {
     "cell_type": "code",
     "collapsed": false,
     "input": [
      "xlots2=linspace(0,5,1000)"
     ],
     "language": "python",
     "metadata": {},
     "outputs": [],
     "prompt_number": 160
    },
    {
     "cell_type": "code",
     "collapsed": false,
     "input": [
      "yert=[]\n",
      "for i in possion:\n",
      "    yert.append(sqrt(i))\n",
      "print yert"
     ],
     "language": "python",
     "metadata": {},
     "outputs": [
      {
       "output_type": "stream",
       "stream": "stdout",
       "text": [
        "[5.7708480738878878, 4.9738455222990021, 3.0313071703522789, 1.508418920550217, 0.65004680401117998, 0.2505603096209304, 0.088163597597787025]\n"
       ]
      }
     ],
     "prompt_number": 161
    },
    {
     "cell_type": "code",
     "collapsed": false,
     "input": [
      "figure(figsize=(10,6))\n",
      "plot([0.5,1.5,2.5,3.5,4.5,5.5,6.5],possion,'ro',label='Possion Fit')\n",
      "hist(tr_Lcounts,bins=7,range=(0,7),width=1,color='g',label='Counts vs Low Counts')\n",
      "xlabel('Low Counts')\n",
      "ylabel('Number of Counts')\n",
      "ylim(0,50)\n",
      "xlim(0,5)\n",
      "errorbar([0.5,1.5,2.5,3.5,4.5,5.5,6.5],possion,yert,ecolor='k',elinewidth=1.3,fmt='k.')\n",
      "legend()\n",
      "show()"
     ],
     "language": "python",
     "metadata": {},
     "outputs": [
      {
       "metadata": {},
       "output_type": "display_data",
       "png": "[encoded data removed]",
       "text": [
        "<matplotlib.figure.Figure at 0x10ecfc350>"
       ]
      }
     ],
     "prompt_number": 162
    },
    {
     "cell_type": "raw",
     "metadata": {},
     "source": [
      "9)"
     ]
    },
    {
     "cell_type": "code",
     "collapsed": false,
     "input": [
      "4.5*402"
     ],
     "language": "python",
     "metadata": {},
     "outputs": [
      {
       "metadata": {},
       "output_type": "pyout",
       "prompt_number": 163,
       "text": [
        "1809.0"
       ]
      }
     ],
     "prompt_number": 163
    },
    {
     "cell_type": "code",
     "collapsed": false,
     "input": [
      "insig=0\n",
      "for i in tr_Lcounts:\n",
      "    if i==0 or i==1:\n",
      "        insig+=1\n",
      "        \n",
      "print'inside sigma:', insig\n",
      "print'total counts:', len(Lcounts)\n",
      "print'ratio:', float(insig)/len(Lcounts)"
     ],
     "language": "python",
     "metadata": {},
     "outputs": [
      {
       "output_type": "stream",
       "stream": "stdout",
       "text": [
        "inside sigma: 59\n",
        "total counts: 70\n",
        "ratio: 0.842857142857\n"
       ]
      }
     ],
     "prompt_number": 164
    },
    {
     "cell_type": "code",
     "collapsed": false,
     "input": [
      "insig=0\n",
      "for i in Lcounts:\n",
      "    if i==0 or i==1 or i==2 or i==3 or i==4:\n",
      "        insig+=1\n",
      "        \n",
      "print'inside sigma:', insig\n",
      "print'total counts:', len(Lcounts)\n",
      "print'ratio:', float(insig)/len(Lcounts)"
     ],
     "language": "python",
     "metadata": {},
     "outputs": [
      {
       "output_type": "stream",
       "stream": "stdout",
       "text": [
        "inside sigma: 62\n",
        "total counts: 70\n",
        "ratio: 0.885714285714\n"
       ]
      }
     ],
     "prompt_number": 165
    },
    {
     "cell_type": "code",
     "collapsed": false,
     "input": [
      "print std(Lcounts)"
     ],
     "language": "python",
     "metadata": {},
     "outputs": [
      {
       "output_type": "stream",
       "stream": "stdout",
       "text": [
        "1.48358363706\n"
       ]
      }
     ],
     "prompt_number": 166
    },
    {
     "cell_type": "code",
     "collapsed": false,
     "input": [
      "guess2=[1,2]\n",
      "def gauss2(x,a,b):\n",
      "    return ((60)/(sqrt(2*pi)*b))*exp(-((x-a)**2)/(2*b**2))"
     ],
     "language": "python",
     "metadata": {},
     "outputs": [],
     "prompt_number": 167
    },
    {
     "cell_type": "code",
     "collapsed": false,
     "input": [],
     "language": "python",
     "metadata": {},
     "outputs": []
    }
   ],
   "metadata": {}
  }
 ]
}