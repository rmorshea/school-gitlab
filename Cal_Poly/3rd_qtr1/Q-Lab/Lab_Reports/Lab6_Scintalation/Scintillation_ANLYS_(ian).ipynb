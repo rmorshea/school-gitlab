{
 "metadata": {
  "name": "Scintillation_ANLYS_(ian).ipynb"
 },
 "nbformat": 3,
 "nbformat_minor": 0,
 "worksheets": [
  {
   "cells": [
    {
     "cell_type": "markdown",
     "metadata": {},
     "source": [
      "Data:\n",
      "==="
     ]
    },
    {
     "cell_type": "code",
     "collapsed": false,
     "input": [
      "N2=187.15\n",
      "N4=406.34\n",
      "N6=593.70\n",
      "N8=800.99\n",
      "v = array([2,4,6,8])\n",
      "N_v=array([N2,N4,N6,N8])"
     ],
     "language": "python",
     "metadata": {},
     "outputs": [],
     "prompt_number": 1
    },
    {
     "cell_type": "code",
     "collapsed": false,
     "input": [
      "def linear(x,m,b):\n",
      "    y=m*x+b\n",
      "    return y\n",
      "guess=array([])"
     ],
     "language": "python",
     "metadata": {},
     "outputs": [],
     "prompt_number": 2
    },
    {
     "cell_type": "code",
     "collapsed": false,
     "input": [
      "from scipy.optimize import curve_fit\n",
      "plsq, pcov = curve_fit(linear,v,N_v,guess)\n",
      "print plsq"
     ],
     "language": "python",
     "metadata": {},
     "outputs": [
      {
       "ename": "TypeError",
       "evalue": "linear() takes exactly 3 arguments (1 given)",
       "output_type": "pyerr",
       "traceback": [
        "\u001b[0;31m---------------------------------------------------------------------------\u001b[0m\n\u001b[0;31mTypeError\u001b[0m                                 Traceback (most recent call last)",
        "\u001b[0;32m<ipython-input-3-19d0fd3db3e5>\u001b[0m in \u001b[0;36m<module>\u001b[0;34m()\u001b[0m\n\u001b[1;32m      1\u001b[0m \u001b[0;32mfrom\u001b[0m \u001b[0mscipy\u001b[0m\u001b[0;34m.\u001b[0m\u001b[0moptimize\u001b[0m \u001b[0;32mimport\u001b[0m \u001b[0mcurve_fit\u001b[0m\u001b[0;34m\u001b[0m\u001b[0m\n\u001b[0;32m----> 2\u001b[0;31m \u001b[0mplsq\u001b[0m\u001b[0;34m,\u001b[0m \u001b[0mpcov\u001b[0m \u001b[0;34m=\u001b[0m \u001b[0mcurve_fit\u001b[0m\u001b[0;34m(\u001b[0m\u001b[0mlinear\u001b[0m\u001b[0;34m,\u001b[0m\u001b[0mv\u001b[0m\u001b[0;34m,\u001b[0m\u001b[0mN_v\u001b[0m\u001b[0;34m,\u001b[0m\u001b[0mguess\u001b[0m\u001b[0;34m)\u001b[0m\u001b[0;34m\u001b[0m\u001b[0m\n\u001b[0m\u001b[1;32m      3\u001b[0m \u001b[0;32mprint\u001b[0m \u001b[0mplsq\u001b[0m\u001b[0;34m\u001b[0m\u001b[0m\n",
        "\u001b[0;32m/Users/RyanMorshead/Library/Enthought/Canopy_64bit/User/lib/python2.7/site-packages/scipy/optimize/minpack.pyc\u001b[0m in \u001b[0;36mcurve_fit\u001b[0;34m(f, xdata, ydata, p0, sigma, **kw)\u001b[0m\n\u001b[1;32m    513\u001b[0m     \u001b[0;31m# Remove full_output from kw, otherwise we're passing it in twice.\u001b[0m\u001b[0;34m\u001b[0m\u001b[0;34m\u001b[0m\u001b[0m\n\u001b[1;32m    514\u001b[0m     \u001b[0mreturn_full\u001b[0m \u001b[0;34m=\u001b[0m \u001b[0mkw\u001b[0m\u001b[0;34m.\u001b[0m\u001b[0mpop\u001b[0m\u001b[0;34m(\u001b[0m\u001b[0;34m'full_output'\u001b[0m\u001b[0;34m,\u001b[0m \u001b[0mFalse\u001b[0m\u001b[0;34m)\u001b[0m\u001b[0;34m\u001b[0m\u001b[0m\n\u001b[0;32m--> 515\u001b[0;31m     \u001b[0mres\u001b[0m \u001b[0;34m=\u001b[0m \u001b[0mleastsq\u001b[0m\u001b[0;34m(\u001b[0m\u001b[0mfunc\u001b[0m\u001b[0;34m,\u001b[0m \u001b[0mp0\u001b[0m\u001b[0;34m,\u001b[0m \u001b[0margs\u001b[0m\u001b[0;34m=\u001b[0m\u001b[0margs\u001b[0m\u001b[0;34m,\u001b[0m \u001b[0mfull_output\u001b[0m\u001b[0;34m=\u001b[0m\u001b[0;36m1\u001b[0m\u001b[0;34m,\u001b[0m \u001b[0;34m**\u001b[0m\u001b[0mkw\u001b[0m\u001b[0;34m)\u001b[0m\u001b[0;34m\u001b[0m\u001b[0m\n\u001b[0m\u001b[1;32m    516\u001b[0m     \u001b[0;34m(\u001b[0m\u001b[0mpopt\u001b[0m\u001b[0;34m,\u001b[0m \u001b[0mpcov\u001b[0m\u001b[0;34m,\u001b[0m \u001b[0minfodict\u001b[0m\u001b[0;34m,\u001b[0m \u001b[0merrmsg\u001b[0m\u001b[0;34m,\u001b[0m \u001b[0mier\u001b[0m\u001b[0;34m)\u001b[0m \u001b[0;34m=\u001b[0m \u001b[0mres\u001b[0m\u001b[0;34m\u001b[0m\u001b[0m\n\u001b[1;32m    517\u001b[0m \u001b[0;34m\u001b[0m\u001b[0m\n",
        "\u001b[0;32m/Users/RyanMorshead/Library/Enthought/Canopy_64bit/User/lib/python2.7/site-packages/scipy/optimize/minpack.pyc\u001b[0m in \u001b[0;36mleastsq\u001b[0;34m(func, x0, args, Dfun, full_output, col_deriv, ftol, xtol, gtol, maxfev, epsfcn, factor, diag)\u001b[0m\n\u001b[1;32m    352\u001b[0m     \u001b[0;32mif\u001b[0m \u001b[0mtype\u001b[0m\u001b[0;34m(\u001b[0m\u001b[0margs\u001b[0m\u001b[0;34m)\u001b[0m \u001b[0;34m!=\u001b[0m \u001b[0mtype\u001b[0m\u001b[0;34m(\u001b[0m\u001b[0;34m(\u001b[0m\u001b[0;34m)\u001b[0m\u001b[0;34m)\u001b[0m\u001b[0;34m:\u001b[0m\u001b[0;34m\u001b[0m\u001b[0m\n\u001b[1;32m    353\u001b[0m         \u001b[0margs\u001b[0m \u001b[0;34m=\u001b[0m \u001b[0;34m(\u001b[0m\u001b[0margs\u001b[0m\u001b[0;34m,\u001b[0m\u001b[0;34m)\u001b[0m\u001b[0;34m\u001b[0m\u001b[0m\n\u001b[0;32m--> 354\u001b[0;31m     \u001b[0mshape\u001b[0m\u001b[0;34m,\u001b[0m \u001b[0mdtype\u001b[0m \u001b[0;34m=\u001b[0m \u001b[0m_check_func\u001b[0m\u001b[0;34m(\u001b[0m\u001b[0;34m'leastsq'\u001b[0m\u001b[0;34m,\u001b[0m \u001b[0;34m'func'\u001b[0m\u001b[0;34m,\u001b[0m \u001b[0mfunc\u001b[0m\u001b[0;34m,\u001b[0m \u001b[0mx0\u001b[0m\u001b[0;34m,\u001b[0m \u001b[0margs\u001b[0m\u001b[0;34m,\u001b[0m \u001b[0mn\u001b[0m\u001b[0;34m)\u001b[0m\u001b[0;34m\u001b[0m\u001b[0m\n\u001b[0m\u001b[1;32m    355\u001b[0m     \u001b[0mm\u001b[0m \u001b[0;34m=\u001b[0m \u001b[0mshape\u001b[0m\u001b[0;34m[\u001b[0m\u001b[0;36m0\u001b[0m\u001b[0;34m]\u001b[0m\u001b[0;34m\u001b[0m\u001b[0m\n\u001b[1;32m    356\u001b[0m     \u001b[0;32mif\u001b[0m \u001b[0mn\u001b[0m \u001b[0;34m>\u001b[0m \u001b[0mm\u001b[0m\u001b[0;34m:\u001b[0m\u001b[0;34m\u001b[0m\u001b[0m\n",
        "\u001b[0;32m/Users/RyanMorshead/Library/Enthought/Canopy_64bit/User/lib/python2.7/site-packages/scipy/optimize/minpack.pyc\u001b[0m in \u001b[0;36m_check_func\u001b[0;34m(checker, argname, thefunc, x0, args, numinputs, output_shape)\u001b[0m\n\u001b[1;32m     15\u001b[0m \u001b[0;34m\u001b[0m\u001b[0m\n\u001b[1;32m     16\u001b[0m \u001b[0;32mdef\u001b[0m \u001b[0m_check_func\u001b[0m\u001b[0;34m(\u001b[0m\u001b[0mchecker\u001b[0m\u001b[0;34m,\u001b[0m \u001b[0margname\u001b[0m\u001b[0;34m,\u001b[0m \u001b[0mthefunc\u001b[0m\u001b[0;34m,\u001b[0m \u001b[0mx0\u001b[0m\u001b[0;34m,\u001b[0m \u001b[0margs\u001b[0m\u001b[0;34m,\u001b[0m \u001b[0mnuminputs\u001b[0m\u001b[0;34m,\u001b[0m \u001b[0moutput_shape\u001b[0m\u001b[0;34m=\u001b[0m\u001b[0mNone\u001b[0m\u001b[0;34m)\u001b[0m\u001b[0;34m:\u001b[0m\u001b[0;34m\u001b[0m\u001b[0m\n\u001b[0;32m---> 17\u001b[0;31m     \u001b[0mres\u001b[0m \u001b[0;34m=\u001b[0m \u001b[0matleast_1d\u001b[0m\u001b[0;34m(\u001b[0m\u001b[0mthefunc\u001b[0m\u001b[0;34m(\u001b[0m\u001b[0;34m*\u001b[0m\u001b[0;34m(\u001b[0m\u001b[0;34m(\u001b[0m\u001b[0mx0\u001b[0m\u001b[0;34m[\u001b[0m\u001b[0;34m:\u001b[0m\u001b[0mnuminputs\u001b[0m\u001b[0;34m]\u001b[0m\u001b[0;34m,\u001b[0m\u001b[0;34m)\u001b[0m \u001b[0;34m+\u001b[0m \u001b[0margs\u001b[0m\u001b[0;34m)\u001b[0m\u001b[0;34m)\u001b[0m\u001b[0;34m)\u001b[0m\u001b[0;34m\u001b[0m\u001b[0m\n\u001b[0m\u001b[1;32m     18\u001b[0m     \u001b[0;32mif\u001b[0m \u001b[0;34m(\u001b[0m\u001b[0moutput_shape\u001b[0m \u001b[0;32mis\u001b[0m \u001b[0;32mnot\u001b[0m \u001b[0mNone\u001b[0m\u001b[0;34m)\u001b[0m \u001b[0;32mand\u001b[0m \u001b[0;34m(\u001b[0m\u001b[0mshape\u001b[0m\u001b[0;34m(\u001b[0m\u001b[0mres\u001b[0m\u001b[0;34m)\u001b[0m \u001b[0;34m!=\u001b[0m \u001b[0moutput_shape\u001b[0m\u001b[0;34m)\u001b[0m\u001b[0;34m:\u001b[0m\u001b[0;34m\u001b[0m\u001b[0m\n\u001b[1;32m     19\u001b[0m         \u001b[0;32mif\u001b[0m \u001b[0;34m(\u001b[0m\u001b[0moutput_shape\u001b[0m\u001b[0;34m[\u001b[0m\u001b[0;36m0\u001b[0m\u001b[0;34m]\u001b[0m \u001b[0;34m!=\u001b[0m \u001b[0;36m1\u001b[0m\u001b[0;34m)\u001b[0m\u001b[0;34m:\u001b[0m\u001b[0;34m\u001b[0m\u001b[0m\n",
        "\u001b[0;32m/Users/RyanMorshead/Library/Enthought/Canopy_64bit/User/lib/python2.7/site-packages/scipy/optimize/minpack.pyc\u001b[0m in \u001b[0;36m_general_function\u001b[0;34m(params, xdata, ydata, function)\u001b[0m\n\u001b[1;32m    425\u001b[0m \u001b[0;34m\u001b[0m\u001b[0m\n\u001b[1;32m    426\u001b[0m \u001b[0;32mdef\u001b[0m \u001b[0m_general_function\u001b[0m\u001b[0;34m(\u001b[0m\u001b[0mparams\u001b[0m\u001b[0;34m,\u001b[0m \u001b[0mxdata\u001b[0m\u001b[0;34m,\u001b[0m \u001b[0mydata\u001b[0m\u001b[0;34m,\u001b[0m \u001b[0mfunction\u001b[0m\u001b[0;34m)\u001b[0m\u001b[0;34m:\u001b[0m\u001b[0;34m\u001b[0m\u001b[0m\n\u001b[0;32m--> 427\u001b[0;31m     \u001b[0;32mreturn\u001b[0m \u001b[0mfunction\u001b[0m\u001b[0;34m(\u001b[0m\u001b[0mxdata\u001b[0m\u001b[0;34m,\u001b[0m \u001b[0;34m*\u001b[0m\u001b[0mparams\u001b[0m\u001b[0;34m)\u001b[0m \u001b[0;34m-\u001b[0m \u001b[0mydata\u001b[0m\u001b[0;34m\u001b[0m\u001b[0m\n\u001b[0m\u001b[1;32m    428\u001b[0m \u001b[0;34m\u001b[0m\u001b[0m\n\u001b[1;32m    429\u001b[0m \u001b[0;32mdef\u001b[0m \u001b[0m_weighted_general_function\u001b[0m\u001b[0;34m(\u001b[0m\u001b[0mparams\u001b[0m\u001b[0;34m,\u001b[0m \u001b[0mxdata\u001b[0m\u001b[0;34m,\u001b[0m \u001b[0mydata\u001b[0m\u001b[0;34m,\u001b[0m \u001b[0mfunction\u001b[0m\u001b[0;34m,\u001b[0m \u001b[0mweights\u001b[0m\u001b[0;34m)\u001b[0m\u001b[0;34m:\u001b[0m\u001b[0;34m\u001b[0m\u001b[0m\n",
        "\u001b[0;31mTypeError\u001b[0m: linear() takes exactly 3 arguments (1 given)"
       ]
      }
     ],
     "prompt_number": 3
    },
    {
     "cell_type": "code",
     "collapsed": false,
     "input": [
      "xlots=linspace(0,10,100)\n",
      "ylots=[]\n",
      "for i in xlots: ylots.append(linear(i,plsq[0],plsq[1]))"
     ],
     "language": "python",
     "metadata": {},
     "outputs": []
    },
    {
     "cell_type": "code",
     "collapsed": false,
     "input": [
      "figure(figsize(10,6))\n",
      "scatter(v,N_v)\n",
      "plot(xlots,ylots)\n",
      "xlim(0,10)\n",
      "ylim(0,1000)\n",
      "xlabel('Channel')\n",
      "ylabel('Counts')\n",
      "show()"
     ],
     "language": "python",
     "metadata": {},
     "outputs": []
    },
    {
     "cell_type": "code",
     "collapsed": false,
     "input": [
      "def centr(xdat,ydat,xrange_min,xrange_max):\n",
      "    \"find centroid of area where xrange, yrange start from a value of 1 therefore true value used for calcs is range-1\"\n",
      "    xy = 0\n",
      "    for i in range(xrange_min,xrange_max):\n",
      "        xy += xdat[i]*ydat[i]\n",
      "    centr = xy/(sum(ydat[xrange_min:xrange_max]))\n",
      "    return centr"
     ],
     "language": "python",
     "metadata": {},
     "outputs": [],
     "prompt_number": 137
    },
    {
     "cell_type": "raw",
     "metadata": {},
     "source": [
      "Cs137"
     ]
    },
    {
     "cell_type": "code",
     "collapsed": false,
     "input": [
      "centr_chans = []\n",
      "centr_eners = []"
     ],
     "language": "python",
     "metadata": {},
     "outputs": [],
     "prompt_number": 138
    },
    {
     "cell_type": "code",
     "collapsed": false,
     "input": [
      "dat_Cs137=loadtxt('Cs137Data.csv',unpack=True, delimiter=',',skiprows=13,usecols=[0,1])\n",
      "#print z\n",
      "#print shape(z)[1]\n",
      "figure(figsize(10,6))\n",
      "plot(range(1024),dat_Cs137[1])\n",
      "xlim(0,1000)\n",
      "ylim(0,300)\n",
      "xlabel('Channel')\n",
      "ylabel('Counts')\n",
      "show()\n",
      "#FWHM=(408-437)"
     ],
     "language": "python",
     "metadata": {},
     "outputs": [
      {
       "metadata": {},
       "output_type": "display_data",
       "png": "[encoded data removed]",
       "text": [
        "<matplotlib.figure.Figure at 0x10d150a90>"
       ]
      }
     ],
     "prompt_number": 4
    },
    {
     "cell_type": "code",
     "collapsed": false,
     "input": [
      "Cs137_centr_c = centr(range(1024),dat_Cs137[1],400,441)\n",
      "Cs137_centr_e = dat_Cs137[1][421]\n",
      "\n",
      "print 'Cs137 centrs:'\n",
      "print 'c:', Cs137_centr_c\n",
      "print 'e:', Cs137_centr_e"
     ],
     "language": "python",
     "metadata": {},
     "outputs": [
      {
       "output_type": "stream",
       "stream": "stdout",
       "text": [
        "Cs137 centrs:\n",
        "c: 420.915503443\n",
        "e: 194.0\n"
       ]
      }
     ],
     "prompt_number": 140
    },
    {
     "cell_type": "code",
     "collapsed": false,
     "input": [
      "centr_chans.append(421)\n",
      "centr_eners.append(194)"
     ],
     "language": "python",
     "metadata": {},
     "outputs": [],
     "prompt_number": 141
    },
    {
     "cell_type": "code",
     "collapsed": false,
     "input": [
      "print centr_chans\n",
      "print centr_eners"
     ],
     "language": "python",
     "metadata": {},
     "outputs": [
      {
       "output_type": "stream",
       "stream": "stdout",
       "text": [
        "[421]\n",
        "[194]\n"
       ]
      }
     ],
     "prompt_number": 142
    },
    {
     "cell_type": "raw",
     "metadata": {},
     "source": [
      "Na22"
     ]
    },
    {
     "cell_type": "code",
     "collapsed": false,
     "input": [
      "dat_Na22=loadtxt('Na22data.csv',unpack=True, delimiter=',',skiprows=13,usecols=[0,1])\n",
      "#print y\n",
      "#print shape(y)[1]\n",
      "figure(figsize(10,6))\n",
      "plot(range(1024),dat_Na22[1])\n",
      "ylim(0,2000)\n",
      "xlim(0,900)\n",
      "xlabel('Channel')\n",
      "ylabel('Counts')\n",
      "show()"
     ],
     "language": "python",
     "metadata": {},
     "outputs": [
      {
       "metadata": {},
       "output_type": "display_data",
       "png": "[encoded data removed]",
       "text": [
        "<matplotlib.figure.Figure at 0x10e7c0d90>"
       ]
      }
     ],
     "prompt_number": 143
    },
    {
     "cell_type": "code",
     "collapsed": false,
     "input": [
      "Na22_centr1_c = centr(range(1024),dat_Na22[1],300,359)\n",
      "Na22_centr2_c = centr(range(1024),dat_Na22[1],756,837)\n",
      "Na22_centr1_e = dat_Na22[1][329]\n",
      "Na22_centr2_e = dat_Na22[1][795]\n",
      "\n",
      "print 'Na22 centrs:'\n",
      "\n",
      "print 'c1:', Na22_centr1_c\n",
      "print 'e1:', Na22_centr1_e\n",
      "print\n",
      "print 'c2:', Na22_centr2_c\n",
      "print 'e2:', Na22_centr2_e"
     ],
     "language": "python",
     "metadata": {},
     "outputs": [
      {
       "output_type": "stream",
       "stream": "stdout",
       "text": [
        "Na22 centrs:\n",
        "c1: 328.56038835\n",
        "e1: 601.0\n",
        "\n",
        "c2: 794.590118939\n",
        "e2: 52.0\n"
       ]
      }
     ],
     "prompt_number": 144
    },
    {
     "cell_type": "code",
     "collapsed": false,
     "input": [
      "centr_chans.append(329)\n",
      "centr_eners.append(601)\n",
      "centr_chans.append(795)\n",
      "centr_eners.append(52)"
     ],
     "language": "python",
     "metadata": {},
     "outputs": [],
     "prompt_number": 145
    },
    {
     "cell_type": "code",
     "collapsed": false,
     "input": [
      "print centr_chans\n",
      "print centr_eners"
     ],
     "language": "python",
     "metadata": {},
     "outputs": [
      {
       "output_type": "stream",
       "stream": "stdout",
       "text": [
        "[421, 329, 795]\n",
        "[194, 601, 52]\n"
       ]
      }
     ],
     "prompt_number": 146
    },
    {
     "cell_type": "raw",
     "metadata": {},
     "source": [
      "Co57:"
     ]
    },
    {
     "cell_type": "code",
     "collapsed": false,
     "input": [
      "dat_Co57=loadtxt('Co57Data.csv',unpack=True, delimiter=',',skiprows=13,usecols=[0,1])\n",
      "#print x\n",
      "#print shape(x)[1]\n",
      "figure(figsize(10,6))\n",
      "plot(range(1024),dat_Co57[1])\n",
      "ylim(0,3000)\n",
      "xlim(0,200)\n",
      "xlabel('Channel')\n",
      "ylabel('Counts')\n",
      "show()"
     ],
     "language": "python",
     "metadata": {},
     "outputs": [
      {
       "metadata": {},
       "output_type": "display_data",
       "png": "[encoded data removed]",
       "text": [
        "<matplotlib.figure.Figure at 0x10e7e1210>"
       ]
      }
     ],
     "prompt_number": 147
    },
    {
     "cell_type": "code",
     "collapsed": false,
     "input": [
      "Co57_centr1_c = centr(range(1024),dat_Co57[1],51,75)\n",
      "Co57_centr2_c = centr(range(1024),dat_Co57[1],75,95)\n",
      "Co57_centr1_e = dat_Co57[1][int(Co57_centr1_c)]\n",
      "Co57_centr2_e = dat_Co57[1][int(Co57_centr2_c)]\n",
      "\n",
      "print 'Co57 centrs:'\n",
      "print 'c1:', Co57_centr1_c\n",
      "print 'e1:', Co57_centr1_e\n",
      "print\n",
      "print 'c2:', Co57_centr2_c\n",
      "print 'e2:', Co57_centr2_e"
     ],
     "language": "python",
     "metadata": {},
     "outputs": [
      {
       "output_type": "stream",
       "stream": "stdout",
       "text": [
        "Co57 centrs:\n",
        "c1: 62.0232586608\n",
        "e1: 494.0\n",
        "\n",
        "c2: 83.9547702035\n",
        "e2: 2671.0\n"
       ]
      }
     ],
     "prompt_number": 148
    },
    {
     "cell_type": "code",
     "collapsed": false,
     "input": [
      "centr_chans.append(62)\n",
      "centr_eners.append(Co57_centr1_e)\n",
      "centr_chans.append(84)\n",
      "centr_eners.append(Co57_centr2_e)"
     ],
     "language": "python",
     "metadata": {},
     "outputs": [],
     "prompt_number": 149
    },
    {
     "cell_type": "code",
     "collapsed": false,
     "input": [
      "print centr_chans\n",
      "print centr_eners"
     ],
     "language": "python",
     "metadata": {},
     "outputs": [
      {
       "output_type": "stream",
       "stream": "stdout",
       "text": [
        "[421, 329, 795, 62, 84]\n",
        "[194, 601, 52, 494.0, 2671.0]\n"
       ]
      }
     ],
     "prompt_number": 150
    },
    {
     "cell_type": "raw",
     "metadata": {},
     "source": [
      "Co60:"
     ]
    },
    {
     "cell_type": "code",
     "collapsed": false,
     "input": [
      "dat_Co60=loadtxt('Co60Data.csv',unpack=True, delimiter=',',skiprows=13,usecols=[0,1])\n",
      "#print a\n",
      "#print shape(a)[1]\n",
      "figure(figsize(10,6))\n",
      "plot(range(1024),dat_Co60[1])\n",
      "ylim(0,1000)\n",
      "xlim(0,900)\n",
      "xlabel('Channel')\n",
      "ylabel('Counts')\n",
      "show()\n",
      "#FWHFCo60=(807-857)"
     ],
     "language": "python",
     "metadata": {},
     "outputs": [
      {
       "metadata": {},
       "output_type": "display_data",
       "png": "[encoded data removed]",
       "text": [
        "<matplotlib.figure.Figure at 0x10e7eea50>"
       ]
      }
     ],
     "prompt_number": 151
    },
    {
     "cell_type": "code",
     "collapsed": false,
     "input": [
      "Co60_centr1_c = centr(range(1024),dat_Co60[1],707,761)\n",
      "Co60_centr2_c = centr(range(1024),dat_Co60[1],789,872)\n",
      "Co60_centr1_e = dat_Co60[1][733]\n",
      "Co60_centr2_e = dat_Co60[1][830]\n",
      "\n",
      "print 'Co60 centrs:'\n",
      "print 'c1:', Co60_centr1_c\n",
      "print 'e1:', Co60_centr1_e\n",
      "print\n",
      "print 'c2:', Co60_centr2_c\n",
      "print 'e2:', Co60_centr2_e"
     ],
     "language": "python",
     "metadata": {},
     "outputs": [
      {
       "output_type": "stream",
       "stream": "stdout",
       "text": [
        "Co60 centrs:\n",
        "c1: 732.580865068\n",
        "e1: 92.0\n",
        "\n",
        "c2: 829.984960552\n",
        "e2: 73.0\n"
       ]
      }
     ],
     "prompt_number": 152
    },
    {
     "cell_type": "code",
     "collapsed": false,
     "input": [
      "centr_chans.append(733)\n",
      "centr_eners.append(98)\n",
      "centr_chans.append(830)\n",
      "centr_eners.append(75)"
     ],
     "language": "python",
     "metadata": {},
     "outputs": [],
     "prompt_number": 153
    },
    {
     "cell_type": "code",
     "collapsed": false,
     "input": [
      "print centr_chans\n",
      "print centr_eners"
     ],
     "language": "python",
     "metadata": {},
     "outputs": [
      {
       "output_type": "stream",
       "stream": "stdout",
       "text": [
        "[421, 329, 795, 62, 84, 733, 830]\n",
        "[194, 601, 52, 494.0, 2671.0, 98, 75]\n"
       ]
      }
     ],
     "prompt_number": 154
    },
    {
     "cell_type": "raw",
     "metadata": {},
     "source": [
      "Unknown:"
     ]
    },
    {
     "cell_type": "code",
     "collapsed": false,
     "input": [
      "dat_Unknow=loadtxt('UnknownData.csv',unpack=True, delimiter=',',skiprows=20,usecols=[0,1])\n",
      "#print q\n",
      "#print shape(q)[1]\n",
      "figure(figsize(10,6))\n",
      "plot(range(1024),dat_Unknow[1])\n",
      "ylim(0,500)\n",
      "xlim(0,900)\n",
      "xlabel('Channel')\n",
      "ylabel('Counts')\n",
      "show()"
     ],
     "language": "python",
     "metadata": {},
     "outputs": [
      {
       "metadata": {},
       "output_type": "display_data",
       "png": "[encoded data removed]",
       "text": [
        "<matplotlib.figure.Figure at 0x10e7ebc90>"
       ]
      }
     ],
     "prompt_number": 155
    },
    {
     "cell_type": "code",
     "collapsed": false,
     "input": [
      "Unknow_centr_c = centr(range(1024),dat_Unknow[1],500,555)\n",
      "Unknow_centr_e = dat_Unknow[1][int(Unknow_centr_c)]\n",
      "\n",
      "print 'Unknow centrs:'\n",
      "print 'c:', Unknow_centr_c\n",
      "print 'e:', Unknow_centr_e"
     ],
     "language": "python",
     "metadata": {},
     "outputs": [
      {
       "output_type": "stream",
       "stream": "stdout",
       "text": [
        "Unknow centrs:\n",
        "c: 526.70574359\n",
        "e: 253.0\n"
       ]
      }
     ],
     "prompt_number": 156
    },
    {
     "cell_type": "markdown",
     "metadata": {},
     "source": [
      "Analysis:\n",
      "==="
     ]
    },
    {
     "cell_type": "code",
     "collapsed": false,
     "input": [
      "def polyfit(x,a,b,c):\n",
      "    \"a second-order polynomial fit\"\n",
      "    E = a*x**2.+b*x+c\n",
      "    return E\n",
      "\n",
      "print polyfit(2,1,2,1)"
     ],
     "language": "python",
     "metadata": {},
     "outputs": [
      {
       "output_type": "stream",
       "stream": "stdout",
       "text": [
        "9.0\n"
       ]
      }
     ],
     "prompt_number": 157
    },
    {
     "cell_type": "code",
     "collapsed": false,
     "input": [
      "print centr_chans\n",
      "centr_chanss=array([62,84,329,421,733,795,830])\n",
      "#print centr_eners\n",
      "\n",
      "#centr_chans_fit, centr_eners_fit = (list(x) for x in zip(*sorted(zip(centr_chans, centr_eners))))\n",
      "\n",
      "#centr_chans_fit = array(centr_chans_fit)\n",
      "#centr_eners_fit = array(centr_eners_fit)\n",
      "\n",
      "#print\n",
      "#print centr_chans\n",
      "#print centr_eners_fit\n",
      "Eknown=array([122.1,136.0,511.0,661.7,1173.2,1275,1332.5])\n",
      "#plot(centr_chanss,Eknown)"
     ],
     "language": "python",
     "metadata": {},
     "outputs": [
      {
       "output_type": "stream",
       "stream": "stdout",
       "text": [
        "[421, 329, 795, 62, 84, 733, 830]\n"
       ]
      }
     ],
     "prompt_number": 158
    },
    {
     "cell_type": "code",
     "collapsed": false,
     "input": [
      "guess=[1,2,3]\n",
      "from scipy.optimize import curve_fit\n",
      "plsq, pcov = curve_fit(polyfit,centr_chanss,Eknown,guess)\n",
      "alpha=plsq[0]\n",
      "beta=plsq[1]\n",
      "gamma=plsq[2]\n",
      "print plsq"
     ],
     "language": "python",
     "metadata": {},
     "outputs": [
      {
       "output_type": "stream",
       "stream": "stdout",
       "text": [
        "[  1.72945131e-04   1.43742329e+00   2.30711056e+01]\n"
       ]
      }
     ],
     "prompt_number": 159
    },
    {
     "cell_type": "code",
     "collapsed": false,
     "input": [
      "xlots = linspace(0,1000,2000)\n",
      "ylots = polyfit(xlots,plsq[0],plsq[1],plsq[2])\n",
      "figure(figsize(10,6))\n",
      "scatter(centr_chanss,Eknown)\n",
      "plot(xlots,ylots)\n",
      "xlim(0,900)\n",
      "ylim(0,1500)\n",
      "xlabel('Channel')\n",
      "ylabel('Energy (keV)')"
     ],
     "language": "python",
     "metadata": {},
     "outputs": [
      {
       "metadata": {},
       "output_type": "pyout",
       "prompt_number": 160,
       "text": [
        "<matplotlib.text.Text at 0x10e730c10>"
       ]
      },
      {
       "metadata": {},
       "output_type": "display_data",
       "png": "[encoded data removed]",
       "text": [
        "<matplotlib.figure.Figure at 0x10e7c5f90>"
       ]
      }
     ],
     "prompt_number": 160
    },
    {
     "cell_type": "code",
     "collapsed": false,
     "input": [
      "def calibrator(x):\n",
      "    \"a second-order polynomial fit\"\n",
      "    E = alpha*x**2.+beta*x+gamma\n",
      "    return E\n",
      "unc=[]\n",
      "for i in range(shape(centr_chanss)[0]):\n",
      "    unc.append(abs(calibrator(centr_chanss[i])-Eknown[i]))\n",
      "print unc"
     ],
     "language": "python",
     "metadata": {},
     "outputs": [
      {
       "output_type": "stream",
       "stream": "stdout",
       "text": [
        "[9.2438495913148131, 9.0349624717214851, 3.7031207140169045, 2.8207229109575565, 3.576109114058454, 0.12826454814444332, 2.7743338824943748]\n"
       ]
      }
     ],
     "prompt_number": 161
    },
    {
     "cell_type": "raw",
     "metadata": {},
     "source": [
      "Energies"
     ]
    },
    {
     "cell_type": "code",
     "collapsed": false,
     "input": [
      "print 'Energy Cs137 =', calibrator(421), '+/-', unc[3], '(keV)'\n",
      "\n",
      "print 'Energy Co57_1 =', calibrator(62), '+/-', unc[0], '(keV)'\n",
      "\n",
      "print 'Energy Co57_2 =', calibrator(84), '+/-', unc[1], '(keV)'\n",
      "\n",
      "print 'Energy Na22_1 =', calibrator(329), '+/-', unc[2], '(keV)'\n",
      "\n",
      "print 'Energy Na_22_2 =', calibrator(795), '+/-', unc[5], '(keV)'\n",
      "\n",
      "print 'Energy Co60_1 =', calibrator(733), '+/-', unc[4], '(keV)'\n",
      "\n",
      "print 'Energy Co60_2 =', calibrator(830), '+/-', unc[6], '(keV)'"
     ],
     "language": "python",
     "metadata": {},
     "outputs": [
      {
       "output_type": "stream",
       "stream": "stdout",
       "text": [
        "Energy Cs137 = 658.879277089 +/- 2.82072291096 (keV)\n",
        "Energy Co57_1 = 112.856150409 +/- 9.24384959131 (keV)\n",
        "Energy Co57_2 = 145.034962472 +/- 9.03496247172 (keV)\n",
        "Energy Na22_1 = 514.703120714 +/- 3.70312071402 (keV)\n",
        "Energy Na_22_2 = 1275.12826455 +/- 0.128264548144 (keV)\n",
        "Energy Co60_1 = 1169.62389089 +/- 3.57610911406 (keV)\n",
        "Energy Co60_2 = 1335.27433388 +/- 2.77433388249 (keV)\n"
       ]
      }
     ],
     "prompt_number": 162
    },
    {
     "cell_type": "code",
     "collapsed": false,
     "input": [
      "#FWHM=(408-437)\n",
      "FWHF_Cs137=calibrator(437)-calibrator(408)\n",
      "print \"FWHF for Cs137 =\", FWHF_Cs137, '(keV)'\n",
      "R1=FWHF_Cs137/calibrator(421)\n",
      "print 'Resolution for Cs137 =', R1\n",
      "#.002\n",
      "\n",
      "#FWHFCo60=(807-857)\n",
      "FWHF_Co60_2=calibrator(857)-calibrator(807)\n",
      "print \"FWHF for Co60 =\", FWHF_Co60_2, '(keV)'\n",
      "R2=FWHF_Co60_2/calibrator(830)\n",
      "print 'Resolution for Co60 =', R2\n",
      "#.001 error"
     ],
     "language": "python",
     "metadata": {},
     "outputs": [
      {
       "output_type": "stream",
       "stream": "stdout",
       "text": [
        "FWHF for Cs137 = 45.9232957358 (keV)\n",
        "Resolution for Cs137 = 0.0696991047263\n",
        "FWHF for Co60 = 86.2601991967 (keV)\n",
        "Resolution for Co60 = 0.0646011063104\n"
       ]
      }
     ],
     "prompt_number": 175
    },
    {
     "cell_type": "code",
     "collapsed": false,
     "input": [
      "UnknownE=calibrator(527)\n",
      "print UnknownE, '(keV)'"
     ],
     "language": "python",
     "metadata": {},
     "outputs": [
      {
       "output_type": "stream",
       "stream": "stdout",
       "text": [
        "828.62505575 (keV)\n"
       ]
      }
     ],
     "prompt_number": 164
    },
    {
     "cell_type": "code",
     "collapsed": false,
     "input": [
      "def E_pri(E_gam,theta):\n",
      "    mcc = 511 #keV\n",
      "    E_pri = E_gam/(1+(E_gam/mcc)*(1-cos(theta)))\n",
      "    return E_pri"
     ],
     "language": "python",
     "metadata": {},
     "outputs": [],
     "prompt_number": 165
    },
    {
     "cell_type": "code",
     "collapsed": false,
     "input": [
      "#single compton without photoelectric\n",
      "E_gam = calibrator(421)\n",
      "\n",
      "E_compt_theo = E_gam-E_pri(E_gam,pi)\n",
      "E_compt_exp = calibrator(300)\n",
      "\n",
      "print 'E_compt_theo:', E_compt_theo\n",
      "print 'E_compt_exp:', E_compt_exp\n",
      "print\n",
      "print 'percent error'\n",
      "print (E_compt_theo-E_compt_exp)/E_compt_theo"
     ],
     "language": "python",
     "metadata": {},
     "outputs": [
      {
       "output_type": "stream",
       "stream": "stdout",
       "text": [
        "E_compt_theo: 474.772244576\n",
        "E_compt_exp: 469.863153277\n",
        "\n",
        "percent error\n",
        "0.010339886873\n"
       ]
      }
     ],
     "prompt_number": 176
    },
    {
     "cell_type": "code",
     "collapsed": false,
     "input": [
      "#mystery peak\n",
      "E_myst = calibrator(135)\n",
      "mcc = 511 #keV\n",
      "\n",
      "theta_myst = arccos(1-(E_gam-E_myst)/((E_myst*E_gam)/mcc))\n",
      "\n",
      "print 'E_gam:', E_gam\n",
      "print 'E_myst:', E_myst\n",
      "print 'theta_myst (deg):', theta_myst*180/pi\n"
     ],
     "language": "python",
     "metadata": {},
     "outputs": [
      {
       "output_type": "stream",
       "stream": "stdout",
       "text": [
        "E_gam: 658.879277089\n",
        "E_myst: 220.275174248\n",
        "theta_myst (deg): 122.974537943\n"
       ]
      }
     ],
     "prompt_number": 167
    },
    {
     "cell_type": "code",
     "collapsed": false,
     "input": [
      "print E_pri(E_gam,theta_myst)\n",
      "print E_pri(661.7,theta_myst)"
     ],
     "language": "python",
     "metadata": {},
     "outputs": [
      {
       "output_type": "stream",
       "stream": "stdout",
       "text": [
        "220.275174248\n",
        "220.589546296\n"
       ]
      }
     ],
     "prompt_number": 168
    },
    {
     "cell_type": "code",
     "collapsed": false,
     "input": [
      "# 834"
     ],
     "language": "python",
     "metadata": {},
     "outputs": [],
     "prompt_number": 170
    },
    {
     "cell_type": "code",
     "collapsed": false,
     "input": [],
     "language": "python",
     "metadata": {},
     "outputs": []
    }
   ],
   "metadata": {}
  }
 ]
}