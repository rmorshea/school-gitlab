{
 "metadata": {
  "name": ""
 },
 "nbformat": 3,
 "nbformat_minor": 0,
 "worksheets": [
  {
   "cells": [
    {
     "cell_type": "code",
     "collapsed": false,
     "input": [
      "from ipythonblocks import BlockGrid\n",
      "import random as rand\n",
      "import numpy as np\n",
      "\n",
      "from images2gif import writeGif\n",
      "from PIL import Image\n",
      "import os\n",
      "import re\n",
      "\n",
      "import matplotlib.pyplot as plt\n",
      "%matplotlib inline\n",
      "\n",
      "from __future__ import print_function"
     ],
     "language": "python",
     "metadata": {},
     "outputs": [],
     "prompt_number": 9
    },
    {
     "cell_type": "markdown",
     "metadata": {},
     "source": [
      "Ising Model 1 (interaction between 4 closest neighbors)\n",
      "==="
     ]
    },
    {
     "cell_type": "code",
     "collapsed": false,
     "input": [
      "def grid_init(n,m,dist,size):\n",
      "    grid = BlockGrid(n, m, fill=(0,0,0), block_size=size, lines_on=False)\n",
      "    count=0\n",
      "    for block in grid:\n",
      "        num=rand.random()\n",
      "        if num>=dist and num!=0.5:\n",
      "            block.rgb = (255,255,255)\n",
      "    return grid"
     ],
     "language": "python",
     "metadata": {},
     "outputs": [],
     "prompt_number": 10
    },
    {
     "cell_type": "code",
     "collapsed": false,
     "input": [
      "def nghbr_spins(grid,i,j,ishape,jshape,S,ints):\n",
      "    nS=0\n",
      "    for n in range(0,ints):\n",
      "        ishift,jshift=i+int(round(np.cos((2*n*np.pi)/ints),0)),j+int(round(np.sin((2*n*np.pi)/ints),0))\n",
      "        if ishift!=ishape and jshift!=jshape:\n",
      "            nS+=spin(grid[ishift,jshift].rgb)\n",
      "        else:\n",
      "            if i==ishape:\n",
      "                nS+=spin(grid[0,jshift].rgb)\n",
      "            if j==jshape:\n",
      "                nS+=spin(grid[ishift,0].rgb)\n",
      "    return nS"
     ],
     "language": "python",
     "metadata": {},
     "outputs": [],
     "prompt_number": 11
    },
    {
     "cell_type": "code",
     "collapsed": false,
     "input": [
      "def spin(rgb):\n",
      "    if rgb==(255,255,255):\n",
      "        return -1\n",
      "    else:\n",
      "        return 1"
     ],
     "language": "python",
     "metadata": {},
     "outputs": [],
     "prompt_number": 12
    },
    {
     "cell_type": "code",
     "collapsed": false,
     "input": [
      "def flip(grid,T,ishape,jshape,ints):\n",
      "    \n",
      "    i=rand.randrange(0,ishape)\n",
      "    j=rand.randrange(0,jshape)\n",
      "    rgb_S=grid[i,j].rgb\n",
      "    S=spin(rgb_S)\n",
      "    nS=nghbr_spins(grid,i,j,ishape,jshape,S,ints)\n",
      "\n",
      "    U_diff=2*S*nS\n",
      "    if U_diff<=0:\n",
      "        return 1,U_diff\n",
      "    else:\n",
      "        if rand.random()<np.exp(-U_diff/T):\n",
      "            return 1,U_diff\n",
      "        else:\n",
      "            return 0,U_diff"
     ],
     "language": "python",
     "metadata": {},
     "outputs": [],
     "prompt_number": 13
    },
    {
     "cell_type": "code",
     "collapsed": false,
     "input": [
      "def do_ising(grid,T):\n",
      "    \n",
      "    T=float(T)\n",
      "    flip_grid=[]\n",
      "    ishape=grid.shape[1]\n",
      "    jshape=grid.shape[0]\n",
      "    Uavg_l=[]\n",
      "    U2avg_l=[]\n",
      "    Savg_l=[]\n",
      "    \n",
      "    for i in range(ishape):\n",
      "        row=[]\n",
      "        for j in range(jshape):\n",
      "            f,u=flip(grid,i,j,ishape,jshape,T)[0]\n",
      "            row.append(f)\n",
      "            Uavg_l.append(u)\n",
      "            U2avg_l.append(u**2)\n",
      "            Savg_l.append(spin(grid[i,j].rgb))\n",
      "        flip_grid.append(row)\n",
      "        \n",
      "    flip_grid=np.array(flip_grid)\n",
      "    \n",
      "    for i in range(ishape):\n",
      "        for j in range(jshape):\n",
      "            nF=0\n",
      "            for n in range(0,ints):\n",
      "                ishift,jshift=i+int(round(np.cos((2*n*np.pi)/ints),0)),j+int(round(np.sin((2*n*np.pi)/ints),0))\n",
      "                if ishift!=ishape and jshift!=jshape:\n",
      "                    if flip_grid[ishape,jshape] == 1:\n",
      "                        nF+=1\n",
      "                else:\n",
      "                    if i==ishape:\n",
      "                        if flip_grid[0,jshape] == 1:\n",
      "                            nF+=1\n",
      "                    if j==jshape:\n",
      "                        if flip_grid[ishape,0] == 1:\n",
      "                            nF+=1\n",
      "            if rand.random()<float(nF)/ints:\n",
      "                flip_grid[i,j]=0\n",
      "    \n",
      "    for i in range(ishape):\n",
      "        for j in range(jshape):\n",
      "            if flip_grid[i,j]==1:\n",
      "                grid[i,j].rgb=abs(np.array(grid[i,j].rgb)-255)\n",
      "    return grid"
     ],
     "language": "python",
     "metadata": {},
     "outputs": [],
     "prompt_number": 14
    },
    {
     "cell_type": "markdown",
     "metadata": {},
     "source": [
      "GIF making code\n",
      "---"
     ]
    },
    {
     "cell_type": "code",
     "collapsed": false,
     "input": [
      "def grid_to_rgb(grid):\n",
      "    png=[]\n",
      "    ishape=grid.shape[0]\n",
      "    jshape=grid.shape[1]\n",
      "    for i in range(ishape):\n",
      "        col=[]\n",
      "        for j in range(jshape):\n",
      "            col.append(grid[j,i].rgb)\n",
      "        png.append(col)\n",
      "    png=np.array(png)\n",
      "    return png"
     ],
     "language": "python",
     "metadata": {},
     "outputs": [],
     "prompt_number": 15
    },
    {
     "cell_type": "code",
     "collapsed": false,
     "input": [
      "def make_png(array,directory,filename):\n",
      "    newimage = Image.new('RGB', (len(array[0]), len(array)))  # type, size\n",
      "    newimage.putdata([tuple(pixel) for row in array for pixel in row])\n",
      "    newimage.save(directory+'/'+filename)  # takes type from filename extension"
     ],
     "language": "python",
     "metadata": {},
     "outputs": [],
     "prompt_number": 16
    },
    {
     "cell_type": "code",
     "collapsed": false,
     "input": [
      "def make_frames(num_frames,directory,grid_size,init_dist,T):\n",
      "    \n",
      "    grid=grid_init(grid_size,grid_size,init_dist,1)\n",
      "    array=grid_to_rgb(grid)\n",
      "    make_png(array,directory,'frame0.png')\n",
      "    for i in range(1,num_frames):\n",
      "        grid=do_ising(grid,T)\n",
      "        array=grid_to_rgb(grid)\n",
      "        make_png(array,directory,'frame{0}.png'.format(i))"
     ],
     "language": "python",
     "metadata": {},
     "outputs": [],
     "prompt_number": 17
    },
    {
     "cell_type": "code",
     "collapsed": false,
     "input": [
      "def natural_sort(l): \n",
      "    convert = lambda text: int(text) if text.isdigit() else text.lower() \n",
      "    alphanum_key = lambda key: [ convert(c) for c in re.split('([0-9]+)', key) ] \n",
      "    return sorted(l, key = alphanum_key)"
     ],
     "language": "python",
     "metadata": {},
     "outputs": [],
     "prompt_number": 18
    },
    {
     "cell_type": "code",
     "collapsed": false,
     "input": [
      "def make_gif(filename,duration,directory,file_end,im_dimensions):\n",
      "    file_names = sorted((fn for fn in os.listdir(directory) if fn.endswith(file_end)))\n",
      "    #['frame0.png', 'frame1.png', 'frame2.png', ...] \"\n",
      "    file_names=natural_sort(file_names)\n",
      "    images = [Image.open(directory+'/'+fn) for fn in file_names]\n",
      "    \n",
      "    for im in images:\n",
      "        im.thumbnail(im_dimensions, Image.ANTIALIAS)\n",
      "\n",
      "    writeGif(filename, images, duration)"
     ],
     "language": "python",
     "metadata": {},
     "outputs": [],
     "prompt_number": 8
    },
    {
     "cell_type": "markdown",
     "metadata": {},
     "source": [
      "Writing GIF's\n",
      "---"
     ]
    },
    {
     "cell_type": "code",
     "collapsed": false,
     "input": [
      "make_frames(160,'ising_pngs',100,0.5,0.5)\n",
      "make_gif('ISING_GIFS_MOD1/ising_Teq0.50.GIF',0.05,'ising_pngs','.png',(300,300))"
     ],
     "language": "python",
     "metadata": {},
     "outputs": []
    }
   ],
   "metadata": {}
  }
 ]
}